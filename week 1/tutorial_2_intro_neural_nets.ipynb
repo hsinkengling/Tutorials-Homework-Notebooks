{
 "cells": [
  {
   "cell_type": "markdown",
   "metadata": {
    "id": "cYMn54Cb4g6q"
   },
   "source": [
    "# Thinking with Deep Learning: Week 1 Part 2\n",
    "# Introducing Deep Learning\n",
    "\n",
    "__Instructor:__ James Evans\n",
    "\n",
    "__Notebook Author:__ Bhargav Srinivasa Desikan\n",
    "\n",
    "__Teaching Assistants & Course Organizers:__ Likun Cao & Partha Kadambi "
   ]
  },
  {
   "cell_type": "markdown",
   "metadata": {
    "id": "GJ1K0PGs843F"
   },
   "source": [
    "This notebook will demonstrate how to whip up simple shallow and deep neural networks in both Keras and PyTorch, and how these fit into our larger machine learning pipelines. The purpose of this tutorial is to get you up and running in building a simple neural network for classification in Keras and PyTorch, two popular deep learning packages. We will focus on constructing a network, and performing inference using the network. \n",
    "\n",
    "### Why Keras AND PyTorch\n",
    "\n",
    "**Keras** is a high-level package and enables rapid plug & play. It elegantly represents the building blocks of a neural network, so we will lead with it in this section. Developed by an ex-Google engineer, its emphasis is its ability to rapidly prototype neural networks while also being integrated into the second-generation Tensorflow ecosystem (described below). Unlike other packages which might have their own computational engine, Keras runs on top of others, such as Tensorflow, Theano or MXNet. While it shines in its ability deep learning newbies to start right away, it loses points for lack of low-level flexibility.\n",
    "\n",
    "**PyTorch** offers a lower-level approach with more flexibility, surfacing more controls for the mature user. Because we focus on the representations learned during training, we prefer PyTorch because it gives us customized control over these representations… but for a simple classification task, keras can often do the trick. We will include PyTorch examples of the same network, side-by-side, to introduce its syntax. Developed by Facebook AI, PyTorch has quickly become one of the most used and supported deep learning packages, particularly by the deep learning research community for its ease of debugging and ability to easily conjure up complex models. Deep learning frameworks require a “computational engine” to function, specifically to train deep learning models. PyTorch does this with a dynamic computational graph that uses a “define-by-run” logic, which connects all parts of a neural model in terms of the data objects passed and computations done on them. You’ll see examples of this throughout.\n",
    "\n",
    "### imports and data\n",
    "\n",
    "For our examples, we will be using toy, generated data. This helps us in being more precise with what our models are doing. A common machine learning paradigm is classification, where we are given labelled data: an input, and an output class. We will be making such a classification dataset using scikit-learns make dataset functionality."
   ]
  },
  {
   "cell_type": "code",
   "execution_count": 1,
   "metadata": {
    "id": "UhQJA3pM843O"
   },
   "outputs": [],
   "source": [
    "import sklearn.datasets\n",
    "import sklearn.model_selection"
   ]
  },
  {
   "cell_type": "code",
   "execution_count": 2,
   "metadata": {
    "id": "OWfgaaU0ID9p"
   },
   "outputs": [],
   "source": [
    "import matplotlib.pyplot as plt\n"
   ]
  },
  {
   "cell_type": "code",
   "execution_count": 3,
   "metadata": {
    "colab": {
     "base_uri": "https://localhost:8080/",
     "height": 168
    },
    "id": "3T2uX3kMH5qo",
    "outputId": "d2546d00-b94f-4939-f3ec-e97564f3e518"
   },
   "outputs": [
    {
     "data": {
      "image/png": "[encoded data removed]",
      "text/plain": [
       "<Figure size 720x216 with 4 Axes>"
      ]
     },
     "metadata": {
      "needs_background": "light"
     },
     "output_type": "display_data"
    }
   ],
   "source": [
    "digits = sklearn.datasets.load_digits()\n",
    "\n",
    "_, axes = plt.subplots(nrows=1, ncols=4, figsize=(10, 3))\n",
    "for ax, image, label in zip(axes, digits.images, digits.target):\n",
    "    ax.set_axis_off()\n",
    "    ax.imshow(image, cmap=plt.cm.gray_r, interpolation='nearest')\n",
    "    ax.set_title('Training: %i' % label)"
   ]
  },
  {
   "cell_type": "code",
   "execution_count": 4,
   "metadata": {
    "id": "jNjOW5ynIJe4"
   },
   "outputs": [],
   "source": [
    "# flatten the images\n",
    "n_samples = len(digits.images)\n",
    "data = digits.images.reshape((n_samples, -1))\n",
    "\n",
    "# Split data into 50% train and 50% test subsets\n",
    "X_train, X_test, y_train, y_test = sklearn.model_selection.train_test_split(\n",
    "    data, digits.target, test_size=0.5, shuffle=False)"
   ]
  },
  {
   "cell_type": "markdown",
   "metadata": {
    "id": "ZX9evr8f843T"
   },
   "source": [
    "Here, we generated a dataset of size 100, with 20 fearures, based on a Gaussian process where there are two 'classes'.\n",
    "Our machine learning algorithm is performing well if it can correctly identify if an input belongs to the class it is labelled as.\n",
    "\n",
    "For our models to train, it needs to be split into a training and testing dataset."
   ]
  },
  {
   "cell_type": "code",
   "execution_count": 5,
   "metadata": {
    "id": "oVHFW8zJ843T"
   },
   "outputs": [],
   "source": [
    "# X_train, X_test, y_train, y_test = sklearn.model_selection.train_test_split(X, y)"
   ]
  },
  {
   "cell_type": "markdown",
   "metadata": {
    "id": "p8eefRdN843U"
   },
   "source": [
    "Let us train a simple model and see how well it does on this task. Logistic regression is a popular task for classification."
   ]
  },
  {
   "cell_type": "code",
   "execution_count": 6,
   "metadata": {
    "id": "AP4HLQc_843U"
   },
   "outputs": [],
   "source": [
    "import sklearn.linear_model"
   ]
  },
  {
   "cell_type": "code",
   "execution_count": 7,
   "metadata": {
    "id": "Ui0KHHLe843U"
   },
   "outputs": [],
   "source": [
    "logreg = sklearn.linear_model.LogisticRegression()"
   ]
  },
  {
   "cell_type": "code",
   "execution_count": 8,
   "metadata": {
    "colab": {
     "base_uri": "https://localhost:8080/"
    },
    "id": "8wHlzfoa843U",
    "outputId": "03beb9f5-c43d-4d20-82c1-1b7becb7327d"
   },
   "outputs": [
    {
     "name": "stderr",
     "output_type": "stream",
     "text": [
      "/usr/local/lib/python3.7/dist-packages/sklearn/linear_model/_logistic.py:818: ConvergenceWarning: lbfgs failed to converge (status=1):\n",
      "STOP: TOTAL NO. of ITERATIONS REACHED LIMIT.\n",
      "\n",
      "Increase the number of iterations (max_iter) or scale the data as shown in:\n",
      "    https://scikit-learn.org/stable/modules/preprocessing.html\n",
      "Please also refer to the documentation for alternative solver options:\n",
      "    https://scikit-learn.org/stable/modules/linear_model.html#logistic-regression\n",
      "  extra_warning_msg=_LOGISTIC_SOLVER_CONVERGENCE_MSG,\n"
     ]
    },
    {
     "data": {
      "text/plain": [
       "LogisticRegression()"
      ]
     },
     "execution_count": 8,
     "metadata": {},
     "output_type": "execute_result"
    }
   ],
   "source": [
    "logreg.fit(X_train, y_train)"
   ]
  },
  {
   "cell_type": "code",
   "execution_count": 9,
   "metadata": {
    "colab": {
     "base_uri": "https://localhost:8080/"
    },
    "id": "le8Lot2y843V",
    "outputId": "fe10e403-85e3-4fcf-9540-1338ca4b57ce"
   },
   "outputs": [
    {
     "data": {
      "text/plain": [
       "array([8, 6, 4, 8, 0, 8, 9, 1, 1, 2, 3, 4, 5, 6, 7, 8, 9, 0, 1, 2, 3, 4,\n",
       "       5, 6, 5, 8, 9, 0, 1, 2, 3, 4, 9, 6, 7, 8, 9, 0, 9, 5, 5, 6, 5, 0,\n",
       "       9, 8, 9, 8, 4, 1, 7, 7, 3, 9, 1, 2, 7, 8, 2, 0, 1, 2, 6, 3, 3, 7,\n",
       "       3, 3, 4, 6, 6, 6, 4, 9, 1, 5, 0, 9, 5, 2, 8, 2, 0, 0, 1, 7, 6, 3,\n",
       "       2, 1, 4, 6, 3, 1, 3, 9, 1, 7, 6, 8, 4, 3, 1, 4, 0, 5, 3, 6, 9, 6,\n",
       "       1, 7, 5, 4, 4, 7, 2, 8, 2, 2, 9, 7, 9, 5, 4, 4, 9, 0, 8, 9, 8, 0,\n",
       "       1, 2, 3, 4, 5, 6, 7, 8, 9, 0, 1, 2, 3, 4, 5, 6, 7, 8, 9, 0, 1, 2,\n",
       "       3, 4, 5, 6, 7, 8, 9, 0, 9, 5, 5, 6, 5, 0, 9, 8, 9, 8, 4, 1, 7, 7,\n",
       "       3, 5, 1, 0, 0, 7, 8, 2, 0, 1, 2, 6, 3, 3, 7, 3, 3, 4, 6, 6, 6, 9,\n",
       "       9, 1, 5, 0, 9, 5, 2, 8, 2, 0, 0, 1, 7, 6, 3, 2, 1, 7, 4, 6, 3, 1,\n",
       "       9, 9, 1, 7, 6, 8, 4, 9, 1, 4, 0, 5, 3, 6, 9, 6, 1, 7, 5, 4, 4, 7,\n",
       "       2, 8, 2, 2, 5, 7, 9, 5, 4, 1, 8, 4, 9, 0, 8, 9, 8, 0, 1, 2, 3, 4,\n",
       "       5, 6, 7, 8, 9, 0, 1, 2, 3, 4, 5, 6, 7, 8, 9, 0, 1, 2, 3, 4, 5, 6,\n",
       "       7, 8, 9, 0, 9, 5, 5, 6, 5, 0, 9, 5, 9, 5, 4, 1, 7, 7, 5, 5, 1, 0,\n",
       "       0, 2, 2, 7, 8, 2, 0, 1, 2, 6, 3, 3, 7, 3, 3, 4, 6, 6, 6, 4, 9, 1,\n",
       "       5, 0, 9, 5, 2, 8, 2, 0, 0, 1, 7, 6, 3, 2, 1, 7, 4, 6, 3, 1, 3, 9,\n",
       "       1, 7, 6, 8, 4, 3, 8, 4, 0, 5, 3, 6, 9, 6, 8, 7, 5, 4, 4, 7, 2, 8,\n",
       "       2, 2, 5, 7, 9, 5, 4, 8, 8, 4, 9, 0, 8, 9, 8, 0, 5, 2, 3, 4, 5, 6,\n",
       "       7, 8, 9, 0, 1, 2, 3, 6, 5, 6, 7, 8, 9, 0, 1, 2, 3, 6, 5, 6, 7, 8,\n",
       "       9, 0, 9, 5, 5, 6, 5, 0, 9, 8, 9, 8, 4, 1, 7, 7, 3, 5, 1, 0, 0, 2,\n",
       "       3, 7, 8, 2, 0, 1, 2, 6, 3, 3, 7, 3, 3, 6, 6, 6, 6, 4, 9, 1, 5, 0,\n",
       "       9, 6, 2, 8, 3, 0, 0, 1, 7, 6, 3, 2, 1, 7, 4, 6, 3, 1, 3, 9, 1, 7,\n",
       "       6, 8, 6, 3, 1, 4, 0, 5, 3, 6, 9, 6, 1, 7, 5, 4, 4, 7, 2, 8, 2, 2,\n",
       "       5, 7, 9, 5, 4, 8, 8, 4, 0, 0, 8, 0, 1, 2, 3, 4, 5, 6, 7, 8, 9, 0,\n",
       "       1, 2, 3, 4, 5, 6, 7, 8, 9, 0, 1, 2, 3, 4, 5, 6, 7, 8, 9, 0, 9, 5,\n",
       "       5, 6, 5, 0, 9, 8, 9, 8, 4, 1, 7, 7, 3, 5, 1, 0, 0, 2, 2, 7, 8, 2,\n",
       "       0, 9, 2, 6, 3, 3, 7, 3, 3, 4, 6, 6, 6, 4, 9, 9, 5, 0, 9, 5, 2, 2,\n",
       "       2, 0, 0, 9, 7, 6, 3, 2, 3, 7, 4, 6, 3, 1, 3, 9, 1, 7, 6, 8, 4, 3,\n",
       "       9, 4, 0, 5, 3, 6, 9, 6, 9, 7, 5, 4, 4, 7, 2, 5, 2, 2, 5, 7, 9, 5,\n",
       "       4, 8, 8, 4, 9, 0, 8, 9, 8, 0, 1, 2, 3, 4, 5, 1, 9, 1, 9, 0, 1, 2,\n",
       "       3, 4, 5, 6, 9, 0, 1, 2, 3, 4, 5, 6, 7, 5, 9, 4, 9, 1, 5, 6, 5, 0,\n",
       "       9, 8, 5, 8, 4, 1, 7, 7, 3, 5, 1, 6, 0, 2, 2, 7, 8, 2, 6, 1, 2, 6,\n",
       "       8, 7, 7, 7, 8, 4, 6, 6, 6, 9, 9, 1, 5, 6, 9, 5, 2, 8, 0, 1, 7, 6,\n",
       "       3, 2, 1, 7, 9, 6, 3, 1, 3, 9, 1, 9, 6, 8, 4, 3, 1, 4, 0, 5, 3, 6,\n",
       "       3, 6, 1, 7, 5, 4, 4, 7, 2, 2, 5, 7, 3, 5, 9, 4, 5, 0, 8, 9, 8, 0,\n",
       "       1, 2, 3, 4, 5, 6, 7, 8, 9, 0, 1, 2, 8, 4, 5, 6, 7, 8, 9, 0, 1, 2,\n",
       "       5, 4, 5, 6, 7, 8, 9, 0, 9, 5, 5, 6, 5, 0, 9, 8, 9, 8, 4, 1, 7, 7,\n",
       "       8, 5, 1, 0, 0, 2, 2, 7, 8, 2, 0, 1, 2, 6, 8, 8, 7, 5, 8, 4, 6, 6,\n",
       "       6, 4, 9, 1, 5, 0, 9, 5, 2, 8, 2, 0, 0, 1, 7, 6, 3, 2, 1, 4, 4, 6,\n",
       "       3, 1, 3, 9, 1, 7, 6, 8, 4, 5, 1, 4, 0, 5, 3, 6, 9, 6, 1, 7, 5, 4,\n",
       "       4, 7, 2, 8, 2, 2, 5, 7, 9, 5, 4, 8, 8, 4, 9, 0, 8, 9, 8])"
      ]
     },
     "execution_count": 9,
     "metadata": {},
     "output_type": "execute_result"
    }
   ],
   "source": [
    "logreg.predict(X_test)"
   ]
  },
  {
   "cell_type": "code",
   "execution_count": 10,
   "metadata": {
    "colab": {
     "base_uri": "https://localhost:8080/"
    },
    "id": "hF6tMQ0M843V",
    "outputId": "abd68159-94da-43ce-b796-2235f1b2ac9f"
   },
   "outputs": [
    {
     "data": {
      "text/plain": [
       "0.9299221357063404"
      ]
     },
     "execution_count": 10,
     "metadata": {},
     "output_type": "execute_result"
    }
   ],
   "source": [
    "sklearn.metrics.accuracy_score(y_test, logreg.predict(X_test))"
   ]
  },
  {
   "cell_type": "markdown",
   "metadata": {
    "id": "lfdIxaLl843V"
   },
   "source": [
    "Not terrible, but not exactly a good accuracy score. Let's now turn to neural networks with the hope that added depth can do a better job at approximating the complext function behind the data generation process. We will be using the same dataset.\n",
    "\n",
    "## Single layer net in Keras\n",
    "\n",
    "We will start with Keras for building a neural network. [Keras](https://keras.io/) is a very popular choice for building neural networks which have a high level of abstraction. Keras is also tightly integrated with another popular deep learning package, Tensorflow, which is the core of its computational process. One of the big advantages of Keras is how easy it is to start building a model."
   ]
  },
  {
   "cell_type": "code",
   "execution_count": 11,
   "metadata": {
    "id": "XZGvM6oS843W"
   },
   "outputs": [],
   "source": [
    "## Keras\n",
    "import keras\n",
    "import tensorflow as tf\n",
    "import numpy as np"
   ]
  },
  {
   "cell_type": "code",
   "execution_count": 12,
   "metadata": {
    "id": "Ath_Xbk4iuW3"
   },
   "outputs": [],
   "source": [
    "from keras.layers import Dense"
   ]
  },
  {
   "cell_type": "code",
   "execution_count": 13,
   "metadata": {
    "id": "IhdgRrWCiuW3"
   },
   "outputs": [],
   "source": [
    "from keras.models import Sequential"
   ]
  },
  {
   "cell_type": "markdown",
   "metadata": {
    "id": "MV65ntQn843W"
   },
   "source": [
    "Keras makes creating deep learning models really easy. Here is one with only one hidden layer with 20 units, taking an input with 20 features. It uses relu activation for the first layer, which is often used for hidden layers. "
   ]
  },
  {
   "cell_type": "code",
   "execution_count": 14,
   "metadata": {
    "id": "xi1-9Gdj843W"
   },
   "outputs": [],
   "source": [
    "model = Sequential()"
   ]
  },
  {
   "cell_type": "code",
   "execution_count": 15,
   "metadata": {
    "id": "Lhz65J3YiuW4"
   },
   "outputs": [],
   "source": [
    "model.add(Dense(200, input_dim=64, activation='relu'))"
   ]
  },
  {
   "cell_type": "markdown",
   "metadata": {
    "id": "zHFhBOBciuW4"
   },
   "source": [
    "We then use a sigmoid activation for the last layer to make its prediction, because it is a classification problem.\n",
    "\n",
    "For more activation functions: https://keras.io/api/layers/activations/"
   ]
  },
  {
   "cell_type": "code",
   "execution_count": 16,
   "metadata": {
    "id": "nA7SU5WxiuW5"
   },
   "outputs": [],
   "source": [
    "model.add(Dense(10, activation='softmax'))"
   ]
  },
  {
   "cell_type": "markdown",
   "metadata": {
    "id": "48tmjktGiuW5"
   },
   "source": [
    "The loss is binary cross entropy which is commonly used for prediction problems, and the ADAM optimiser. \n",
    "\n",
    "For more losses:https://keras.io/api/losses/\n",
    "\n",
    "For more optimisers: https://keras.io/api/optimizers/"
   ]
  },
  {
   "cell_type": "code",
   "execution_count": 17,
   "metadata": {
    "id": "IMv6E1gF843W"
   },
   "outputs": [],
   "source": [
    "model.compile(loss=keras.losses.SparseCategoricalCrossentropy(from_logits=True), metrics=keras.metrics.SparseCategoricalAccuracy(), optimizer=\"adam\")"
   ]
  },
  {
   "cell_type": "markdown",
   "metadata": {
    "id": "lQE3LC1PiuW6"
   },
   "source": [
    "The compile function configures the model for training, and we fit the model in the next line. The history variable stores information about the training process. "
   ]
  },
  {
   "cell_type": "code",
   "execution_count": 18,
   "metadata": {
    "colab": {
     "base_uri": "https://localhost:8080/"
    },
    "id": "65Amy0LGKGUL",
    "outputId": "a56fcc14-d165-45ab-eee3-d0c2155d3846"
   },
   "outputs": [
    {
     "data": {
      "text/plain": [
       "64"
      ]
     },
     "execution_count": 18,
     "metadata": {},
     "output_type": "execute_result"
    }
   ],
   "source": [
    "len(X_train[0])"
   ]
  },
  {
   "cell_type": "code",
   "execution_count": 19,
   "metadata": {
    "colab": {
     "base_uri": "https://localhost:8080/"
    },
    "id": "AWZ4uFxA843X",
    "outputId": "d9ad3b9e-0213-44b9-dfa6-843bab225f60",
    "scrolled": false
   },
   "outputs": [
    {
     "name": "stdout",
     "output_type": "stream",
     "text": [
      "Epoch 1/200\n"
     ]
    },
    {
     "name": "stderr",
     "output_type": "stream",
     "text": [
      "/usr/local/lib/python3.7/dist-packages/tensorflow/python/util/dispatch.py:1082: UserWarning: \"`sparse_categorical_crossentropy` received `from_logits=True`, but the `output` argument was produced by a sigmoid or softmax activation and thus does not represent logits. Was this intended?\"\n",
      "  return dispatch_target(*args, **kwargs)\n"
     ]
    },
    {
     "name": "stdout",
     "output_type": "stream",
     "text": [
      "29/29 [==============================] - 4s 4ms/step - loss: 2.1799 - sparse_categorical_accuracy: 0.4800\n",
      "Epoch 2/200\n",
      "29/29 [==============================] - 0s 3ms/step - loss: 0.3841 - sparse_categorical_accuracy: 0.8563\n",
      "Epoch 3/200\n",
      "29/29 [==============================] - 0s 3ms/step - loss: 0.1756 - sparse_categorical_accuracy: 0.9499\n",
      "Epoch 4/200\n",
      "29/29 [==============================] - 0s 3ms/step - loss: 0.1049 - sparse_categorical_accuracy: 0.9777\n",
      "Epoch 5/200\n",
      "29/29 [==============================] - 0s 3ms/step - loss: 0.0716 - sparse_categorical_accuracy: 0.9889\n",
      "Epoch 6/200\n",
      "29/29 [==============================] - 0s 3ms/step - loss: 0.0568 - sparse_categorical_accuracy: 0.9933\n",
      "Epoch 7/200\n",
      "29/29 [==============================] - 0s 5ms/step - loss: 0.0433 - sparse_categorical_accuracy: 0.9933\n",
      "Epoch 8/200\n",
      "29/29 [==============================] - 0s 4ms/step - loss: 0.0353 - sparse_categorical_accuracy: 0.9967\n",
      "Epoch 9/200\n",
      "29/29 [==============================] - 0s 3ms/step - loss: 0.0276 - sparse_categorical_accuracy: 0.9955\n",
      "Epoch 10/200\n",
      "29/29 [==============================] - 0s 4ms/step - loss: 0.0230 - sparse_categorical_accuracy: 0.9978\n",
      "Epoch 11/200\n",
      "29/29 [==============================] - 0s 3ms/step - loss: 0.0197 - sparse_categorical_accuracy: 0.9978\n",
      "Epoch 12/200\n",
      "29/29 [==============================] - 0s 8ms/step - loss: 0.0169 - sparse_categorical_accuracy: 0.9989\n",
      "Epoch 13/200\n",
      "29/29 [==============================] - 0s 3ms/step - loss: 0.0161 - sparse_categorical_accuracy: 0.9989\n",
      "Epoch 14/200\n",
      "29/29 [==============================] - 0s 3ms/step - loss: 0.0122 - sparse_categorical_accuracy: 1.0000\n",
      "Epoch 15/200\n",
      "29/29 [==============================] - 0s 4ms/step - loss: 0.0102 - sparse_categorical_accuracy: 1.0000\n",
      "Epoch 16/200\n",
      "29/29 [==============================] - 0s 4ms/step - loss: 0.0127 - sparse_categorical_accuracy: 1.0000\n",
      "Epoch 17/200\n",
      "29/29 [==============================] - 0s 4ms/step - loss: 0.0107 - sparse_categorical_accuracy: 1.0000\n",
      "Epoch 18/200\n",
      "29/29 [==============================] - 0s 4ms/step - loss: 0.0077 - sparse_categorical_accuracy: 1.0000\n",
      "Epoch 19/200\n",
      "29/29 [==============================] - 0s 4ms/step - loss: 0.0068 - sparse_categorical_accuracy: 1.0000\n",
      "Epoch 20/200\n",
      "29/29 [==============================] - 0s 3ms/step - loss: 0.0062 - sparse_categorical_accuracy: 1.0000\n",
      "Epoch 21/200\n",
      "29/29 [==============================] - 0s 4ms/step - loss: 0.0056 - sparse_categorical_accuracy: 1.0000\n",
      "Epoch 22/200\n",
      "29/29 [==============================] - 0s 4ms/step - loss: 0.0052 - sparse_categorical_accuracy: 1.0000\n",
      "Epoch 23/200\n",
      "29/29 [==============================] - 0s 4ms/step - loss: 0.0047 - sparse_categorical_accuracy: 1.0000\n",
      "Epoch 24/200\n",
      "29/29 [==============================] - 0s 4ms/step - loss: 0.0061 - sparse_categorical_accuracy: 1.0000\n",
      "Epoch 25/200\n",
      "29/29 [==============================] - 0s 4ms/step - loss: 0.0048 - sparse_categorical_accuracy: 1.0000\n",
      "Epoch 26/200\n",
      "29/29 [==============================] - 0s 3ms/step - loss: 0.0037 - sparse_categorical_accuracy: 1.0000\n",
      "Epoch 27/200\n",
      "29/29 [==============================] - 0s 5ms/step - loss: 0.0035 - sparse_categorical_accuracy: 1.0000\n",
      "Epoch 28/200\n",
      "29/29 [==============================] - 0s 4ms/step - loss: 0.0031 - sparse_categorical_accuracy: 1.0000\n",
      "Epoch 29/200\n",
      "29/29 [==============================] - 0s 4ms/step - loss: 0.0030 - sparse_categorical_accuracy: 1.0000\n",
      "Epoch 30/200\n",
      "29/29 [==============================] - 0s 3ms/step - loss: 0.0029 - sparse_categorical_accuracy: 1.0000\n",
      "Epoch 31/200\n",
      "29/29 [==============================] - 0s 4ms/step - loss: 0.0026 - sparse_categorical_accuracy: 1.0000\n",
      "Epoch 32/200\n",
      "29/29 [==============================] - 0s 3ms/step - loss: 0.0024 - sparse_categorical_accuracy: 1.0000\n",
      "Epoch 33/200\n",
      "29/29 [==============================] - 0s 3ms/step - loss: 0.0023 - sparse_categorical_accuracy: 1.0000\n",
      "Epoch 34/200\n",
      "29/29 [==============================] - 0s 4ms/step - loss: 0.0022 - sparse_categorical_accuracy: 1.0000\n",
      "Epoch 35/200\n",
      "29/29 [==============================] - 0s 3ms/step - loss: 0.0021 - sparse_categorical_accuracy: 1.0000\n",
      "Epoch 36/200\n",
      "29/29 [==============================] - 0s 4ms/step - loss: 0.0020 - sparse_categorical_accuracy: 1.0000\n",
      "Epoch 37/200\n",
      "29/29 [==============================] - 0s 3ms/step - loss: 0.0019 - sparse_categorical_accuracy: 1.0000\n",
      "Epoch 38/200\n",
      "29/29 [==============================] - 0s 3ms/step - loss: 0.0017 - sparse_categorical_accuracy: 1.0000\n",
      "Epoch 39/200\n",
      "29/29 [==============================] - 0s 3ms/step - loss: 0.0017 - sparse_categorical_accuracy: 1.0000\n",
      "Epoch 40/200\n",
      "29/29 [==============================] - 0s 4ms/step - loss: 0.0019 - sparse_categorical_accuracy: 1.0000\n",
      "Epoch 41/200\n",
      "29/29 [==============================] - 0s 3ms/step - loss: 0.0016 - sparse_categorical_accuracy: 1.0000\n",
      "Epoch 42/200\n",
      "29/29 [==============================] - 0s 3ms/step - loss: 0.0015 - sparse_categorical_accuracy: 1.0000\n",
      "Epoch 43/200\n",
      "29/29 [==============================] - 0s 4ms/step - loss: 0.0014 - sparse_categorical_accuracy: 1.0000\n",
      "Epoch 44/200\n",
      "29/29 [==============================] - 0s 4ms/step - loss: 0.0013 - sparse_categorical_accuracy: 1.0000\n",
      "Epoch 45/200\n",
      "29/29 [==============================] - 0s 3ms/step - loss: 0.0015 - sparse_categorical_accuracy: 1.0000\n",
      "Epoch 46/200\n",
      "29/29 [==============================] - 0s 3ms/step - loss: 0.0019 - sparse_categorical_accuracy: 1.0000\n",
      "Epoch 47/200\n",
      "29/29 [==============================] - 0s 4ms/step - loss: 0.0012 - sparse_categorical_accuracy: 1.0000\n",
      "Epoch 48/200\n",
      "29/29 [==============================] - 0s 5ms/step - loss: 0.0011 - sparse_categorical_accuracy: 1.0000\n",
      "Epoch 49/200\n",
      "29/29 [==============================] - 0s 6ms/step - loss: 0.0010 - sparse_categorical_accuracy: 1.0000\n",
      "Epoch 50/200\n",
      "29/29 [==============================] - 0s 6ms/step - loss: 9.8298e-04 - sparse_categorical_accuracy: 1.0000\n",
      "Epoch 51/200\n",
      "29/29 [==============================] - 0s 7ms/step - loss: 9.5831e-04 - sparse_categorical_accuracy: 1.0000\n",
      "Epoch 52/200\n",
      "29/29 [==============================] - 0s 5ms/step - loss: 9.5027e-04 - sparse_categorical_accuracy: 1.0000\n",
      "Epoch 53/200\n",
      "29/29 [==============================] - 0s 3ms/step - loss: 0.0012 - sparse_categorical_accuracy: 1.0000\n",
      "Epoch 54/200\n",
      "29/29 [==============================] - 0s 4ms/step - loss: 9.1329e-04 - sparse_categorical_accuracy: 1.0000\n",
      "Epoch 55/200\n",
      "29/29 [==============================] - 0s 5ms/step - loss: 7.9018e-04 - sparse_categorical_accuracy: 1.0000\n",
      "Epoch 56/200\n",
      "29/29 [==============================] - 0s 3ms/step - loss: 7.6957e-04 - sparse_categorical_accuracy: 1.0000\n",
      "Epoch 57/200\n",
      "29/29 [==============================] - 0s 4ms/step - loss: 7.3046e-04 - sparse_categorical_accuracy: 1.0000\n",
      "Epoch 58/200\n",
      "29/29 [==============================] - 0s 3ms/step - loss: 7.0960e-04 - sparse_categorical_accuracy: 1.0000\n",
      "Epoch 59/200\n",
      "29/29 [==============================] - 0s 4ms/step - loss: 6.8952e-04 - sparse_categorical_accuracy: 1.0000\n",
      "Epoch 60/200\n",
      "29/29 [==============================] - 0s 3ms/step - loss: 7.1883e-04 - sparse_categorical_accuracy: 1.0000\n",
      "Epoch 61/200\n",
      "29/29 [==============================] - 0s 4ms/step - loss: 6.4849e-04 - sparse_categorical_accuracy: 1.0000\n",
      "Epoch 62/200\n",
      "29/29 [==============================] - 0s 4ms/step - loss: 6.2779e-04 - sparse_categorical_accuracy: 1.0000\n",
      "Epoch 63/200\n",
      "29/29 [==============================] - 0s 5ms/step - loss: 6.1284e-04 - sparse_categorical_accuracy: 1.0000\n",
      "Epoch 64/200\n",
      "29/29 [==============================] - 0s 4ms/step - loss: 5.7503e-04 - sparse_categorical_accuracy: 1.0000\n",
      "Epoch 65/200\n",
      "29/29 [==============================] - 0s 4ms/step - loss: 6.2627e-04 - sparse_categorical_accuracy: 1.0000\n",
      "Epoch 66/200\n",
      "29/29 [==============================] - 0s 4ms/step - loss: 5.4337e-04 - sparse_categorical_accuracy: 1.0000\n",
      "Epoch 67/200\n",
      "29/29 [==============================] - 0s 3ms/step - loss: 5.2942e-04 - sparse_categorical_accuracy: 1.0000\n",
      "Epoch 68/200\n",
      "29/29 [==============================] - 0s 4ms/step - loss: 5.0262e-04 - sparse_categorical_accuracy: 1.0000\n",
      "Epoch 69/200\n",
      "29/29 [==============================] - 0s 4ms/step - loss: 4.9032e-04 - sparse_categorical_accuracy: 1.0000\n",
      "Epoch 70/200\n",
      "29/29 [==============================] - 0s 4ms/step - loss: 4.6956e-04 - sparse_categorical_accuracy: 1.0000\n",
      "Epoch 71/200\n",
      "29/29 [==============================] - 0s 4ms/step - loss: 5.1551e-04 - sparse_categorical_accuracy: 1.0000\n",
      "Epoch 72/200\n",
      "29/29 [==============================] - 0s 3ms/step - loss: 4.6315e-04 - sparse_categorical_accuracy: 1.0000\n",
      "Epoch 73/200\n",
      "29/29 [==============================] - 0s 3ms/step - loss: 4.4849e-04 - sparse_categorical_accuracy: 1.0000\n",
      "Epoch 74/200\n",
      "29/29 [==============================] - 0s 3ms/step - loss: 4.2767e-04 - sparse_categorical_accuracy: 1.0000\n",
      "Epoch 75/200\n",
      "29/29 [==============================] - 0s 3ms/step - loss: 4.0419e-04 - sparse_categorical_accuracy: 1.0000\n",
      "Epoch 76/200\n",
      "29/29 [==============================] - 0s 4ms/step - loss: 3.9173e-04 - sparse_categorical_accuracy: 1.0000\n",
      "Epoch 77/200\n",
      "29/29 [==============================] - 0s 3ms/step - loss: 3.8305e-04 - sparse_categorical_accuracy: 1.0000\n",
      "Epoch 78/200\n",
      "29/29 [==============================] - 0s 4ms/step - loss: 3.7485e-04 - sparse_categorical_accuracy: 1.0000\n",
      "Epoch 79/200\n",
      "29/29 [==============================] - 0s 4ms/step - loss: 3.6142e-04 - sparse_categorical_accuracy: 1.0000\n",
      "Epoch 80/200\n",
      "29/29 [==============================] - 0s 4ms/step - loss: 3.5112e-04 - sparse_categorical_accuracy: 1.0000\n",
      "Epoch 81/200\n",
      "29/29 [==============================] - 0s 4ms/step - loss: 3.4383e-04 - sparse_categorical_accuracy: 1.0000\n",
      "Epoch 82/200\n",
      "29/29 [==============================] - 0s 4ms/step - loss: 3.3356e-04 - sparse_categorical_accuracy: 1.0000\n",
      "Epoch 83/200\n",
      "29/29 [==============================] - 0s 4ms/step - loss: 3.2729e-04 - sparse_categorical_accuracy: 1.0000\n",
      "Epoch 84/200\n",
      "29/29 [==============================] - 0s 5ms/step - loss: 3.1225e-04 - sparse_categorical_accuracy: 1.0000\n",
      "Epoch 85/200\n",
      "29/29 [==============================] - 0s 5ms/step - loss: 3.1766e-04 - sparse_categorical_accuracy: 1.0000\n",
      "Epoch 86/200\n",
      "29/29 [==============================] - 0s 4ms/step - loss: 3.0160e-04 - sparse_categorical_accuracy: 1.0000\n",
      "Epoch 87/200\n",
      "29/29 [==============================] - 0s 4ms/step - loss: 3.1226e-04 - sparse_categorical_accuracy: 1.0000\n",
      "Epoch 88/200\n",
      "29/29 [==============================] - 0s 4ms/step - loss: 2.9590e-04 - sparse_categorical_accuracy: 1.0000\n",
      "Epoch 89/200\n",
      "29/29 [==============================] - 0s 3ms/step - loss: 2.7940e-04 - sparse_categorical_accuracy: 1.0000\n",
      "Epoch 90/200\n",
      "29/29 [==============================] - 0s 4ms/step - loss: 2.7144e-04 - sparse_categorical_accuracy: 1.0000\n",
      "Epoch 91/200\n",
      "29/29 [==============================] - 0s 5ms/step - loss: 2.6480e-04 - sparse_categorical_accuracy: 1.0000\n",
      "Epoch 92/200\n",
      "29/29 [==============================] - 0s 5ms/step - loss: 2.5777e-04 - sparse_categorical_accuracy: 1.0000\n",
      "Epoch 93/200\n",
      "29/29 [==============================] - 0s 4ms/step - loss: 2.4983e-04 - sparse_categorical_accuracy: 1.0000\n",
      "Epoch 94/200\n",
      "29/29 [==============================] - 0s 3ms/step - loss: 2.4687e-04 - sparse_categorical_accuracy: 1.0000\n",
      "Epoch 95/200\n",
      "29/29 [==============================] - 0s 4ms/step - loss: 2.4011e-04 - sparse_categorical_accuracy: 1.0000\n",
      "Epoch 96/200\n",
      "29/29 [==============================] - 0s 4ms/step - loss: 2.3484e-04 - sparse_categorical_accuracy: 1.0000\n",
      "Epoch 97/200\n",
      "29/29 [==============================] - 0s 5ms/step - loss: 2.2744e-04 - sparse_categorical_accuracy: 1.0000\n",
      "Epoch 98/200\n",
      "29/29 [==============================] - 0s 5ms/step - loss: 2.2190e-04 - sparse_categorical_accuracy: 1.0000\n",
      "Epoch 99/200\n",
      "29/29 [==============================] - 0s 3ms/step - loss: 2.3587e-04 - sparse_categorical_accuracy: 1.0000\n",
      "Epoch 100/200\n",
      "29/29 [==============================] - 0s 3ms/step - loss: 2.1797e-04 - sparse_categorical_accuracy: 1.0000\n",
      "Epoch 101/200\n",
      "29/29 [==============================] - 0s 3ms/step - loss: 2.0625e-04 - sparse_categorical_accuracy: 1.0000\n",
      "Epoch 102/200\n",
      "29/29 [==============================] - 0s 4ms/step - loss: 2.0506e-04 - sparse_categorical_accuracy: 1.0000\n",
      "Epoch 103/200\n",
      "29/29 [==============================] - 0s 3ms/step - loss: 2.1707e-04 - sparse_categorical_accuracy: 1.0000\n",
      "Epoch 104/200\n",
      "29/29 [==============================] - 0s 4ms/step - loss: 1.9969e-04 - sparse_categorical_accuracy: 1.0000\n",
      "Epoch 105/200\n",
      "29/29 [==============================] - 0s 5ms/step - loss: 2.0310e-04 - sparse_categorical_accuracy: 1.0000\n",
      "Epoch 106/200\n",
      "29/29 [==============================] - 0s 5ms/step - loss: 1.8791e-04 - sparse_categorical_accuracy: 1.0000\n",
      "Epoch 107/200\n",
      "29/29 [==============================] - 0s 5ms/step - loss: 1.8520e-04 - sparse_categorical_accuracy: 1.0000\n",
      "Epoch 108/200\n",
      "29/29 [==============================] - 0s 4ms/step - loss: 1.7515e-04 - sparse_categorical_accuracy: 1.0000\n",
      "Epoch 109/200\n",
      "29/29 [==============================] - 0s 4ms/step - loss: 1.7133e-04 - sparse_categorical_accuracy: 1.0000\n",
      "Epoch 110/200\n",
      "29/29 [==============================] - 0s 5ms/step - loss: 1.6638e-04 - sparse_categorical_accuracy: 1.0000\n",
      "Epoch 111/200\n",
      "29/29 [==============================] - 0s 4ms/step - loss: 1.6366e-04 - sparse_categorical_accuracy: 1.0000\n",
      "Epoch 112/200\n",
      "29/29 [==============================] - 0s 4ms/step - loss: 1.5887e-04 - sparse_categorical_accuracy: 1.0000\n",
      "Epoch 113/200\n",
      "29/29 [==============================] - 0s 5ms/step - loss: 1.5655e-04 - sparse_categorical_accuracy: 1.0000\n",
      "Epoch 114/200\n",
      "29/29 [==============================] - 0s 5ms/step - loss: 1.5241e-04 - sparse_categorical_accuracy: 1.0000\n",
      "Epoch 115/200\n",
      "29/29 [==============================] - 0s 5ms/step - loss: 1.5022e-04 - sparse_categorical_accuracy: 1.0000\n",
      "Epoch 116/200\n",
      "29/29 [==============================] - 0s 4ms/step - loss: 1.4712e-04 - sparse_categorical_accuracy: 1.0000\n",
      "Epoch 117/200\n",
      "29/29 [==============================] - 0s 4ms/step - loss: 1.4373e-04 - sparse_categorical_accuracy: 1.0000\n",
      "Epoch 118/200\n",
      "29/29 [==============================] - 0s 4ms/step - loss: 1.4176e-04 - sparse_categorical_accuracy: 1.0000\n",
      "Epoch 119/200\n",
      "29/29 [==============================] - 0s 5ms/step - loss: 1.3911e-04 - sparse_categorical_accuracy: 1.0000\n",
      "Epoch 120/200\n",
      "29/29 [==============================] - 0s 4ms/step - loss: 1.3588e-04 - sparse_categorical_accuracy: 1.0000\n",
      "Epoch 121/200\n",
      "29/29 [==============================] - 0s 4ms/step - loss: 1.3215e-04 - sparse_categorical_accuracy: 1.0000\n",
      "Epoch 122/200\n",
      "29/29 [==============================] - 0s 4ms/step - loss: 1.2923e-04 - sparse_categorical_accuracy: 1.0000\n",
      "Epoch 123/200\n",
      "29/29 [==============================] - 0s 4ms/step - loss: 1.2722e-04 - sparse_categorical_accuracy: 1.0000\n",
      "Epoch 124/200\n",
      "29/29 [==============================] - 0s 4ms/step - loss: 1.2447e-04 - sparse_categorical_accuracy: 1.0000\n",
      "Epoch 125/200\n",
      "29/29 [==============================] - 0s 3ms/step - loss: 1.2130e-04 - sparse_categorical_accuracy: 1.0000\n",
      "Epoch 126/200\n",
      "29/29 [==============================] - 0s 5ms/step - loss: 1.1814e-04 - sparse_categorical_accuracy: 1.0000\n",
      "Epoch 127/200\n",
      "29/29 [==============================] - 0s 4ms/step - loss: 1.1634e-04 - sparse_categorical_accuracy: 1.0000\n",
      "Epoch 128/200\n",
      "29/29 [==============================] - 0s 5ms/step - loss: 1.1531e-04 - sparse_categorical_accuracy: 1.0000\n",
      "Epoch 129/200\n",
      "29/29 [==============================] - 0s 5ms/step - loss: 1.1237e-04 - sparse_categorical_accuracy: 1.0000\n",
      "Epoch 130/200\n",
      "29/29 [==============================] - 0s 3ms/step - loss: 1.0961e-04 - sparse_categorical_accuracy: 1.0000\n",
      "Epoch 131/200\n",
      "29/29 [==============================] - 0s 3ms/step - loss: 1.0599e-04 - sparse_categorical_accuracy: 1.0000\n",
      "Epoch 132/200\n",
      "29/29 [==============================] - 0s 3ms/step - loss: 1.0448e-04 - sparse_categorical_accuracy: 1.0000\n",
      "Epoch 133/200\n",
      "29/29 [==============================] - 0s 4ms/step - loss: 1.0204e-04 - sparse_categorical_accuracy: 1.0000\n",
      "Epoch 134/200\n",
      "29/29 [==============================] - 0s 4ms/step - loss: 1.0029e-04 - sparse_categorical_accuracy: 1.0000\n",
      "Epoch 135/200\n",
      "29/29 [==============================] - 0s 4ms/step - loss: 1.0031e-04 - sparse_categorical_accuracy: 1.0000\n",
      "Epoch 136/200\n",
      "29/29 [==============================] - 0s 4ms/step - loss: 9.6793e-05 - sparse_categorical_accuracy: 1.0000\n",
      "Epoch 137/200\n",
      "29/29 [==============================] - 0s 4ms/step - loss: 9.3562e-05 - sparse_categorical_accuracy: 1.0000\n",
      "Epoch 138/200\n",
      "29/29 [==============================] - 0s 3ms/step - loss: 9.2596e-05 - sparse_categorical_accuracy: 1.0000\n",
      "Epoch 139/200\n",
      "29/29 [==============================] - 0s 3ms/step - loss: 9.1776e-05 - sparse_categorical_accuracy: 1.0000\n",
      "Epoch 140/200\n",
      "29/29 [==============================] - 0s 3ms/step - loss: 8.8615e-05 - sparse_categorical_accuracy: 1.0000\n",
      "Epoch 141/200\n",
      "29/29 [==============================] - 0s 4ms/step - loss: 8.9202e-05 - sparse_categorical_accuracy: 1.0000\n",
      "Epoch 142/200\n",
      "29/29 [==============================] - 0s 3ms/step - loss: 8.5946e-05 - sparse_categorical_accuracy: 1.0000\n",
      "Epoch 143/200\n",
      "29/29 [==============================] - 0s 4ms/step - loss: 8.5119e-05 - sparse_categorical_accuracy: 1.0000\n",
      "Epoch 144/200\n",
      "29/29 [==============================] - 0s 3ms/step - loss: 8.1978e-05 - sparse_categorical_accuracy: 1.0000\n",
      "Epoch 145/200\n",
      "29/29 [==============================] - 0s 3ms/step - loss: 8.0385e-05 - sparse_categorical_accuracy: 1.0000\n",
      "Epoch 146/200\n",
      "29/29 [==============================] - 0s 3ms/step - loss: 7.8847e-05 - sparse_categorical_accuracy: 1.0000\n",
      "Epoch 147/200\n",
      "29/29 [==============================] - 0s 2ms/step - loss: 7.7368e-05 - sparse_categorical_accuracy: 1.0000\n",
      "Epoch 148/200\n",
      "29/29 [==============================] - 0s 2ms/step - loss: 7.6164e-05 - sparse_categorical_accuracy: 1.0000\n",
      "Epoch 149/200\n",
      "29/29 [==============================] - 0s 2ms/step - loss: 7.5323e-05 - sparse_categorical_accuracy: 1.0000\n",
      "Epoch 150/200\n",
      "29/29 [==============================] - 0s 2ms/step - loss: 7.4489e-05 - sparse_categorical_accuracy: 1.0000\n",
      "Epoch 151/200\n",
      "29/29 [==============================] - 0s 2ms/step - loss: 7.2543e-05 - sparse_categorical_accuracy: 1.0000\n",
      "Epoch 152/200\n",
      "29/29 [==============================] - 0s 2ms/step - loss: 7.1897e-05 - sparse_categorical_accuracy: 1.0000\n",
      "Epoch 153/200\n",
      "29/29 [==============================] - 0s 2ms/step - loss: 6.9841e-05 - sparse_categorical_accuracy: 1.0000\n",
      "Epoch 154/200\n",
      "29/29 [==============================] - 0s 2ms/step - loss: 6.7788e-05 - sparse_categorical_accuracy: 1.0000\n",
      "Epoch 155/200\n",
      "29/29 [==============================] - 0s 2ms/step - loss: 6.6301e-05 - sparse_categorical_accuracy: 1.0000\n",
      "Epoch 156/200\n",
      "29/29 [==============================] - 0s 2ms/step - loss: 6.5552e-05 - sparse_categorical_accuracy: 1.0000\n",
      "Epoch 157/200\n",
      "29/29 [==============================] - 0s 2ms/step - loss: 6.4468e-05 - sparse_categorical_accuracy: 1.0000\n",
      "Epoch 158/200\n",
      "29/29 [==============================] - 0s 2ms/step - loss: 6.2943e-05 - sparse_categorical_accuracy: 1.0000\n",
      "Epoch 159/200\n",
      "29/29 [==============================] - 0s 3ms/step - loss: 6.1398e-05 - sparse_categorical_accuracy: 1.0000\n",
      "Epoch 160/200\n",
      "29/29 [==============================] - 0s 2ms/step - loss: 6.1303e-05 - sparse_categorical_accuracy: 1.0000\n",
      "Epoch 161/200\n",
      "29/29 [==============================] - 0s 2ms/step - loss: 5.9890e-05 - sparse_categorical_accuracy: 1.0000\n",
      "Epoch 162/200\n",
      "29/29 [==============================] - 0s 3ms/step - loss: 6.3792e-05 - sparse_categorical_accuracy: 1.0000\n",
      "Epoch 163/200\n",
      "29/29 [==============================] - 0s 2ms/step - loss: 5.9100e-05 - sparse_categorical_accuracy: 1.0000\n",
      "Epoch 164/200\n",
      "29/29 [==============================] - 0s 2ms/step - loss: 5.6210e-05 - sparse_categorical_accuracy: 1.0000\n",
      "Epoch 165/200\n",
      "29/29 [==============================] - 0s 2ms/step - loss: 5.5147e-05 - sparse_categorical_accuracy: 1.0000\n",
      "Epoch 166/200\n",
      "29/29 [==============================] - 0s 2ms/step - loss: 5.4501e-05 - sparse_categorical_accuracy: 1.0000\n",
      "Epoch 167/200\n",
      "29/29 [==============================] - 0s 2ms/step - loss: 5.3300e-05 - sparse_categorical_accuracy: 1.0000\n",
      "Epoch 168/200\n",
      "29/29 [==============================] - 0s 2ms/step - loss: 5.2430e-05 - sparse_categorical_accuracy: 1.0000\n",
      "Epoch 169/200\n",
      "29/29 [==============================] - 0s 2ms/step - loss: 5.1108e-05 - sparse_categorical_accuracy: 1.0000\n",
      "Epoch 170/200\n",
      "29/29 [==============================] - 0s 2ms/step - loss: 4.9975e-05 - sparse_categorical_accuracy: 1.0000\n",
      "Epoch 171/200\n",
      "29/29 [==============================] - 0s 2ms/step - loss: 4.8932e-05 - sparse_categorical_accuracy: 1.0000\n",
      "Epoch 172/200\n",
      "29/29 [==============================] - 0s 2ms/step - loss: 4.7969e-05 - sparse_categorical_accuracy: 1.0000\n",
      "Epoch 173/200\n",
      "29/29 [==============================] - 0s 2ms/step - loss: 5.2099e-05 - sparse_categorical_accuracy: 1.0000\n",
      "Epoch 174/200\n",
      "29/29 [==============================] - 0s 2ms/step - loss: 4.6958e-05 - sparse_categorical_accuracy: 1.0000\n",
      "Epoch 175/200\n",
      "29/29 [==============================] - 0s 2ms/step - loss: 4.6056e-05 - sparse_categorical_accuracy: 1.0000\n",
      "Epoch 176/200\n",
      "29/29 [==============================] - 0s 2ms/step - loss: 4.5122e-05 - sparse_categorical_accuracy: 1.0000\n",
      "Epoch 177/200\n",
      "29/29 [==============================] - 0s 2ms/step - loss: 4.4099e-05 - sparse_categorical_accuracy: 1.0000\n",
      "Epoch 178/200\n",
      "29/29 [==============================] - 0s 2ms/step - loss: 4.2896e-05 - sparse_categorical_accuracy: 1.0000\n",
      "Epoch 179/200\n",
      "29/29 [==============================] - 0s 2ms/step - loss: 4.2411e-05 - sparse_categorical_accuracy: 1.0000\n",
      "Epoch 180/200\n",
      "29/29 [==============================] - 0s 2ms/step - loss: 4.2075e-05 - sparse_categorical_accuracy: 1.0000\n",
      "Epoch 181/200\n",
      "29/29 [==============================] - 0s 2ms/step - loss: 4.1043e-05 - sparse_categorical_accuracy: 1.0000\n",
      "Epoch 182/200\n",
      "29/29 [==============================] - 0s 2ms/step - loss: 4.0158e-05 - sparse_categorical_accuracy: 1.0000\n",
      "Epoch 183/200\n",
      "29/29 [==============================] - 0s 2ms/step - loss: 3.9889e-05 - sparse_categorical_accuracy: 1.0000\n",
      "Epoch 184/200\n",
      "29/29 [==============================] - 0s 2ms/step - loss: 3.8866e-05 - sparse_categorical_accuracy: 1.0000\n",
      "Epoch 185/200\n",
      "29/29 [==============================] - 0s 2ms/step - loss: 3.7928e-05 - sparse_categorical_accuracy: 1.0000\n",
      "Epoch 186/200\n",
      "29/29 [==============================] - 0s 2ms/step - loss: 3.9774e-05 - sparse_categorical_accuracy: 1.0000\n",
      "Epoch 187/200\n",
      "29/29 [==============================] - 0s 2ms/step - loss: 3.7553e-05 - sparse_categorical_accuracy: 1.0000\n",
      "Epoch 188/200\n",
      "29/29 [==============================] - 0s 2ms/step - loss: 3.6376e-05 - sparse_categorical_accuracy: 1.0000\n",
      "Epoch 189/200\n",
      "29/29 [==============================] - 0s 2ms/step - loss: 3.5389e-05 - sparse_categorical_accuracy: 1.0000\n",
      "Epoch 190/200\n",
      "29/29 [==============================] - 0s 2ms/step - loss: 3.4668e-05 - sparse_categorical_accuracy: 1.0000\n",
      "Epoch 191/200\n",
      "29/29 [==============================] - 0s 2ms/step - loss: 3.4323e-05 - sparse_categorical_accuracy: 1.0000\n",
      "Epoch 192/200\n",
      "29/29 [==============================] - 0s 2ms/step - loss: 3.4050e-05 - sparse_categorical_accuracy: 1.0000\n",
      "Epoch 193/200\n",
      "29/29 [==============================] - 0s 2ms/step - loss: 3.3124e-05 - sparse_categorical_accuracy: 1.0000\n",
      "Epoch 194/200\n",
      "29/29 [==============================] - 0s 2ms/step - loss: 3.3184e-05 - sparse_categorical_accuracy: 1.0000\n",
      "Epoch 195/200\n",
      "29/29 [==============================] - 0s 2ms/step - loss: 3.3768e-05 - sparse_categorical_accuracy: 1.0000\n",
      "Epoch 196/200\n",
      "29/29 [==============================] - 0s 2ms/step - loss: 3.1948e-05 - sparse_categorical_accuracy: 1.0000\n",
      "Epoch 197/200\n",
      "29/29 [==============================] - 0s 3ms/step - loss: 3.0758e-05 - sparse_categorical_accuracy: 1.0000\n",
      "Epoch 198/200\n",
      "29/29 [==============================] - 0s 2ms/step - loss: 3.0241e-05 - sparse_categorical_accuracy: 1.0000\n",
      "Epoch 199/200\n",
      "29/29 [==============================] - 0s 2ms/step - loss: 3.1104e-05 - sparse_categorical_accuracy: 1.0000\n",
      "Epoch 200/200\n",
      "29/29 [==============================] - 0s 2ms/step - loss: 2.9543e-05 - sparse_categorical_accuracy: 1.0000\n"
     ]
    }
   ],
   "source": [
    "history = model.fit(X_train, y_train, epochs=200)"
   ]
  },
  {
   "cell_type": "code",
   "execution_count": 20,
   "metadata": {
    "id": "PMmDQ8AuzYCA"
   },
   "outputs": [],
   "source": [
    "preds = model.predict(X_test)"
   ]
  },
  {
   "cell_type": "code",
   "execution_count": 21,
   "metadata": {
    "id": "7A2HF42-0O2G"
   },
   "outputs": [],
   "source": [
    "y_classes = preds.argmax(axis=-1)"
   ]
  },
  {
   "cell_type": "code",
   "execution_count": 22,
   "metadata": {
    "colab": {
     "base_uri": "https://localhost:8080/"
    },
    "id": "NjYxI9jY843X",
    "outputId": "74dd76c9-a8ee-47d9-e4cd-1b5009f751cd"
   },
   "outputs": [
    {
     "data": {
      "text/plain": [
       "0.9432703003337041"
      ]
     },
     "execution_count": 22,
     "metadata": {},
     "output_type": "execute_result"
    }
   ],
   "source": [
    "sklearn.metrics.accuracy_score(y_test, y_classes)"
   ]
  },
  {
   "cell_type": "markdown",
   "metadata": {
    "id": "bSQMCegO843X"
   },
   "source": [
    "We see our model performs... just as well. Because we are not dealing with a massive dataset, logistic regression and a single layer neural network perform about just about the same. What should be noted here is how easily we could use Keras to build a single layer neural network.\n",
    "\n",
    "### Single Layer Net in PyTorch\n",
    "\n",
    "[PyTorch](https://pytorch.org/) is another widely used deep learning package, and one with high usage in both academia and industry. While Keras slotted in easily as an extension of the machine learning topics we saw yesterday (such as with its use of numpy, and the fit function), PyTorch runs on Tensors. Tensors are essentially a multi-dimensional matrix, and operate similarly to numpy arrays. \n",
    "\n",
    "In the following lines of code, we will quickly look at some basic tensor operations, such as generating an empty tensor, basic operations on tensors, and converting between numpy arrays and tensors. While you will not be tested on your ability to manipulate tensors, it is useful to know how to play with them. The final line of code in this section converts our previously used numpy based data to tensors."
   ]
  },
  {
   "cell_type": "code",
   "execution_count": 23,
   "metadata": {
    "id": "1I4UoIYJ843X"
   },
   "outputs": [],
   "source": [
    "## Pytorch\n",
    "import torch\n",
    "import torch.nn as nn\n",
    "from torch.autograd import Variable\n",
    "import torch.optim as optim"
   ]
  },
  {
   "cell_type": "markdown",
   "metadata": {
    "id": "7eVWcRafiuW8"
   },
   "source": [
    "### Tensors and Data"
   ]
  },
  {
   "cell_type": "code",
   "execution_count": 24,
   "metadata": {
    "colab": {
     "base_uri": "https://localhost:8080/"
    },
    "id": "cRO8D-FsiuW8",
    "outputId": "7357f861-4040-4310-fcde-9496e9ab9c89"
   },
   "outputs": [
    {
     "name": "stdout",
     "output_type": "stream",
     "text": [
      "tensor([[2.3493e+31, 3.0823e-41, 3.3631e-44],\n",
      "        [0.0000e+00,        nan, 3.0823e-41],\n",
      "        [1.1578e+27, 1.1362e+30, 7.1547e+22],\n",
      "        [4.5828e+30, 1.2121e+04, 7.1846e+22],\n",
      "        [9.2198e-39, 7.0374e+22, 6.0817e+30]])\n"
     ]
    }
   ],
   "source": [
    "#pytorch tensors calculation\n",
    "x = torch.empty(5, 3)\n",
    "print(x)"
   ]
  },
  {
   "cell_type": "markdown",
   "metadata": {
    "id": "CVc7dPSI6xAM"
   },
   "source": [
    "torch.empty() allocates memory space for the array but does not initialize the values in this space--you get whatever uninitialized values are set to those cells in the memory!"
   ]
  },
  {
   "cell_type": "code",
   "execution_count": 25,
   "metadata": {
    "colab": {
     "base_uri": "https://localhost:8080/"
    },
    "id": "NFowPB2TiuW8",
    "outputId": "730a68e1-3035-4cc4-e566-f1b7ca26967e"
   },
   "outputs": [
    {
     "name": "stdout",
     "output_type": "stream",
     "text": [
      "tensor([[0.4641, 0.2740, 0.4558],\n",
      "        [0.9497, 0.1603, 0.9032],\n",
      "        [0.1257, 0.3990, 0.6832],\n",
      "        [0.6685, 0.4067, 0.4827],\n",
      "        [0.8834, 0.7681, 0.2623]])\n"
     ]
    }
   ],
   "source": [
    "x = torch.rand(5, 3)\n",
    "print(x)"
   ]
  },
  {
   "cell_type": "markdown",
   "metadata": {
    "id": "6qdkY7Gi68JJ"
   },
   "source": [
    "torch.rand() produces random values [0,1]"
   ]
  },
  {
   "cell_type": "code",
   "execution_count": 26,
   "metadata": {
    "colab": {
     "base_uri": "https://localhost:8080/"
    },
    "id": "Ude_3HtPiuW9",
    "outputId": "04d60590-b0fc-4ade-9ebf-19c54079a969"
   },
   "outputs": [
    {
     "name": "stdout",
     "output_type": "stream",
     "text": [
      "tensor([[0, 0, 0],\n",
      "        [0, 0, 0],\n",
      "        [0, 0, 0],\n",
      "        [0, 0, 0],\n",
      "        [0, 0, 0]])\n"
     ]
    }
   ],
   "source": [
    "x = torch.zeros(5, 3, dtype=torch.long)\n",
    "print(x)"
   ]
  },
  {
   "cell_type": "code",
   "execution_count": 27,
   "metadata": {
    "colab": {
     "base_uri": "https://localhost:8080/"
    },
    "id": "EaKZjGDgiuW9",
    "outputId": "c503554d-ee77-46d0-a3ec-9cb419d5e2ca"
   },
   "outputs": [
    {
     "name": "stdout",
     "output_type": "stream",
     "text": [
      "tensor([[0.4665, 0.7923, 0.7198],\n",
      "        [0.0270, 0.4174, 0.5173],\n",
      "        [0.7463, 0.7334, 0.4774],\n",
      "        [0.7574, 0.0130, 0.7493],\n",
      "        [0.4015, 0.3741, 0.6811]])\n"
     ]
    }
   ],
   "source": [
    "y = torch.rand(5, 3)\n",
    "print(x + y)"
   ]
  },
  {
   "cell_type": "code",
   "execution_count": 28,
   "metadata": {
    "colab": {
     "base_uri": "https://localhost:8080/"
    },
    "id": "IWZvt-ImiuW9",
    "outputId": "bda744c2-8fa3-4c5d-b1cf-963c7bac3c88"
   },
   "outputs": [
    {
     "name": "stdout",
     "output_type": "stream",
     "text": [
      "tensor([[0.4665, 0.7923, 0.7198],\n",
      "        [0.0270, 0.4174, 0.5173],\n",
      "        [0.7463, 0.7334, 0.4774],\n",
      "        [0.7574, 0.0130, 0.7493],\n",
      "        [0.4015, 0.3741, 0.6811]])\n"
     ]
    }
   ],
   "source": [
    "print(torch.add(x, y))"
   ]
  },
  {
   "cell_type": "code",
   "execution_count": 29,
   "metadata": {
    "colab": {
     "base_uri": "https://localhost:8080/"
    },
    "id": "45_cMiobiuW9",
    "outputId": "6aa74330-64f5-4163-9a7a-02f103116067"
   },
   "outputs": [
    {
     "name": "stdout",
     "output_type": "stream",
     "text": [
      "tensor([[0.4665, 0.7923, 0.7198],\n",
      "        [0.0270, 0.4174, 0.5173],\n",
      "        [0.7463, 0.7334, 0.4774],\n",
      "        [0.7574, 0.0130, 0.7493],\n",
      "        [0.4015, 0.3741, 0.6811]])\n"
     ]
    }
   ],
   "source": [
    "y.add_(x) # the `_` sign at end means the operation mutates tensor y in-place\n",
    "print(y)"
   ]
  },
  {
   "cell_type": "code",
   "execution_count": 30,
   "metadata": {
    "colab": {
     "base_uri": "https://localhost:8080/"
    },
    "id": "jcsYRHM5iuW-",
    "outputId": "43a0d4cd-d01e-4b7e-8ab1-060dac629081"
   },
   "outputs": [
    {
     "name": "stdout",
     "output_type": "stream",
     "text": [
      "A = tensor([[20, 24],\n",
      "        [31, 27]])\n"
     ]
    }
   ],
   "source": [
    "# to_remove solution\n",
    "a1 = torch.tensor([[2, 4], [5, 7]])\n",
    "a2 = torch.tensor([[1, 1], [2, 3]])\n",
    "a3 = torch.tensor([[10, 10], [12, 1]])\n",
    "A = torch.add(a1 @ a2, a3)\n",
    "print(\"A =\", A)"
   ]
  },
  {
   "cell_type": "code",
   "execution_count": 31,
   "metadata": {
    "colab": {
     "base_uri": "https://localhost:8080/"
    },
    "id": "GF8RzPvriuW-",
    "outputId": "c7d5c4c1-4381-492a-cab6-fff5b99008d9"
   },
   "outputs": [
    {
     "name": "stdout",
     "output_type": "stream",
     "text": [
      "b = tensor([[82]])\n"
     ]
    }
   ],
   "source": [
    "# @ and torch.matmul return a multidimensional tensor\n",
    "b1 = torch.tensor([[3], [5], [7]])\n",
    "b2 = torch.tensor([[2], [4], [8]])\n",
    "b = b1.T @ b2\n",
    "print(\"b =\", b)"
   ]
  },
  {
   "cell_type": "code",
   "execution_count": 32,
   "metadata": {
    "colab": {
     "base_uri": "https://localhost:8080/"
    },
    "id": "YtQmjUB4iuW-",
    "outputId": "7bddd182-3034-43e4-a215-c3fa112117c2"
   },
   "outputs": [
    {
     "name": "stdout",
     "output_type": "stream",
     "text": [
      "b = tensor(82)\n"
     ]
    }
   ],
   "source": [
    "# dot function returns a scalar tensor\n",
    "b1 = torch.tensor([3, 5, 7])\n",
    "b2 = torch.tensor([2, 4, 8])\n",
    "b = torch.dot(b1, b2)\n",
    "print(\"b =\", b)"
   ]
  },
  {
   "cell_type": "markdown",
   "metadata": {
    "id": "VVfilRNtiuW_"
   },
   "source": [
    "We now look at converting between tensors and numpy arrays."
   ]
  },
  {
   "cell_type": "code",
   "execution_count": 33,
   "metadata": {
    "colab": {
     "base_uri": "https://localhost:8080/"
    },
    "id": "T-lrMcKbiuW_",
    "outputId": "90b20c68-8840-41d9-be0d-38424eafba4d"
   },
   "outputs": [
    {
     "name": "stdout",
     "output_type": "stream",
     "text": [
      "tensor([1., 1., 1., 1., 1.])\n"
     ]
    }
   ],
   "source": [
    "a = torch.ones(5)\n",
    "print(a)"
   ]
  },
  {
   "cell_type": "code",
   "execution_count": 34,
   "metadata": {
    "colab": {
     "base_uri": "https://localhost:8080/"
    },
    "id": "T8vJU89ViuW_",
    "outputId": "851f5d5c-60f2-4479-c34a-1293912093ec"
   },
   "outputs": [
    {
     "name": "stdout",
     "output_type": "stream",
     "text": [
      "[1. 1. 1. 1. 1.]\n"
     ]
    }
   ],
   "source": [
    "b = a.numpy()\n",
    "print(b)"
   ]
  },
  {
   "cell_type": "code",
   "execution_count": 35,
   "metadata": {
    "colab": {
     "base_uri": "https://localhost:8080/"
    },
    "id": "V-UvLOLoiuXA",
    "outputId": "02facd8e-ca86-42d7-d533-8d2c27403a7b"
   },
   "outputs": [
    {
     "name": "stdout",
     "output_type": "stream",
     "text": [
      "tensor([2., 2., 2., 2., 2.])\n"
     ]
    }
   ],
   "source": [
    "a.add_(1)\n",
    "print(a)"
   ]
  },
  {
   "cell_type": "code",
   "execution_count": 36,
   "metadata": {
    "colab": {
     "base_uri": "https://localhost:8080/"
    },
    "id": "EyZmiY31iuXA",
    "outputId": "1e09f9fa-ba6d-44c9-869b-be6cae012a32"
   },
   "outputs": [
    {
     "name": "stdout",
     "output_type": "stream",
     "text": [
      "[2. 2. 2. 2. 2.]\n"
     ]
    }
   ],
   "source": [
    "print(b)"
   ]
  },
  {
   "cell_type": "code",
   "execution_count": 37,
   "metadata": {
    "colab": {
     "base_uri": "https://localhost:8080/"
    },
    "id": "5j5COhSEiuXA",
    "outputId": "a756ae1e-890c-4c6b-993a-8af607d19988"
   },
   "outputs": [
    {
     "name": "stdout",
     "output_type": "stream",
     "text": [
      "[2. 2. 2. 2. 2.]\n",
      "tensor([2., 2., 2., 2., 2.], dtype=torch.float64)\n"
     ]
    }
   ],
   "source": [
    "a = np.ones(5)\n",
    "b = torch.from_numpy(a)\n",
    "np.add(a, 1, out=a)\n",
    "print(a)\n",
    "print(b)"
   ]
  },
  {
   "cell_type": "markdown",
   "metadata": {
    "id": "gJMkVNg_iuXA"
   },
   "source": [
    "We now get our training data ready."
   ]
  },
  {
   "cell_type": "code",
   "execution_count": 38,
   "metadata": {
    "id": "QXpNq6zpiuXB"
   },
   "outputs": [],
   "source": [
    "X_train_tensor = torch.tensor(X_train)\n",
    "y_train_tensor = torch.tensor(y_train).type(torch.LongTensor)"
   ]
  },
  {
   "cell_type": "markdown",
   "metadata": {
    "id": "HtbqB1rriuXB"
   },
   "source": [
    "### Constructing a Neural Network with PyTorch\n",
    "\n",
    "PyTorch is a little more involved than Keras. We need to initialise our network with the various parts we will be using. We are using the same parameters as the Keras example. We then define what a forward pass looks like, which is kind of similar to the way we stacked networks in Keras.\n",
    "\n",
    "[Pytorch's nn module](https://pytorch.org/docs/stable/nn.html) is the basic unit for building neural networks (or computational graphs, as it is sometimes referred to in pytroch). For example, for a hidden layer, we use the Linear layer."
   ]
  },
  {
   "cell_type": "code",
   "execution_count": 39,
   "metadata": {
    "id": "fb9jEVet7FpA"
   },
   "outputs": [],
   "source": [
    "import torch.nn.functional as F"
   ]
  },
  {
   "cell_type": "code",
   "execution_count": 40,
   "metadata": {
    "colab": {
     "base_uri": "https://localhost:8080/"
    },
    "id": "LDJ87iXdiuXB",
    "outputId": "5ec14179-c6a3-48ed-8ba9-859b91234097"
   },
   "outputs": [
    {
     "data": {
      "text/plain": [
       "Linear(in_features=20, out_features=20, bias=True)"
      ]
     },
     "execution_count": 40,
     "metadata": {},
     "output_type": "execute_result"
    }
   ],
   "source": [
    "nn.Linear(20, 20)"
   ]
  },
  {
   "cell_type": "markdown",
   "metadata": {
    "id": "8QQ_VFXEiuXC"
   },
   "source": [
    "The module also includes activation functions."
   ]
  },
  {
   "cell_type": "code",
   "execution_count": 41,
   "metadata": {
    "colab": {
     "base_uri": "https://localhost:8080/"
    },
    "id": "rrsejrMTiuXC",
    "outputId": "2dc43077-c252-4ab3-c70a-98146627cf22"
   },
   "outputs": [
    {
     "data": {
      "text/plain": [
       "ReLU()"
      ]
     },
     "execution_count": 41,
     "metadata": {},
     "output_type": "execute_result"
    }
   ],
   "source": [
    "nn.ReLU()"
   ]
  },
  {
   "cell_type": "markdown",
   "metadata": {
    "id": "zvrw_SqFiuXC"
   },
   "source": [
    "We usually encapsulate the network by defining the hidden layers and activation functions we will be needing, which you can see in the initialisation. You can then see the forward passes the input tensor through each of the operations."
   ]
  },
  {
   "cell_type": "code",
   "execution_count": 42,
   "metadata": {
    "id": "TtwcjMap843Y"
   },
   "outputs": [],
   "source": [
    "class Network(nn.Module):\n",
    "    def __init__(self):\n",
    "        super().__init__()\n",
    "        # Inputs to hidden layer linear transformation\n",
    "        self.hidden = nn.Linear(64, 200)\n",
    "        # Output layer, 1 output for the classification\n",
    "        self.output = nn.Linear(200, 10)\n",
    "        # Define sigmoid activation and softmax output \n",
    "        self.relu = nn.ReLU()\n",
    "        self.softmax = nn.Softmax()\n",
    "\n",
    "    def forward(self, x):\n",
    "        # Pass the input tensor through each of our operations\n",
    "        x = self.hidden(x)\n",
    "        x = self.relu(x)\n",
    "        x = self.output(x)\n",
    "        x = self.softmax(x)\n",
    "        return x"
   ]
  },
  {
   "cell_type": "code",
   "execution_count": 43,
   "metadata": {
    "id": "U3o0hwRFiuXC"
   },
   "outputs": [],
   "source": [
    "net = Network()"
   ]
  },
  {
   "cell_type": "markdown",
   "metadata": {
    "id": "aN6b9zt8iuXD"
   },
   "source": [
    "We then define the optimiser and loss function."
   ]
  },
  {
   "cell_type": "code",
   "execution_count": 44,
   "metadata": {
    "id": "kYto8Y2biuXD"
   },
   "outputs": [],
   "source": [
    "opt = optim.Adam(net.parameters(), lr=0.001, betas=(0.9, 0.999))"
   ]
  },
  {
   "cell_type": "code",
   "execution_count": 45,
   "metadata": {
    "id": "1Hp4PkB1iuXD"
   },
   "outputs": [],
   "source": [
    "criterion = F.nll_loss"
   ]
  },
  {
   "cell_type": "markdown",
   "metadata": {
    "id": "GDKyIAd4843Y"
   },
   "source": [
    "Unlike Keras where we hit fit and the training happens, we have to define a training epoch, where we set our gradients to zero, run the test data, do a backward pass, and then update the weights. This is actually how a neural network trains, so its useful to see it broken down like this."
   ]
  },
  {
   "cell_type": "code",
   "execution_count": 46,
   "metadata": {
    "id": "uG579lYv843Z"
   },
   "outputs": [],
   "source": [
    "def train_epoch(model, opt, criterion, X_train, y_train):\n",
    "    model.train()\n",
    "    losses = []\n",
    "    opt.zero_grad()\n",
    "    # (1) Forward\n",
    "    y_hat = model(X_train)\n",
    "    # (2) Compute diff\n",
    "    loss = criterion(y_hat, y_train)\n",
    "    # (3) Compute gradients, this is the backprop step\n",
    "    loss.backward()\n",
    "    # (4) update weights\n",
    "    opt.step()        \n",
    "    losses.append(loss.data.numpy())\n",
    "    return losses"
   ]
  },
  {
   "cell_type": "code",
   "execution_count": 47,
   "metadata": {
    "id": "ZfPJDqCT843Z"
   },
   "outputs": [],
   "source": [
    "import matplotlib.pyplot as plt"
   ]
  },
  {
   "cell_type": "code",
   "execution_count": 48,
   "metadata": {
    "colab": {
     "base_uri": "https://localhost:8080/"
    },
    "id": "_bFmIc2J6k7i",
    "outputId": "8550110e-4a04-4cdc-8780-2112a1ee3704"
   },
   "outputs": [
    {
     "data": {
      "text/plain": [
       "tensor([[ 0.,  0.,  5.,  ...,  0.,  0.,  0.],\n",
       "        [ 0.,  0.,  0.,  ..., 10.,  0.,  0.],\n",
       "        [ 0.,  0.,  0.,  ..., 16.,  9.,  0.],\n",
       "        ...,\n",
       "        [ 0.,  0.,  2.,  ..., 14.,  0.,  0.],\n",
       "        [ 0.,  1., 12.,  ...,  0.,  0.,  0.],\n",
       "        [ 0.,  0.,  0.,  ...,  3.,  0.,  0.]])"
      ]
     },
     "execution_count": 48,
     "metadata": {},
     "output_type": "execute_result"
    }
   ],
   "source": [
    "X_train_tensor.float()"
   ]
  },
  {
   "cell_type": "code",
   "execution_count": 49,
   "metadata": {
    "colab": {
     "base_uri": "https://localhost:8080/"
    },
    "id": "bkjzdxN0843Z",
    "outputId": "fd892d35-8974-454d-db4f-8b38cb679522"
   },
   "outputs": [
    {
     "name": "stderr",
     "output_type": "stream",
     "text": [
      "/usr/local/lib/python3.7/dist-packages/ipykernel_launcher.py:17: UserWarning: Implicit dimension choice for softmax has been deprecated. Change the call to include dim=X as an argument.\n"
     ]
    }
   ],
   "source": [
    "e_losses = []\n",
    "num_epochs = 200\n",
    "for e in range(num_epochs):\n",
    "    e_losses += train_epoch(net, opt, criterion, X_train_tensor.float(), y_train_tensor)"
   ]
  },
  {
   "cell_type": "code",
   "execution_count": 50,
   "metadata": {
    "colab": {
     "base_uri": "https://localhost:8080/",
     "height": 295
    },
    "id": "wz2hWSeaiuXE",
    "outputId": "28214ea9-ead5-4aba-b6de-55a20137e1bd"
   },
   "outputs": [
    {
     "data": {
      "image/png": "[encoded data removed]",
      "text/plain": [
       "<Figure size 432x288 with 1 Axes>"
      ]
     },
     "metadata": {
      "needs_background": "light"
     },
     "output_type": "display_data"
    }
   ],
   "source": [
    "plt.title(\"Loss for Neural Net Training\")\n",
    "plt.xlabel(\"Number of epochs\")\n",
    "plt.ylabel(\"Loss\")\n",
    "plt.plot(e_losses)\n",
    "plt.show()"
   ]
  },
  {
   "cell_type": "markdown",
   "metadata": {
    "id": "ex2uZGk-843Z"
   },
   "source": [
    "That little loss plot is useful for us to see how our model improves with each epoch. We did 200 epochs like the Keras example. Unlike scikit-learn or Keras objects, we don't have a predict method, but instead pass the test data directly to the net. The little function below that converts the results into a way which we can feed into a metric function."
   ]
  },
  {
   "cell_type": "code",
   "execution_count": 51,
   "metadata": {
    "colab": {
     "base_uri": "https://localhost:8080/"
    },
    "id": "woweXacG843a",
    "outputId": "9dda4a32-6906-411c-ca02-0ad7a8b44a3e"
   },
   "outputs": [
    {
     "name": "stderr",
     "output_type": "stream",
     "text": [
      "/usr/local/lib/python3.7/dist-packages/ipykernel_launcher.py:17: UserWarning: Implicit dimension choice for softmax has been deprecated. Change the call to include dim=X as an argument.\n"
     ]
    }
   ],
   "source": [
    "output = net(torch.tensor(X_test).float())"
   ]
  },
  {
   "cell_type": "code",
   "execution_count": 52,
   "metadata": {
    "id": "yY49xGZviuXF"
   },
   "outputs": [],
   "source": [
    "y_classes = output.argmax(axis=-1)"
   ]
  },
  {
   "cell_type": "code",
   "execution_count": 53,
   "metadata": {
    "colab": {
     "base_uri": "https://localhost:8080/"
    },
    "id": "HHXAtUGt843a",
    "outputId": "07ead574-3c06-4a9c-c40f-599cef42a033",
    "scrolled": true
   },
   "outputs": [
    {
     "data": {
      "text/plain": [
       "0.9432703003337041"
      ]
     },
     "execution_count": 53,
     "metadata": {},
     "output_type": "execute_result"
    }
   ],
   "source": [
    "sklearn.metrics.accuracy_score(y_test, y_classes)"
   ]
  },
  {
   "cell_type": "markdown",
   "metadata": {
    "id": "zD-c630M843a"
   },
   "source": [
    "Cool! So our PyTorch neural net did a bit better than both Keras and logistic regression. This is a demonstration of how neural networks which are similar in structure can still end up as divergently performing models because of random weights initialisation between different libraries. \n",
    "\n",
    "Let us now make our networks deep, and see if that helps!\n",
    "\n",
    "### Keras Deep Net \n",
    "\n",
    "Making a neural net deeper simply means adding more layers or complexity. Lets add an extra layer and increase the number of units and see how it does! In the last example, we added each layer line by line. Here, we use a single list.\n",
    "\n",
    "For this simple neural network, we use a virtual example based on make_classification function of sklearn package.\n"
   ]
  },
  {
   "cell_type": "code",
   "execution_count": 54,
   "metadata": {
    "colab": {
     "base_uri": "https://localhost:8080/",
     "height": 281
    },
    "id": "UzwUrp5OZG2d",
    "outputId": "a3d221bd-71c8-49c8-c5d4-bac2ad0d11ea"
   },
   "outputs": [
    {
     "data": {
      "image/png": "[encoded data removed]",
      "text/plain": [
       "<Figure size 432x288 with 1 Axes>"
      ]
     },
     "metadata": {
      "needs_background": "light"
     },
     "output_type": "display_data"
    }
   ],
   "source": [
    "import matplotlib.pyplot as plt\n",
    "\n",
    "X, y = sklearn.datasets.make_classification(n_samples=200, n_features=200, n_informative=100, n_classes=2, random_state=40)\n",
    "plt.title(\"Plot of first two features of classification dataset\")\n",
    "plt.scatter(X[:, 0], X[:, 1], marker='o', c=y, s=25, edgecolor='k')\n",
    "plt.show()"
   ]
  },
  {
   "cell_type": "code",
   "execution_count": 55,
   "metadata": {
    "id": "sFbXca80ZzsV"
   },
   "outputs": [],
   "source": [
    "X_train, X_test, y_train, y_test = sklearn.model_selection.train_test_split(X, y)"
   ]
  },
  {
   "cell_type": "code",
   "execution_count": 56,
   "metadata": {
    "id": "XCExN1bx843b"
   },
   "outputs": [],
   "source": [
    "model = keras.models.Sequential([keras.layers.Dense(200, input_dim=200, activation='relu'),\n",
    "                                 keras.layers.Dense(200, activation='relu'),\n",
    "                                 keras.layers.Dense(1, activation='sigmoid')])"
   ]
  },
  {
   "cell_type": "code",
   "execution_count": 57,
   "metadata": {
    "id": "bNnZUBSd843b"
   },
   "outputs": [],
   "source": [
    "model.compile(loss=\"binary_crossentropy\", optimizer=\"adam\")"
   ]
  },
  {
   "cell_type": "code",
   "execution_count": 58,
   "metadata": {
    "colab": {
     "base_uri": "https://localhost:8080/"
    },
    "id": "rNFgL3_l843c",
    "outputId": "295db548-6856-45fb-a8cb-e297ad7505ba"
   },
   "outputs": [
    {
     "name": "stdout",
     "output_type": "stream",
     "text": [
      "Epoch 1/200\n",
      "5/5 [==============================] - 2s 5ms/step - loss: 1.0487\n",
      "Epoch 2/200\n",
      "5/5 [==============================] - 0s 4ms/step - loss: 0.3831\n",
      "Epoch 3/200\n",
      "5/5 [==============================] - 0s 4ms/step - loss: 0.1691\n",
      "Epoch 4/200\n",
      "5/5 [==============================] - 0s 4ms/step - loss: 0.0792\n",
      "Epoch 5/200\n",
      "5/5 [==============================] - 0s 8ms/step - loss: 0.0312\n",
      "Epoch 6/200\n",
      "5/5 [==============================] - 0s 4ms/step - loss: 0.0170\n",
      "Epoch 7/200\n",
      "5/5 [==============================] - 0s 5ms/step - loss: 0.0134\n",
      "Epoch 8/200\n",
      "5/5 [==============================] - 0s 5ms/step - loss: 0.0087\n",
      "Epoch 9/200\n",
      "5/5 [==============================] - 0s 5ms/step - loss: 0.0064\n",
      "Epoch 10/200\n",
      "5/5 [==============================] - 0s 8ms/step - loss: 0.0055\n",
      "Epoch 11/200\n",
      "5/5 [==============================] - 0s 4ms/step - loss: 0.0047\n",
      "Epoch 12/200\n",
      "5/5 [==============================] - 0s 4ms/step - loss: 0.0040\n",
      "Epoch 13/200\n",
      "5/5 [==============================] - 0s 4ms/step - loss: 0.0036\n",
      "Epoch 14/200\n",
      "5/5 [==============================] - 0s 5ms/step - loss: 0.0033\n",
      "Epoch 15/200\n",
      "5/5 [==============================] - 0s 4ms/step - loss: 0.0030\n",
      "Epoch 16/200\n",
      "5/5 [==============================] - 0s 4ms/step - loss: 0.0028\n",
      "Epoch 17/200\n",
      "5/5 [==============================] - 0s 4ms/step - loss: 0.0027\n",
      "Epoch 18/200\n",
      "5/5 [==============================] - 0s 5ms/step - loss: 0.0025\n",
      "Epoch 19/200\n",
      "5/5 [==============================] - 0s 6ms/step - loss: 0.0023\n",
      "Epoch 20/200\n",
      "5/5 [==============================] - 0s 6ms/step - loss: 0.0022\n",
      "Epoch 21/200\n",
      "5/5 [==============================] - 0s 6ms/step - loss: 0.0021\n",
      "Epoch 22/200\n",
      "5/5 [==============================] - 0s 8ms/step - loss: 0.0020\n",
      "Epoch 23/200\n",
      "5/5 [==============================] - 0s 5ms/step - loss: 0.0019\n",
      "Epoch 24/200\n",
      "5/5 [==============================] - 0s 6ms/step - loss: 0.0018\n",
      "Epoch 25/200\n",
      "5/5 [==============================] - 0s 5ms/step - loss: 0.0017\n",
      "Epoch 26/200\n",
      "5/5 [==============================] - 0s 7ms/step - loss: 0.0016\n",
      "Epoch 27/200\n",
      "5/5 [==============================] - 0s 5ms/step - loss: 0.0016\n",
      "Epoch 28/200\n",
      "5/5 [==============================] - 0s 4ms/step - loss: 0.0015\n",
      "Epoch 29/200\n",
      "5/5 [==============================] - 0s 5ms/step - loss: 0.0014\n",
      "Epoch 30/200\n",
      "5/5 [==============================] - 0s 8ms/step - loss: 0.0014\n",
      "Epoch 31/200\n",
      "5/5 [==============================] - 0s 8ms/step - loss: 0.0013\n",
      "Epoch 32/200\n",
      "5/5 [==============================] - 0s 5ms/step - loss: 0.0013\n",
      "Epoch 33/200\n",
      "5/5 [==============================] - 0s 5ms/step - loss: 0.0012\n",
      "Epoch 34/200\n",
      "5/5 [==============================] - 0s 5ms/step - loss: 0.0012\n",
      "Epoch 35/200\n",
      "5/5 [==============================] - 0s 5ms/step - loss: 0.0011\n",
      "Epoch 36/200\n",
      "5/5 [==============================] - 0s 5ms/step - loss: 0.0011\n",
      "Epoch 37/200\n",
      "5/5 [==============================] - 0s 4ms/step - loss: 0.0010\n",
      "Epoch 38/200\n",
      "5/5 [==============================] - 0s 5ms/step - loss: 0.0010\n",
      "Epoch 39/200\n",
      "5/5 [==============================] - 0s 5ms/step - loss: 9.6514e-04\n",
      "Epoch 40/200\n",
      "5/5 [==============================] - 0s 5ms/step - loss: 9.3147e-04\n",
      "Epoch 41/200\n",
      "5/5 [==============================] - 0s 4ms/step - loss: 8.9861e-04\n",
      "Epoch 42/200\n",
      "5/5 [==============================] - 0s 4ms/step - loss: 8.6874e-04\n",
      "Epoch 43/200\n",
      "5/5 [==============================] - 0s 5ms/step - loss: 8.4054e-04\n",
      "Epoch 44/200\n",
      "5/5 [==============================] - 0s 15ms/step - loss: 8.1170e-04\n",
      "Epoch 45/200\n",
      "5/5 [==============================] - 0s 7ms/step - loss: 7.8682e-04\n",
      "Epoch 46/200\n",
      "5/5 [==============================] - 0s 9ms/step - loss: 7.6212e-04\n",
      "Epoch 47/200\n",
      "5/5 [==============================] - 0s 7ms/step - loss: 7.3948e-04\n",
      "Epoch 48/200\n",
      "5/5 [==============================] - 0s 8ms/step - loss: 7.1631e-04\n",
      "Epoch 49/200\n",
      "5/5 [==============================] - 0s 5ms/step - loss: 6.9503e-04\n",
      "Epoch 50/200\n",
      "5/5 [==============================] - 0s 5ms/step - loss: 6.7433e-04\n",
      "Epoch 51/200\n",
      "5/5 [==============================] - 0s 5ms/step - loss: 6.5570e-04\n",
      "Epoch 52/200\n",
      "5/5 [==============================] - 0s 5ms/step - loss: 6.3657e-04\n",
      "Epoch 53/200\n",
      "5/5 [==============================] - 0s 4ms/step - loss: 6.1871e-04\n",
      "Epoch 54/200\n",
      "5/5 [==============================] - 0s 4ms/step - loss: 6.0193e-04\n",
      "Epoch 55/200\n",
      "5/5 [==============================] - 0s 6ms/step - loss: 5.8567e-04\n",
      "Epoch 56/200\n",
      "5/5 [==============================] - 0s 5ms/step - loss: 5.6979e-04\n",
      "Epoch 57/200\n",
      "5/5 [==============================] - 0s 8ms/step - loss: 5.5505e-04\n",
      "Epoch 58/200\n",
      "5/5 [==============================] - 0s 7ms/step - loss: 5.4032e-04\n",
      "Epoch 59/200\n",
      "5/5 [==============================] - 0s 5ms/step - loss: 5.2662e-04\n",
      "Epoch 60/200\n",
      "5/5 [==============================] - 0s 4ms/step - loss: 5.1272e-04\n",
      "Epoch 61/200\n",
      "5/5 [==============================] - 0s 7ms/step - loss: 4.9997e-04\n",
      "Epoch 62/200\n",
      "5/5 [==============================] - 0s 4ms/step - loss: 4.8791e-04\n",
      "Epoch 63/200\n",
      "5/5 [==============================] - 0s 4ms/step - loss: 4.7550e-04\n",
      "Epoch 64/200\n",
      "5/5 [==============================] - 0s 9ms/step - loss: 4.6418e-04\n",
      "Epoch 65/200\n",
      "5/5 [==============================] - 0s 5ms/step - loss: 4.5296e-04\n",
      "Epoch 66/200\n",
      "5/5 [==============================] - 0s 4ms/step - loss: 4.4225e-04\n",
      "Epoch 67/200\n",
      "5/5 [==============================] - 0s 7ms/step - loss: 4.3219e-04\n",
      "Epoch 68/200\n",
      "5/5 [==============================] - 0s 5ms/step - loss: 4.2220e-04\n",
      "Epoch 69/200\n",
      "5/5 [==============================] - 0s 5ms/step - loss: 4.1245e-04\n",
      "Epoch 70/200\n",
      "5/5 [==============================] - 0s 4ms/step - loss: 4.0327e-04\n",
      "Epoch 71/200\n",
      "5/5 [==============================] - 0s 5ms/step - loss: 3.9485e-04\n",
      "Epoch 72/200\n",
      "5/5 [==============================] - 0s 4ms/step - loss: 3.8602e-04\n",
      "Epoch 73/200\n",
      "5/5 [==============================] - 0s 7ms/step - loss: 3.7754e-04\n",
      "Epoch 74/200\n",
      "5/5 [==============================] - 0s 4ms/step - loss: 3.6941e-04\n",
      "Epoch 75/200\n",
      "5/5 [==============================] - 0s 5ms/step - loss: 3.6164e-04\n",
      "Epoch 76/200\n",
      "5/5 [==============================] - 0s 7ms/step - loss: 3.5422e-04\n",
      "Epoch 77/200\n",
      "5/5 [==============================] - 0s 7ms/step - loss: 3.4662e-04\n",
      "Epoch 78/200\n",
      "5/5 [==============================] - 0s 8ms/step - loss: 3.3967e-04\n",
      "Epoch 79/200\n",
      "5/5 [==============================] - 0s 8ms/step - loss: 3.3259e-04\n",
      "Epoch 80/200\n",
      "5/5 [==============================] - 0s 5ms/step - loss: 3.2591e-04\n",
      "Epoch 81/200\n",
      "5/5 [==============================] - 0s 7ms/step - loss: 3.1950e-04\n",
      "Epoch 82/200\n",
      "5/5 [==============================] - 0s 6ms/step - loss: 3.1317e-04\n",
      "Epoch 83/200\n",
      "5/5 [==============================] - 0s 7ms/step - loss: 3.0684e-04\n",
      "Epoch 84/200\n",
      "5/5 [==============================] - 0s 7ms/step - loss: 3.0098e-04\n",
      "Epoch 85/200\n",
      "5/5 [==============================] - 0s 5ms/step - loss: 2.9493e-04\n",
      "Epoch 86/200\n",
      "5/5 [==============================] - 0s 7ms/step - loss: 2.8933e-04\n",
      "Epoch 87/200\n",
      "5/5 [==============================] - 0s 5ms/step - loss: 2.8402e-04\n",
      "Epoch 88/200\n",
      "5/5 [==============================] - 0s 6ms/step - loss: 2.7861e-04\n",
      "Epoch 89/200\n",
      "5/5 [==============================] - 0s 7ms/step - loss: 2.7334e-04\n",
      "Epoch 90/200\n",
      "5/5 [==============================] - 0s 7ms/step - loss: 2.6830e-04\n",
      "Epoch 91/200\n",
      "5/5 [==============================] - 0s 6ms/step - loss: 2.6345e-04\n",
      "Epoch 92/200\n",
      "5/5 [==============================] - 0s 5ms/step - loss: 2.5863e-04\n",
      "Epoch 93/200\n",
      "5/5 [==============================] - 0s 5ms/step - loss: 2.5416e-04\n",
      "Epoch 94/200\n",
      "5/5 [==============================] - 0s 5ms/step - loss: 2.4948e-04\n",
      "Epoch 95/200\n",
      "5/5 [==============================] - 0s 4ms/step - loss: 2.4516e-04\n",
      "Epoch 96/200\n",
      "5/5 [==============================] - 0s 5ms/step - loss: 2.4089e-04\n",
      "Epoch 97/200\n",
      "5/5 [==============================] - 0s 6ms/step - loss: 2.3662e-04\n",
      "Epoch 98/200\n",
      "5/5 [==============================] - 0s 4ms/step - loss: 2.3262e-04\n",
      "Epoch 99/200\n",
      "5/5 [==============================] - 0s 4ms/step - loss: 2.2878e-04\n",
      "Epoch 100/200\n",
      "5/5 [==============================] - 0s 5ms/step - loss: 2.2484e-04\n",
      "Epoch 101/200\n",
      "5/5 [==============================] - 0s 5ms/step - loss: 2.2103e-04\n",
      "Epoch 102/200\n",
      "5/5 [==============================] - 0s 5ms/step - loss: 2.1735e-04\n",
      "Epoch 103/200\n",
      "5/5 [==============================] - 0s 5ms/step - loss: 2.1377e-04\n",
      "Epoch 104/200\n",
      "5/5 [==============================] - 0s 6ms/step - loss: 2.1032e-04\n",
      "Epoch 105/200\n",
      "5/5 [==============================] - 0s 4ms/step - loss: 2.0689e-04\n",
      "Epoch 106/200\n",
      "5/5 [==============================] - 0s 5ms/step - loss: 2.0355e-04\n",
      "Epoch 107/200\n",
      "5/5 [==============================] - 0s 6ms/step - loss: 2.0018e-04\n",
      "Epoch 108/200\n",
      "5/5 [==============================] - 0s 4ms/step - loss: 1.9707e-04\n",
      "Epoch 109/200\n",
      "5/5 [==============================] - 0s 8ms/step - loss: 1.9395e-04\n",
      "Epoch 110/200\n",
      "5/5 [==============================] - 0s 8ms/step - loss: 1.9086e-04\n",
      "Epoch 111/200\n",
      "5/5 [==============================] - 0s 4ms/step - loss: 1.8783e-04\n",
      "Epoch 112/200\n",
      "5/5 [==============================] - 0s 4ms/step - loss: 1.8488e-04\n",
      "Epoch 113/200\n",
      "5/5 [==============================] - 0s 4ms/step - loss: 1.8201e-04\n",
      "Epoch 114/200\n",
      "5/5 [==============================] - 0s 5ms/step - loss: 1.7920e-04\n",
      "Epoch 115/200\n",
      "5/5 [==============================] - 0s 15ms/step - loss: 1.7662e-04\n",
      "Epoch 116/200\n",
      "5/5 [==============================] - 0s 5ms/step - loss: 1.7386e-04\n",
      "Epoch 117/200\n",
      "5/5 [==============================] - 0s 7ms/step - loss: 1.7131e-04\n",
      "Epoch 118/200\n",
      "5/5 [==============================] - 0s 5ms/step - loss: 1.6879e-04\n",
      "Epoch 119/200\n",
      "5/5 [==============================] - 0s 6ms/step - loss: 1.6625e-04\n",
      "Epoch 120/200\n",
      "5/5 [==============================] - 0s 4ms/step - loss: 1.6381e-04\n",
      "Epoch 121/200\n",
      "5/5 [==============================] - 0s 7ms/step - loss: 1.6145e-04\n",
      "Epoch 122/200\n",
      "5/5 [==============================] - 0s 6ms/step - loss: 1.5911e-04\n",
      "Epoch 123/200\n",
      "5/5 [==============================] - 0s 7ms/step - loss: 1.5689e-04\n",
      "Epoch 124/200\n",
      "5/5 [==============================] - 0s 6ms/step - loss: 1.5463e-04\n",
      "Epoch 125/200\n",
      "5/5 [==============================] - 0s 6ms/step - loss: 1.5249e-04\n",
      "Epoch 126/200\n",
      "5/5 [==============================] - 0s 6ms/step - loss: 1.5027e-04\n",
      "Epoch 127/200\n",
      "5/5 [==============================] - 0s 6ms/step - loss: 1.4825e-04\n",
      "Epoch 128/200\n",
      "5/5 [==============================] - 0s 11ms/step - loss: 1.4607e-04\n",
      "Epoch 129/200\n",
      "5/5 [==============================] - 0s 5ms/step - loss: 1.4413e-04\n",
      "Epoch 130/200\n",
      "5/5 [==============================] - 0s 5ms/step - loss: 1.4215e-04\n",
      "Epoch 131/200\n",
      "5/5 [==============================] - 0s 5ms/step - loss: 1.4016e-04\n",
      "Epoch 132/200\n",
      "5/5 [==============================] - 0s 6ms/step - loss: 1.3829e-04\n",
      "Epoch 133/200\n",
      "5/5 [==============================] - 0s 5ms/step - loss: 1.3642e-04\n",
      "Epoch 134/200\n",
      "5/5 [==============================] - 0s 5ms/step - loss: 1.3458e-04\n",
      "Epoch 135/200\n",
      "5/5 [==============================] - 0s 7ms/step - loss: 1.3281e-04\n",
      "Epoch 136/200\n",
      "5/5 [==============================] - 0s 6ms/step - loss: 1.3105e-04\n",
      "Epoch 137/200\n",
      "5/5 [==============================] - 0s 4ms/step - loss: 1.2937e-04\n",
      "Epoch 138/200\n",
      "5/5 [==============================] - 0s 6ms/step - loss: 1.2765e-04\n",
      "Epoch 139/200\n",
      "5/5 [==============================] - 0s 9ms/step - loss: 1.2597e-04\n",
      "Epoch 140/200\n",
      "5/5 [==============================] - 0s 6ms/step - loss: 1.2438e-04\n",
      "Epoch 141/200\n",
      "5/5 [==============================] - 0s 5ms/step - loss: 1.2275e-04\n",
      "Epoch 142/200\n",
      "5/5 [==============================] - 0s 6ms/step - loss: 1.2121e-04\n",
      "Epoch 143/200\n",
      "5/5 [==============================] - 0s 5ms/step - loss: 1.1967e-04\n",
      "Epoch 144/200\n",
      "5/5 [==============================] - 0s 6ms/step - loss: 1.1810e-04\n",
      "Epoch 145/200\n",
      "5/5 [==============================] - 0s 5ms/step - loss: 1.1662e-04\n",
      "Epoch 146/200\n",
      "5/5 [==============================] - 0s 5ms/step - loss: 1.1524e-04\n",
      "Epoch 147/200\n",
      "5/5 [==============================] - 0s 7ms/step - loss: 1.1371e-04\n",
      "Epoch 148/200\n",
      "5/5 [==============================] - 0s 6ms/step - loss: 1.1230e-04\n",
      "Epoch 149/200\n",
      "5/5 [==============================] - 0s 8ms/step - loss: 1.1089e-04\n",
      "Epoch 150/200\n",
      "5/5 [==============================] - 0s 5ms/step - loss: 1.0952e-04\n",
      "Epoch 151/200\n",
      "5/5 [==============================] - 0s 4ms/step - loss: 1.0818e-04\n",
      "Epoch 152/200\n",
      "5/5 [==============================] - 0s 6ms/step - loss: 1.0687e-04\n",
      "Epoch 153/200\n",
      "5/5 [==============================] - 0s 5ms/step - loss: 1.0557e-04\n",
      "Epoch 154/200\n",
      "5/5 [==============================] - 0s 5ms/step - loss: 1.0430e-04\n",
      "Epoch 155/200\n",
      "5/5 [==============================] - 0s 4ms/step - loss: 1.0307e-04\n",
      "Epoch 156/200\n",
      "5/5 [==============================] - 0s 5ms/step - loss: 1.0180e-04\n",
      "Epoch 157/200\n",
      "5/5 [==============================] - 0s 5ms/step - loss: 1.0062e-04\n",
      "Epoch 158/200\n",
      "5/5 [==============================] - 0s 6ms/step - loss: 9.9411e-05\n",
      "Epoch 159/200\n",
      "5/5 [==============================] - 0s 7ms/step - loss: 9.8242e-05\n",
      "Epoch 160/200\n",
      "5/5 [==============================] - 0s 6ms/step - loss: 9.7114e-05\n",
      "Epoch 161/200\n",
      "5/5 [==============================] - 0s 4ms/step - loss: 9.5978e-05\n",
      "Epoch 162/200\n",
      "5/5 [==============================] - 0s 6ms/step - loss: 9.4892e-05\n",
      "Epoch 163/200\n",
      "5/5 [==============================] - 0s 4ms/step - loss: 9.3810e-05\n",
      "Epoch 164/200\n",
      "5/5 [==============================] - 0s 6ms/step - loss: 9.2679e-05\n",
      "Epoch 165/200\n",
      "5/5 [==============================] - 0s 5ms/step - loss: 9.1625e-05\n",
      "Epoch 166/200\n",
      "5/5 [==============================] - 0s 7ms/step - loss: 9.0602e-05\n",
      "Epoch 167/200\n",
      "5/5 [==============================] - 0s 7ms/step - loss: 8.9559e-05\n",
      "Epoch 168/200\n",
      "5/5 [==============================] - 0s 6ms/step - loss: 8.8551e-05\n",
      "Epoch 169/200\n",
      "5/5 [==============================] - 0s 6ms/step - loss: 8.7559e-05\n",
      "Epoch 170/200\n",
      "5/5 [==============================] - 0s 5ms/step - loss: 8.6552e-05\n",
      "Epoch 171/200\n",
      "5/5 [==============================] - 0s 6ms/step - loss: 8.5579e-05\n",
      "Epoch 172/200\n",
      "5/5 [==============================] - 0s 4ms/step - loss: 8.4658e-05\n",
      "Epoch 173/200\n",
      "5/5 [==============================] - 0s 9ms/step - loss: 8.3703e-05\n",
      "Epoch 174/200\n",
      "5/5 [==============================] - 0s 6ms/step - loss: 8.2780e-05\n",
      "Epoch 175/200\n",
      "5/5 [==============================] - 0s 5ms/step - loss: 8.1865e-05\n",
      "Epoch 176/200\n",
      "5/5 [==============================] - 0s 7ms/step - loss: 8.0983e-05\n",
      "Epoch 177/200\n",
      "5/5 [==============================] - 0s 6ms/step - loss: 8.0102e-05\n",
      "Epoch 178/200\n",
      "5/5 [==============================] - 0s 5ms/step - loss: 7.9231e-05\n",
      "Epoch 179/200\n",
      "5/5 [==============================] - 0s 5ms/step - loss: 7.8377e-05\n",
      "Epoch 180/200\n",
      "5/5 [==============================] - 0s 6ms/step - loss: 7.7486e-05\n",
      "Epoch 181/200\n",
      "5/5 [==============================] - 0s 4ms/step - loss: 7.6691e-05\n",
      "Epoch 182/200\n",
      "5/5 [==============================] - 0s 6ms/step - loss: 7.5840e-05\n",
      "Epoch 183/200\n",
      "5/5 [==============================] - 0s 5ms/step - loss: 7.5072e-05\n",
      "Epoch 184/200\n",
      "5/5 [==============================] - 0s 5ms/step - loss: 7.4257e-05\n",
      "Epoch 185/200\n",
      "5/5 [==============================] - 0s 5ms/step - loss: 7.3483e-05\n",
      "Epoch 186/200\n",
      "5/5 [==============================] - 0s 5ms/step - loss: 7.2733e-05\n",
      "Epoch 187/200\n",
      "5/5 [==============================] - 0s 6ms/step - loss: 7.1947e-05\n",
      "Epoch 188/200\n",
      "5/5 [==============================] - 0s 6ms/step - loss: 7.1151e-05\n",
      "Epoch 189/200\n",
      "5/5 [==============================] - 0s 5ms/step - loss: 7.0451e-05\n",
      "Epoch 190/200\n",
      "5/5 [==============================] - 0s 5ms/step - loss: 6.9704e-05\n",
      "Epoch 191/200\n",
      "5/5 [==============================] - 0s 6ms/step - loss: 6.8996e-05\n",
      "Epoch 192/200\n",
      "5/5 [==============================] - 0s 13ms/step - loss: 6.8271e-05\n",
      "Epoch 193/200\n",
      "5/5 [==============================] - 0s 5ms/step - loss: 6.7597e-05\n",
      "Epoch 194/200\n",
      "5/5 [==============================] - 0s 5ms/step - loss: 6.6887e-05\n",
      "Epoch 195/200\n",
      "5/5 [==============================] - 0s 5ms/step - loss: 6.6216e-05\n",
      "Epoch 196/200\n",
      "5/5 [==============================] - 0s 5ms/step - loss: 6.5588e-05\n",
      "Epoch 197/200\n",
      "5/5 [==============================] - 0s 10ms/step - loss: 6.4893e-05\n",
      "Epoch 198/200\n",
      "5/5 [==============================] - 0s 5ms/step - loss: 6.4230e-05\n",
      "Epoch 199/200\n",
      "5/5 [==============================] - 0s 6ms/step - loss: 6.3593e-05\n",
      "Epoch 200/200\n",
      "5/5 [==============================] - 0s 5ms/step - loss: 6.2976e-05\n"
     ]
    }
   ],
   "source": [
    "history = model.fit(X_train, y_train, epochs=200)"
   ]
  },
  {
   "cell_type": "code",
   "execution_count": 59,
   "metadata": {
    "colab": {
     "base_uri": "https://localhost:8080/"
    },
    "id": "9EXENhBuamNM",
    "outputId": "94dababb-477a-4e6f-c47d-deeb5fb3b3bc"
   },
   "outputs": [
    {
     "data": {
      "text/plain": [
       "0.48"
      ]
     },
     "execution_count": 59,
     "metadata": {},
     "output_type": "execute_result"
    }
   ],
   "source": [
    "y_predict = np.argmax(model.predict(X_test), axis=1)\n",
    "sklearn.metrics.accuracy_score(y_test, y_predict)"
   ]
  },
  {
   "cell_type": "markdown",
   "metadata": {
    "id": "TzqUaqB3h-JA"
   },
   "source": [
    "So our deep(er) Keras model does better than the single layer Keras, and matches the PyTorch deep net."
   ]
  },
  {
   "cell_type": "markdown",
   "metadata": {
    "id": "U7USLd3V843d"
   },
   "source": [
    "### PyTorch deep net\n",
    "\n",
    "Very similar to our first example, except we add an extra hidden unit layer for the tensors to go through."
   ]
  },
  {
   "cell_type": "code",
   "execution_count": 60,
   "metadata": {
    "id": "gHYXi4Ux843d"
   },
   "outputs": [],
   "source": [
    "class DeepNetwork(nn.Module):\n",
    "    def __init__(self):\n",
    "        super().__init__()\n",
    "        # Inputs to hidden layer linear transformation\n",
    "        self.hidden = nn.Linear(200, 200)\n",
    "        # Output layer\n",
    "        self.output = nn.Linear(200, 1)\n",
    "        # Define sigmoid activation and softmax output \n",
    "        self.relu = nn.ReLU()\n",
    "        self.sigmoid = nn.Sigmoid()\n",
    "\n",
    "    def forward(self, x):\n",
    "        # Pass the input tensor through each of our operations\n",
    "        x = self.hidden(x)\n",
    "        x = self.relu(x)\n",
    "        # notice how we just add another hidden unit layer\n",
    "        x = self.hidden(x)\n",
    "        x = self.relu(x)\n",
    "        x = self.output(x)\n",
    "        x = self.sigmoid(x)\n",
    "        return x"
   ]
  },
  {
   "cell_type": "code",
   "execution_count": 61,
   "metadata": {
    "id": "1q3KPeQM843e"
   },
   "outputs": [],
   "source": [
    "net = DeepNetwork()\n",
    "opt = optim.Adam(net.parameters(), lr=0.001, betas=(0.9, 0.999))\n",
    "criterion = nn.BCELoss()"
   ]
  },
  {
   "cell_type": "code",
   "execution_count": 62,
   "metadata": {
    "id": "kaYXB993Z8Vg"
   },
   "outputs": [],
   "source": [
    "X_train_tensor = torch.tensor(X_train)\n",
    "y_train_tensor = torch.tensor(y_train).type(torch.LongTensor).unsqueeze(1)"
   ]
  },
  {
   "cell_type": "code",
   "execution_count": 63,
   "metadata": {
    "id": "GoiHhML9843e"
   },
   "outputs": [],
   "source": [
    "e_losses = []\n",
    "num_epochs = 200\n",
    "for e in range(num_epochs):\n",
    "    e_losses += train_epoch(net, opt, criterion, X_train_tensor.float(), y_train_tensor.float())"
   ]
  },
  {
   "cell_type": "code",
   "execution_count": 64,
   "metadata": {
    "colab": {
     "base_uri": "https://localhost:8080/",
     "height": 295
    },
    "id": "cAXJe8rUiuXH",
    "outputId": "3470734c-6a5f-49c6-d8e8-f23c88174a5e"
   },
   "outputs": [
    {
     "data": {
      "image/png": "[encoded data removed]",
      "text/plain": [
       "<Figure size 432x288 with 1 Axes>"
      ]
     },
     "metadata": {
      "needs_background": "light"
     },
     "output_type": "display_data"
    }
   ],
   "source": [
    "plt.title(\"Loss for Neural Net Training\")\n",
    "plt.xlabel(\"Number of epochs\")\n",
    "plt.ylabel(\"Loss\")\n",
    "plt.plot(e_losses)\n",
    "plt.show()"
   ]
  },
  {
   "cell_type": "code",
   "execution_count": 65,
   "metadata": {
    "id": "9w4AzfR8843e"
   },
   "outputs": [],
   "source": [
    "output = net(torch.tensor(X_test).float())"
   ]
  },
  {
   "cell_type": "code",
   "execution_count": 66,
   "metadata": {
    "id": "nxdnR-MCcr0B"
   },
   "outputs": [],
   "source": [
    "y_pred = (output.detach().numpy() > 0.5).astype(\"int32\")"
   ]
  },
  {
   "cell_type": "code",
   "execution_count": 67,
   "metadata": {
    "colab": {
     "base_uri": "https://localhost:8080/"
    },
    "id": "O_zKo9pc843f",
    "outputId": "f1416ebc-4561-4b72-939e-43f089880199"
   },
   "outputs": [
    {
     "data": {
      "text/plain": [
       "0.88"
      ]
     },
     "execution_count": 67,
     "metadata": {},
     "output_type": "execute_result"
    }
   ],
   "source": [
    "sklearn.metrics.accuracy_score(y_test, y_pred)"
   ]
  },
  {
   "cell_type": "markdown",
   "metadata": {
    "id": "NW27TEcp843f"
   },
   "source": [
    "Adding just one layer improved model accuracies for both our Keras and PyTorch implementations!\n",
    "Adding depth adds non-linearity and is able to capture more complex relations. Keras and PyTorch have different set ups and formats, and you would want to switch things around as you see fit. \n",
    "\n",
    "Let's try and add one more layer, and try out different optimisers and loss functions to see what happens.\n",
    "\n"
   ]
  },
  {
   "cell_type": "code",
   "execution_count": 68,
   "metadata": {
    "id": "prpAwmf3igPf"
   },
   "outputs": [],
   "source": [
    "class DeeperNetwork(nn.Module):\n",
    "    def __init__(self):\n",
    "        super().__init__()\n",
    "        # Inputs to hidden layer linear transformation\n",
    "        self.hidden = nn.Linear(200, 200)\n",
    "        # Output layer\n",
    "        self.output = nn.Linear(200, 1)\n",
    "        # Define sigmoid activation and softmax output \n",
    "        self.relu = nn.ReLU()\n",
    "        self.sigmoid = nn.Sigmoid()\n",
    "        \n",
    "\n",
    "    def forward(self, x):\n",
    "        # Pass the input tensor through each of our operations\n",
    "        x = self.hidden(x)\n",
    "        x = self.relu(x)\n",
    "        # notice how we just add another hidden unit layer\n",
    "        x = self.hidden(x)\n",
    "        x = self.relu(x)\n",
    "        # adding another layer\n",
    "        x = self.hidden(x)\n",
    "        x = self.relu(x)\n",
    "\n",
    "        x = self.output(x)\n",
    "        x = self.sigmoid(x)\n",
    "        return x"
   ]
  },
  {
   "cell_type": "code",
   "execution_count": 69,
   "metadata": {
    "id": "Q4d7HJQwkutV"
   },
   "outputs": [],
   "source": [
    "net = DeeperNetwork()\n",
    "opt = optim.Adagrad(net.parameters(), lr=0.01, lr_decay=0, weight_decay=0, initial_accumulator_value=0, eps=1e-10)\n",
    "criterion = nn.PoissonNLLLoss()"
   ]
  },
  {
   "cell_type": "code",
   "execution_count": 70,
   "metadata": {
    "id": "qIoy_19ald5c"
   },
   "outputs": [],
   "source": [
    "e_losses = []\n",
    "num_epochs = 200\n",
    "for e in range(num_epochs):\n",
    "    e_losses += train_epoch(net, opt, criterion, X_train_tensor.float(), y_train_tensor.float())"
   ]
  },
  {
   "cell_type": "code",
   "execution_count": 71,
   "metadata": {
    "colab": {
     "base_uri": "https://localhost:8080/",
     "height": 295
    },
    "id": "nMB1Editlv-H",
    "outputId": "1c27307a-7037-47aa-bcf9-8a94861e8765"
   },
   "outputs": [
    {
     "data": {
      "image/png": "[encoded data removed]",
      "text/plain": [
       "<Figure size 432x288 with 1 Axes>"
      ]
     },
     "metadata": {
      "needs_background": "light"
     },
     "output_type": "display_data"
    }
   ],
   "source": [
    "plt.title(\"Loss for Neural Net Training\")\n",
    "plt.xlabel(\"Number of epochs\")\n",
    "plt.ylabel(\"Loss\")\n",
    "plt.plot(e_losses)\n",
    "plt.show()"
   ]
  },
  {
   "cell_type": "code",
   "execution_count": 72,
   "metadata": {
    "id": "txKf4ezml1Ej"
   },
   "outputs": [],
   "source": [
    "output = net(torch.tensor(X_test).float())"
   ]
  },
  {
   "cell_type": "code",
   "execution_count": 73,
   "metadata": {
    "id": "2AxY7ZMZl4Az"
   },
   "outputs": [],
   "source": [
    "y_pred = (output.detach().numpy() > 0.5).astype(\"int32\")"
   ]
  },
  {
   "cell_type": "code",
   "execution_count": 74,
   "metadata": {
    "colab": {
     "base_uri": "https://localhost:8080/"
    },
    "id": "rFUC99W4l6-C",
    "outputId": "7427729e-8fc0-421c-9e8a-3cae0044bce6"
   },
   "outputs": [
    {
     "data": {
      "text/plain": [
       "0.48"
      ]
     },
     "execution_count": 74,
     "metadata": {},
     "output_type": "execute_result"
    }
   ],
   "source": [
    "sklearn.metrics.accuracy_score(y_test, y_pred)"
   ]
  },
  {
   "cell_type": "markdown",
   "metadata": {
    "id": "OGjlRcr8n80l"
   },
   "source": [
    "Uh oh - the loss function is dramatically failing, and our Poisson experiment did not end well. Which makes absolute sense, it isn't one suited for our task at hand. Let's change our loss and see if we fare better."
   ]
  },
  {
   "cell_type": "code",
   "execution_count": 75,
   "metadata": {
    "id": "140Wp3ieoPM1"
   },
   "outputs": [],
   "source": [
    "net = DeeperNetwork()\n",
    "opt = optim.Adagrad(net.parameters(), lr=0.01, lr_decay=0, weight_decay=0, initial_accumulator_value=0, eps=1e-10)\n",
    "criterion = nn.BCELoss()"
   ]
  },
  {
   "cell_type": "code",
   "execution_count": 76,
   "metadata": {
    "id": "YEuhD3_Mohhu"
   },
   "outputs": [],
   "source": [
    "e_losses = []\n",
    "num_epochs = 200\n",
    "for e in range(num_epochs):\n",
    "    e_losses += train_epoch(net, opt, criterion, X_train_tensor.float(), y_train_tensor.float())"
   ]
  },
  {
   "cell_type": "code",
   "execution_count": 77,
   "metadata": {
    "colab": {
     "base_uri": "https://localhost:8080/",
     "height": 295
    },
    "id": "xy0jf25QouKf",
    "outputId": "7ce10f30-ebe0-41f7-9a5a-1b854cfedb75"
   },
   "outputs": [
    {
     "data": {
      "image/png": "[encoded data removed]",
      "text/plain": [
       "<Figure size 432x288 with 1 Axes>"
      ]
     },
     "metadata": {
      "needs_background": "light"
     },
     "output_type": "display_data"
    }
   ],
   "source": [
    "plt.title(\"Loss for Neural Net Training\")\n",
    "plt.xlabel(\"Number of epochs\")\n",
    "plt.ylabel(\"Loss\")\n",
    "plt.plot(e_losses)\n",
    "plt.show()"
   ]
  },
  {
   "cell_type": "code",
   "execution_count": 78,
   "metadata": {
    "id": "20ay6Wlbov02"
   },
   "outputs": [],
   "source": [
    "output = net(torch.tensor(X_test).float())"
   ]
  },
  {
   "cell_type": "code",
   "execution_count": 79,
   "metadata": {
    "id": "uU296-VmoyH-"
   },
   "outputs": [],
   "source": [
    "y_pred = (output.detach().numpy() > 0.5).astype(\"int32\")"
   ]
  },
  {
   "cell_type": "code",
   "execution_count": 80,
   "metadata": {
    "colab": {
     "base_uri": "https://localhost:8080/"
    },
    "id": "qST5b9TWox7h",
    "outputId": "0fab0689-7912-47d9-9e8d-59fa5de31126"
   },
   "outputs": [
    {
     "data": {
      "text/plain": [
       "0.82"
      ]
     },
     "execution_count": 80,
     "metadata": {},
     "output_type": "execute_result"
    }
   ],
   "source": [
    "sklearn.metrics.accuracy_score(y_test, y_pred)"
   ]
  },
  {
   "cell_type": "markdown",
   "metadata": {
    "id": "onHrGWd6o6Ij"
   },
   "source": [
    "So the loss is suited for the task, but it seems like the extra layer and Adargrad didn't necessarily do the trick. In your homework, you will experiment similarly with archistecture design and state your results, analysis, and explanations."
   ]
  },
  {
   "cell_type": "markdown",
   "metadata": {
    "id": "ULW3oWMNeDTS"
   },
   "source": [
    "###  Interpretability in Neural Networks\n",
    "Traditionally, neural networks have been taken as \"black boxes\" good at prediction but not accessible for interpretation. However, in recent years, with the development of AI, people have begun to think about the possibility of interpreting neural networks outcomes for theoretical insight. In this section, we introduce a library--Captum, which aims to interpret the outcomes of feedforward neural networks in terms of input feature importances, layers and neurons that contribute most to the ultimate prediction."
   ]
  },
  {
   "cell_type": "markdown",
   "metadata": {
    "id": "5B7gVtUPeDXX"
   },
   "source": [
    "We first install the packages. In this section, we demonstrate two examples. In the first, a deep neural network is trained on data with PyTorch, and Captum is used to understand which of the features were most important and how the network reached its prediction. In the second example, a simple DNN model trained on a sub-sample of a well-known Boston house prices dataset. Captum is used to understand important features, layers / neurons that contribute to the prediction. More details can be found in the official documentations of Captum. \n",
    "\n",
    "https://captum.ai/tutorials/\n",
    "\n",
    "Let's begin!"
   ]
  },
  {
   "cell_type": "markdown",
   "metadata": {
    "id": "L6oEWVJrnjDO"
   },
   "source": [
    "**Example 1: Titanic survival Classification**"
   ]
  },
  {
   "cell_type": "code",
   "execution_count": 81,
   "metadata": {
    "colab": {
     "base_uri": "https://localhost:8080/"
    },
    "id": "RxR9qNjriyXv",
    "outputId": "6d51562c-26ee-4f5c-ae8d-6f3ed155c19f"
   },
   "outputs": [
    {
     "name": "stdout",
     "output_type": "stream",
     "text": [
      "Collecting captum\n",
      "  Downloading captum-0.5.0-py3-none-any.whl (1.4 MB)\n",
      "\u001b[?25l\r",
      "\u001b[K     |▎                               | 10 kB 33.8 MB/s eta 0:00:01\r",
      "\u001b[K     |▌                               | 20 kB 39.8 MB/s eta 0:00:01\r",
      "\u001b[K     |▊                               | 30 kB 25.6 MB/s eta 0:00:01\r",
      "\u001b[K     |█                               | 40 kB 15.3 MB/s eta 0:00:01\r",
      "\u001b[K     |█▏                              | 51 kB 13.6 MB/s eta 0:00:01\r",
      "\u001b[K     |█▍                              | 61 kB 15.9 MB/s eta 0:00:01\r",
      "\u001b[K     |█▋                              | 71 kB 15.5 MB/s eta 0:00:01\r",
      "\u001b[K     |█▉                              | 81 kB 14.7 MB/s eta 0:00:01\r",
      "\u001b[K     |██                              | 92 kB 16.2 MB/s eta 0:00:01\r",
      "\u001b[K     |██▎                             | 102 kB 16.4 MB/s eta 0:00:01\r",
      "\u001b[K     |██▌                             | 112 kB 16.4 MB/s eta 0:00:01\r",
      "\u001b[K     |██▊                             | 122 kB 16.4 MB/s eta 0:00:01\r",
      "\u001b[K     |███                             | 133 kB 16.4 MB/s eta 0:00:01\r",
      "\u001b[K     |███▏                            | 143 kB 16.4 MB/s eta 0:00:01\r",
      "\u001b[K     |███▌                            | 153 kB 16.4 MB/s eta 0:00:01\r",
      "\u001b[K     |███▊                            | 163 kB 16.4 MB/s eta 0:00:01\r",
      "\u001b[K     |████                            | 174 kB 16.4 MB/s eta 0:00:01\r",
      "\u001b[K     |████▏                           | 184 kB 16.4 MB/s eta 0:00:01\r",
      "\u001b[K     |████▍                           | 194 kB 16.4 MB/s eta 0:00:01\r",
      "\u001b[K     |████▋                           | 204 kB 16.4 MB/s eta 0:00:01\r",
      "\u001b[K     |████▉                           | 215 kB 16.4 MB/s eta 0:00:01\r",
      "\u001b[K     |█████                           | 225 kB 16.4 MB/s eta 0:00:01\r",
      "\u001b[K     |█████▎                          | 235 kB 16.4 MB/s eta 0:00:01\r",
      "\u001b[K     |█████▌                          | 245 kB 16.4 MB/s eta 0:00:01\r",
      "\u001b[K     |█████▊                          | 256 kB 16.4 MB/s eta 0:00:01\r",
      "\u001b[K     |██████                          | 266 kB 16.4 MB/s eta 0:00:01\r",
      "\u001b[K     |██████▏                         | 276 kB 16.4 MB/s eta 0:00:01\r",
      "\u001b[K     |██████▍                         | 286 kB 16.4 MB/s eta 0:00:01\r",
      "\u001b[K     |██████▋                         | 296 kB 16.4 MB/s eta 0:00:01\r",
      "\u001b[K     |███████                         | 307 kB 16.4 MB/s eta 0:00:01\r",
      "\u001b[K     |███████▏                        | 317 kB 16.4 MB/s eta 0:00:01\r",
      "\u001b[K     |███████▍                        | 327 kB 16.4 MB/s eta 0:00:01\r",
      "\u001b[K     |███████▋                        | 337 kB 16.4 MB/s eta 0:00:01\r",
      "\u001b[K     |███████▉                        | 348 kB 16.4 MB/s eta 0:00:01\r",
      "\u001b[K     |████████                        | 358 kB 16.4 MB/s eta 0:00:01\r",
      "\u001b[K     |████████▎                       | 368 kB 16.4 MB/s eta 0:00:01\r",
      "\u001b[K     |████████▌                       | 378 kB 16.4 MB/s eta 0:00:01\r",
      "\u001b[K     |████████▊                       | 389 kB 16.4 MB/s eta 0:00:01\r",
      "\u001b[K     |█████████                       | 399 kB 16.4 MB/s eta 0:00:01\r",
      "\u001b[K     |█████████▏                      | 409 kB 16.4 MB/s eta 0:00:01\r",
      "\u001b[K     |█████████▍                      | 419 kB 16.4 MB/s eta 0:00:01\r",
      "\u001b[K     |█████████▋                      | 430 kB 16.4 MB/s eta 0:00:01\r",
      "\u001b[K     |█████████▉                      | 440 kB 16.4 MB/s eta 0:00:01\r",
      "\u001b[K     |██████████▏                     | 450 kB 16.4 MB/s eta 0:00:01\r",
      "\u001b[K     |██████████▍                     | 460 kB 16.4 MB/s eta 0:00:01\r",
      "\u001b[K     |██████████▋                     | 471 kB 16.4 MB/s eta 0:00:01\r",
      "\u001b[K     |██████████▉                     | 481 kB 16.4 MB/s eta 0:00:01\r",
      "\u001b[K     |███████████                     | 491 kB 16.4 MB/s eta 0:00:01\r",
      "\u001b[K     |███████████▎                    | 501 kB 16.4 MB/s eta 0:00:01\r",
      "\u001b[K     |███████████▌                    | 512 kB 16.4 MB/s eta 0:00:01\r",
      "\u001b[K     |███████████▊                    | 522 kB 16.4 MB/s eta 0:00:01\r",
      "\u001b[K     |████████████                    | 532 kB 16.4 MB/s eta 0:00:01\r",
      "\u001b[K     |████████████▏                   | 542 kB 16.4 MB/s eta 0:00:01\r",
      "\u001b[K     |████████████▍                   | 552 kB 16.4 MB/s eta 0:00:01\r",
      "\u001b[K     |████████████▋                   | 563 kB 16.4 MB/s eta 0:00:01\r",
      "\u001b[K     |████████████▉                   | 573 kB 16.4 MB/s eta 0:00:01\r",
      "\u001b[K     |█████████████                   | 583 kB 16.4 MB/s eta 0:00:01\r",
      "\u001b[K     |█████████████▎                  | 593 kB 16.4 MB/s eta 0:00:01\r",
      "\u001b[K     |█████████████▋                  | 604 kB 16.4 MB/s eta 0:00:01\r",
      "\u001b[K     |█████████████▉                  | 614 kB 16.4 MB/s eta 0:00:01\r",
      "\u001b[K     |██████████████                  | 624 kB 16.4 MB/s eta 0:00:01\r",
      "\u001b[K     |██████████████▎                 | 634 kB 16.4 MB/s eta 0:00:01\r",
      "\u001b[K     |██████████████▌                 | 645 kB 16.4 MB/s eta 0:00:01\r",
      "\u001b[K     |██████████████▊                 | 655 kB 16.4 MB/s eta 0:00:01\r",
      "\u001b[K     |███████████████                 | 665 kB 16.4 MB/s eta 0:00:01\r",
      "\u001b[K     |███████████████▏                | 675 kB 16.4 MB/s eta 0:00:01\r",
      "\u001b[K     |███████████████▍                | 686 kB 16.4 MB/s eta 0:00:01\r",
      "\u001b[K     |███████████████▋                | 696 kB 16.4 MB/s eta 0:00:01\r",
      "\u001b[K     |███████████████▉                | 706 kB 16.4 MB/s eta 0:00:01\r",
      "\u001b[K     |████████████████                | 716 kB 16.4 MB/s eta 0:00:01\r",
      "\u001b[K     |████████████████▎               | 727 kB 16.4 MB/s eta 0:00:01\r",
      "\u001b[K     |████████████████▌               | 737 kB 16.4 MB/s eta 0:00:01\r",
      "\u001b[K     |████████████████▊               | 747 kB 16.4 MB/s eta 0:00:01\r",
      "\u001b[K     |█████████████████               | 757 kB 16.4 MB/s eta 0:00:01\r",
      "\u001b[K     |█████████████████▎              | 768 kB 16.4 MB/s eta 0:00:01\r",
      "\u001b[K     |█████████████████▌              | 778 kB 16.4 MB/s eta 0:00:01\r",
      "\u001b[K     |█████████████████▊              | 788 kB 16.4 MB/s eta 0:00:01\r",
      "\u001b[K     |██████████████████              | 798 kB 16.4 MB/s eta 0:00:01\r",
      "\u001b[K     |██████████████████▏             | 808 kB 16.4 MB/s eta 0:00:01\r",
      "\u001b[K     |██████████████████▍             | 819 kB 16.4 MB/s eta 0:00:01\r",
      "\u001b[K     |██████████████████▋             | 829 kB 16.4 MB/s eta 0:00:01\r",
      "\u001b[K     |██████████████████▉             | 839 kB 16.4 MB/s eta 0:00:01\r",
      "\u001b[K     |███████████████████             | 849 kB 16.4 MB/s eta 0:00:01\r",
      "\u001b[K     |███████████████████▎            | 860 kB 16.4 MB/s eta 0:00:01\r",
      "\u001b[K     |███████████████████▌            | 870 kB 16.4 MB/s eta 0:00:01\r",
      "\u001b[K     |███████████████████▊            | 880 kB 16.4 MB/s eta 0:00:01\r",
      "\u001b[K     |████████████████████            | 890 kB 16.4 MB/s eta 0:00:01\r",
      "\u001b[K     |████████████████████▎           | 901 kB 16.4 MB/s eta 0:00:01\r",
      "\u001b[K     |████████████████████▌           | 911 kB 16.4 MB/s eta 0:00:01\r",
      "\u001b[K     |████████████████████▊           | 921 kB 16.4 MB/s eta 0:00:01\r",
      "\u001b[K     |█████████████████████           | 931 kB 16.4 MB/s eta 0:00:01\r",
      "\u001b[K     |█████████████████████▏          | 942 kB 16.4 MB/s eta 0:00:01\r",
      "\u001b[K     |█████████████████████▍          | 952 kB 16.4 MB/s eta 0:00:01\r",
      "\u001b[K     |█████████████████████▋          | 962 kB 16.4 MB/s eta 0:00:01\r",
      "\u001b[K     |█████████████████████▉          | 972 kB 16.4 MB/s eta 0:00:01\r",
      "\u001b[K     |██████████████████████          | 983 kB 16.4 MB/s eta 0:00:01\r",
      "\u001b[K     |██████████████████████▎         | 993 kB 16.4 MB/s eta 0:00:01\r",
      "\u001b[K     |██████████████████████▌         | 1.0 MB 16.4 MB/s eta 0:00:01\r",
      "\u001b[K     |██████████████████████▊         | 1.0 MB 16.4 MB/s eta 0:00:01\r",
      "\u001b[K     |███████████████████████         | 1.0 MB 16.4 MB/s eta 0:00:01\r",
      "\u001b[K     |███████████████████████▏        | 1.0 MB 16.4 MB/s eta 0:00:01\r",
      "\u001b[K     |███████████████████████▍        | 1.0 MB 16.4 MB/s eta 0:00:01\r",
      "\u001b[K     |███████████████████████▊        | 1.1 MB 16.4 MB/s eta 0:00:01\r",
      "\u001b[K     |████████████████████████        | 1.1 MB 16.4 MB/s eta 0:00:01\r",
      "\u001b[K     |████████████████████████▏       | 1.1 MB 16.4 MB/s eta 0:00:01\r",
      "\u001b[K     |████████████████████████▍       | 1.1 MB 16.4 MB/s eta 0:00:01\r",
      "\u001b[K     |████████████████████████▋       | 1.1 MB 16.4 MB/s eta 0:00:01\r",
      "\u001b[K     |████████████████████████▉       | 1.1 MB 16.4 MB/s eta 0:00:01\r",
      "\u001b[K     |█████████████████████████       | 1.1 MB 16.4 MB/s eta 0:00:01\r",
      "\u001b[K     |█████████████████████████▎      | 1.1 MB 16.4 MB/s eta 0:00:01\r",
      "\u001b[K     |█████████████████████████▌      | 1.1 MB 16.4 MB/s eta 0:00:01\r",
      "\u001b[K     |█████████████████████████▊      | 1.1 MB 16.4 MB/s eta 0:00:01\r",
      "\u001b[K     |██████████████████████████      | 1.2 MB 16.4 MB/s eta 0:00:01\r",
      "\u001b[K     |██████████████████████████▏     | 1.2 MB 16.4 MB/s eta 0:00:01\r",
      "\u001b[K     |██████████████████████████▍     | 1.2 MB 16.4 MB/s eta 0:00:01\r",
      "\u001b[K     |██████████████████████████▋     | 1.2 MB 16.4 MB/s eta 0:00:01\r",
      "\u001b[K     |███████████████████████████     | 1.2 MB 16.4 MB/s eta 0:00:01\r",
      "\u001b[K     |███████████████████████████▏    | 1.2 MB 16.4 MB/s eta 0:00:01\r",
      "\u001b[K     |███████████████████████████▍    | 1.2 MB 16.4 MB/s eta 0:00:01\r",
      "\u001b[K     |███████████████████████████▋    | 1.2 MB 16.4 MB/s eta 0:00:01\r",
      "\u001b[K     |███████████████████████████▉    | 1.2 MB 16.4 MB/s eta 0:00:01\r",
      "\u001b[K     |████████████████████████████    | 1.2 MB 16.4 MB/s eta 0:00:01\r",
      "\u001b[K     |████████████████████████████▎   | 1.3 MB 16.4 MB/s eta 0:00:01\r",
      "\u001b[K     |████████████████████████████▌   | 1.3 MB 16.4 MB/s eta 0:00:01\r",
      "\u001b[K     |████████████████████████████▊   | 1.3 MB 16.4 MB/s eta 0:00:01\r",
      "\u001b[K     |█████████████████████████████   | 1.3 MB 16.4 MB/s eta 0:00:01\r",
      "\u001b[K     |█████████████████████████████▏  | 1.3 MB 16.4 MB/s eta 0:00:01\r",
      "\u001b[K     |█████████████████████████████▍  | 1.3 MB 16.4 MB/s eta 0:00:01\r",
      "\u001b[K     |█████████████████████████████▋  | 1.3 MB 16.4 MB/s eta 0:00:01\r",
      "\u001b[K     |█████████████████████████████▉  | 1.3 MB 16.4 MB/s eta 0:00:01\r",
      "\u001b[K     |██████████████████████████████  | 1.3 MB 16.4 MB/s eta 0:00:01\r",
      "\u001b[K     |██████████████████████████████▍ | 1.4 MB 16.4 MB/s eta 0:00:01\r",
      "\u001b[K     |██████████████████████████████▋ | 1.4 MB 16.4 MB/s eta 0:00:01\r",
      "\u001b[K     |██████████████████████████████▉ | 1.4 MB 16.4 MB/s eta 0:00:01\r",
      "\u001b[K     |███████████████████████████████ | 1.4 MB 16.4 MB/s eta 0:00:01\r",
      "\u001b[K     |███████████████████████████████▎| 1.4 MB 16.4 MB/s eta 0:00:01\r",
      "\u001b[K     |███████████████████████████████▌| 1.4 MB 16.4 MB/s eta 0:00:01\r",
      "\u001b[K     |███████████████████████████████▊| 1.4 MB 16.4 MB/s eta 0:00:01\r",
      "\u001b[K     |████████████████████████████████| 1.4 MB 16.4 MB/s eta 0:00:01\r",
      "\u001b[K     |████████████████████████████████| 1.4 MB 16.4 MB/s \n",
      "\u001b[?25hRequirement already satisfied: numpy in /usr/local/lib/python3.7/dist-packages (from captum) (1.21.5)\n",
      "Requirement already satisfied: torch>=1.6 in /usr/local/lib/python3.7/dist-packages (from captum) (1.10.0+cu111)\n",
      "Requirement already satisfied: matplotlib in /usr/local/lib/python3.7/dist-packages (from captum) (3.2.2)\n",
      "Requirement already satisfied: typing-extensions in /usr/local/lib/python3.7/dist-packages (from torch>=1.6->captum) (3.10.0.2)\n",
      "Requirement already satisfied: kiwisolver>=1.0.1 in /usr/local/lib/python3.7/dist-packages (from matplotlib->captum) (1.4.0)\n",
      "Requirement already satisfied: pyparsing!=2.0.4,!=2.1.2,!=2.1.6,>=2.0.1 in /usr/local/lib/python3.7/dist-packages (from matplotlib->captum) (3.0.7)\n",
      "Requirement already satisfied: python-dateutil>=2.1 in /usr/local/lib/python3.7/dist-packages (from matplotlib->captum) (2.8.2)\n",
      "Requirement already satisfied: cycler>=0.10 in /usr/local/lib/python3.7/dist-packages (from matplotlib->captum) (0.11.0)\n",
      "Requirement already satisfied: six>=1.5 in /usr/local/lib/python3.7/dist-packages (from python-dateutil>=2.1->matplotlib->captum) (1.15.0)\n",
      "Installing collected packages: captum\n",
      "Successfully installed captum-0.5.0\n"
     ]
    }
   ],
   "source": [
    "!pip install captum"
   ]
  },
  {
   "cell_type": "code",
   "execution_count": 82,
   "metadata": {
    "id": "buf_2E-Di9dl"
   },
   "outputs": [],
   "source": [
    "# Initial imports\n",
    "import numpy as np\n",
    "\n",
    "import torch\n",
    "\n",
    "from captum.attr import IntegratedGradients\n",
    "from captum.attr import LayerConductance\n",
    "from captum.attr import NeuronConductance\n",
    "\n",
    "import matplotlib\n",
    "import matplotlib.pyplot as plt\n",
    "%matplotlib inline\n",
    "\n",
    "from scipy import stats\n",
    "import pandas as pd"
   ]
  },
  {
   "cell_type": "markdown",
   "metadata": {
    "id": "MzVDejYAjIFo"
   },
   "source": [
    "Download the dataset from https://biostat.app.vumc.org/wiki/pub/Main/DataSets/titanic3.csv and update the cell below with the path to the dataset csv."
   ]
  },
  {
   "cell_type": "code",
   "execution_count": 86,
   "metadata": {
    "colab": {
     "base_uri": "https://localhost:8080/"
    },
    "id": "ZJUhaeD6AK5o",
    "outputId": "d494c9bf-23f2-43d5-8428-78108d5c077f"
   },
   "outputs": [
    {
     "name": "stdout",
     "output_type": "stream",
     "text": [
      "Mounted at /content/drive\n"
     ]
    }
   ],
   "source": [
    "from google.colab import drive\n",
    "drive.mount('/content/drive')"
   ]
  },
  {
   "cell_type": "code",
   "execution_count": 87,
   "metadata": {
    "id": "v5VYH2UVjAfX"
   },
   "outputs": [],
   "source": [
    "dataset_path = 'drive/MyDrive/Colab Notebooks/DL/data/titanic3.csv'\n",
    "titanic_data = pd.read_csv(dataset_path)\n",
    "titanic_data = pd.concat([titanic_data,\n",
    "                          pd.get_dummies(titanic_data['sex']),\n",
    "                          pd.get_dummies(titanic_data['embarked'],prefix=\"embark\"),\n",
    "                          pd.get_dummies(titanic_data['pclass'],prefix=\"class\")], axis=1)\n",
    "titanic_data[\"age\"] = titanic_data[\"age\"].fillna(titanic_data[\"age\"].mean())\n",
    "titanic_data[\"fare\"] = titanic_data[\"fare\"].fillna(titanic_data[\"fare\"].mean())\n",
    "titanic_data = titanic_data.drop(['name','ticket','cabin','boat','body','home.dest','sex','embarked','pclass'], axis=1)"
   ]
  },
  {
   "cell_type": "markdown",
   "metadata": {
    "id": "gBoBhQY1jXRK"
   },
   "source": [
    "After processing, the features we have are:\n",
    "\n",
    "Age - Passenger Age\n",
    "\n",
    "Sibsp - Number of Siblings / Spouses Aboard\n",
    "\n",
    "Parch - Number of Parents / Children Aboard\n",
    "\n",
    "Fare - Fare Amount Paid in British Pounds\n",
    "\n",
    "Female - Binary variable indicating whether passenger is female\n",
    "\n",
    "Male - Binary variable indicating whether passenger is male\n",
    "\n",
    "EmbarkC - Binary variable indicating whether passenger \n",
    "embarked at Cherbourg\n",
    "\n",
    "EmbarkQ - Binary variable indicating whether passenger embarked at Queenstown\n",
    "\n",
    "EmbarkS - Binary variable indicating whether passenger embarked at Southampton\n",
    "\n",
    "Class1 - Binary variable indicating whether passenger was in first class\n",
    "\n",
    "Class2 - Binary variable indicating whether passenger was in second class\n",
    "\n",
    "Class3 - Binary variable indicating whether passenger was in third class"
   ]
  },
  {
   "cell_type": "code",
   "execution_count": 88,
   "metadata": {
    "id": "3A3s8lYOjSPH"
   },
   "outputs": [],
   "source": [
    "#We now convert the data to numpy arrays and separate the training and test sets.\n",
    "\n",
    "np.random.seed(131254)\n",
    "\n",
    "# Convert features and labels to numpy arrays.\n",
    "labels = titanic_data[\"survived\"].to_numpy()\n",
    "titanic_data = titanic_data.drop(['survived'], axis=1)\n",
    "feature_names = list(titanic_data.columns)\n",
    "data = titanic_data.to_numpy()\n",
    "\n",
    "# Separate training and test sets using \n",
    "train_indices = np.random.choice(len(labels), int(0.7*len(labels)), replace=False)\n",
    "test_indices = list(set(range(len(labels))) - set(train_indices))\n",
    "train_features = data[train_indices]\n",
    "train_labels = labels[train_indices]\n",
    "test_features = data[test_indices]\n",
    "test_labels = labels[test_indices]"
   ]
  },
  {
   "cell_type": "markdown",
   "metadata": {
    "id": "45akWcKrjtmW"
   },
   "source": [
    "Here, the authors of Captum have defined a simple architecture using 2 hidden layers, the first with 12 hidden units and the second with 8 hidden units, each with Sigmoid non-linearity. The final layer performs a softmax operation and has 2 units, corresponding to the outputs of either survived (1) or not survived (0)."
   ]
  },
  {
   "cell_type": "code",
   "execution_count": 89,
   "metadata": {
    "id": "MHLyAq4VjkUS"
   },
   "outputs": [],
   "source": [
    "\n",
    "import torch\n",
    "import torch.nn as nn\n",
    "torch.manual_seed(1)  # Set seed for reproducibility.\n",
    "class TitanicSimpleNNModel(nn.Module):\n",
    "    def __init__(self):\n",
    "        super().__init__()\n",
    "        self.linear1 = nn.Linear(12, 12)\n",
    "        self.sigmoid1 = nn.Sigmoid()\n",
    "        self.linear2 = nn.Linear(12, 8)\n",
    "        self.sigmoid2 = nn.Sigmoid()\n",
    "        self.linear3 = nn.Linear(8, 2)\n",
    "        self.softmax = nn.Softmax(dim=1)\n",
    "\n",
    "    def forward(self, x):\n",
    "        lin1_out = self.linear1(x)\n",
    "        sigmoid_out1 = self.sigmoid1(lin1_out)\n",
    "        sigmoid_out2 = self.sigmoid2(self.linear2(sigmoid_out1))\n",
    "        return self.softmax(self.linear3(sigmoid_out2))"
   ]
  },
  {
   "cell_type": "markdown",
   "metadata": {
    "id": "d2u7ps2Ij3R1"
   },
   "source": [
    "The pretrained model can be downloaded here: https://github.com/pytorch/captum/blob/master/tutorials/models/titanic_model.pt"
   ]
  },
  {
   "cell_type": "code",
   "execution_count": 90,
   "metadata": {
    "colab": {
     "base_uri": "https://localhost:8080/"
    },
    "id": "7Vre5qvGjvXZ",
    "outputId": "2490aa8e-c2fc-47e1-84bd-f5ff98f7eb91"
   },
   "outputs": [
    {
     "name": "stdout",
     "output_type": "stream",
     "text": [
      "Epoch 1/200 => Loss: 0.70\n",
      "Epoch 21/200 => Loss: 0.55\n",
      "Epoch 41/200 => Loss: 0.50\n",
      "Epoch 61/200 => Loss: 0.49\n",
      "Epoch 81/200 => Loss: 0.48\n",
      "Epoch 101/200 => Loss: 0.48\n",
      "Epoch 121/200 => Loss: 0.48\n",
      "Epoch 141/200 => Loss: 0.48\n",
      "Epoch 161/200 => Loss: 0.48\n",
      "Epoch 181/200 => Loss: 0.47\n"
     ]
    }
   ],
   "source": [
    "net = TitanicSimpleNNModel()\n",
    "USE_PRETRAINED_MODEL = False\n",
    "\n",
    "if USE_PRETRAINED_MODEL:\n",
    "    net.load_state_dict(torch.load('/content/titanic_model.pt'))\n",
    "    print(\"Model Loaded!\")\n",
    "else:\n",
    "    criterion = nn.CrossEntropyLoss()\n",
    "    num_epochs = 200\n",
    "\n",
    "    optimizer = torch.optim.Adam(net.parameters(), lr=0.1)\n",
    "    input_tensor = torch.from_numpy(train_features).type(torch.FloatTensor)\n",
    "    label_tensor = torch.from_numpy(train_labels)\n",
    "    for epoch in range(num_epochs):    \n",
    "        output = net(input_tensor)\n",
    "        loss = criterion(output, label_tensor)\n",
    "        optimizer.zero_grad()\n",
    "        loss.backward()\n",
    "        optimizer.step()\n",
    "        if epoch % 20 == 0:\n",
    "            print ('Epoch {}/{} => Loss: {:.2f}'.format(epoch+1, num_epochs, loss.item()))\n",
    "\n",
    "    torch.save(net.state_dict(), '/content/titanic_model_trained.pt')"
   ]
  },
  {
   "cell_type": "code",
   "execution_count": 91,
   "metadata": {
    "colab": {
     "base_uri": "https://localhost:8080/"
    },
    "id": "d6HoGevkj_l4",
    "outputId": "a63b2161-d9d9-4781-f435-f4eafbd963db"
   },
   "outputs": [
    {
     "name": "stdout",
     "output_type": "stream",
     "text": [
      "Train Accuracy: 0.8231441048034934\n"
     ]
    }
   ],
   "source": [
    "# model evaluation\n",
    "out_probs = net(input_tensor).detach().numpy()\n",
    "out_classes = np.argmax(out_probs, axis=1)\n",
    "print(\"Train Accuracy:\", sum(out_classes == train_labels) / len(train_labels))"
   ]
  },
  {
   "cell_type": "code",
   "execution_count": 92,
   "metadata": {
    "colab": {
     "base_uri": "https://localhost:8080/"
    },
    "id": "BpO6JkfLkW57",
    "outputId": "19fe4b13-c9b0-491a-cb96-8150bbb2e6ed"
   },
   "outputs": [
    {
     "name": "stdout",
     "output_type": "stream",
     "text": [
      "Test Accuracy: 0.8142493638676844\n"
     ]
    }
   ],
   "source": [
    "test_input_tensor = torch.from_numpy(test_features).type(torch.FloatTensor)\n",
    "out_probs = net(test_input_tensor).detach().numpy()\n",
    "out_classes = np.argmax(out_probs, axis=1)\n",
    "print(\"Test Accuracy:\", sum(out_classes == test_labels) / len(test_labels))"
   ]
  },
  {
   "cell_type": "markdown",
   "metadata": {
    "id": "DTB2LNXIk5G8"
   },
   "source": [
    "The first question we can ask is which of the features were actually important to the model to reach this decision? This is the first main component of Captum, the ability to obtain **Feature Attributions**. Here we apply Integrated Gradients, one of the Feature Attribution methods included in Captum, which assigns an importance score to each input feature by approximating the integral of gradients of the model’s output with respect to inputs along the straight-line path from given baselines to inputs (see https://arxiv.org/abs/1703.01365).\n",
    "\n",
    "The method takes tensor(s) of input examples (matching the forward function of the model), and returns the input attributions for the given examples. After we get the attribution for each feature, we can visualize it. "
   ]
  },
  {
   "cell_type": "code",
   "execution_count": 93,
   "metadata": {
    "colab": {
     "base_uri": "https://localhost:8080/",
     "height": 637
    },
    "id": "31jX_1DylFn1",
    "outputId": "d81738e5-839d-4fe2-c381-16214580a34a"
   },
   "outputs": [
    {
     "name": "stdout",
     "output_type": "stream",
     "text": [
      "Average Feature Importances\n",
      "age :  -0.585\n",
      "sibsp :  -0.083\n",
      "parch :  -0.013\n",
      "fare :  0.048\n",
      "female :  0.225\n",
      "male :  -0.277\n",
      "embark_C :  0.075\n",
      "embark_Q :  0.023\n",
      "embark_S :  -0.098\n",
      "class_1 :  0.085\n",
      "class_2 :  0.029\n",
      "class_3 :  -0.192\n"
     ]
    },
    {
     "data": {
      "image/png": "[encoded data removed]",
      "text/plain": [
       "<Figure size 864x432 with 1 Axes>"
      ]
     },
     "metadata": {
      "needs_background": "light"
     },
     "output_type": "display_data"
    }
   ],
   "source": [
    "ig = IntegratedGradients(net)\n",
    "test_input_tensor.requires_grad_()\n",
    "attr, delta = ig.attribute(test_input_tensor,target=1, return_convergence_delta=True)\n",
    "attr = attr.detach().numpy()\n",
    "\n",
    "def visualize_importances(feature_names, importances, title=\"Average Feature Importances\", plot=True, axis_title=\"Features\"):\n",
    "    print(title)\n",
    "    for i in range(len(feature_names)):\n",
    "        print(feature_names[i], \": \", '%.3f'%(importances[i]))\n",
    "    x_pos = (np.arange(len(feature_names)))\n",
    "    if plot:\n",
    "        plt.figure(figsize=(12,6))\n",
    "        plt.bar(x_pos, importances, align='center')\n",
    "        plt.xticks(x_pos, feature_names, wrap=True)\n",
    "        plt.xlabel(axis_title)\n",
    "        plt.title(title)\n",
    "visualize_importances(feature_names, np.mean(attr, axis=0))"
   ]
  },
  {
   "cell_type": "markdown",
   "metadata": {
    "id": "qVJq5sHnl10G"
   },
   "source": [
    "An important thing to note is that the average attributions over the test set don't necessarilly capture all information regarding feature importances. We should also look at the distribution of attributions for each feature. It is possible that features have very different attributions for different examples in the dataset.\n",
    "\n",
    "For instance, we can visualize the distribution of attributions for sibsp, the number of siblings / spouses."
   ]
  },
  {
   "cell_type": "code",
   "execution_count": 94,
   "metadata": {
    "colab": {
     "base_uri": "https://localhost:8080/",
     "height": 281
    },
    "id": "QOESEZ9YlMWx",
    "outputId": "e9ca4d3a-1fc7-44b9-c684-bca0d0158e5c"
   },
   "outputs": [
    {
     "data": {
      "image/png": "[encoded data removed]",
      "text/plain": [
       "<Figure size 432x288 with 1 Axes>"
      ]
     },
     "metadata": {
      "needs_background": "light"
     },
     "output_type": "display_data"
    }
   ],
   "source": [
    "plt.hist(attr[:,1], 100);\n",
    "plt.title(\"Distribution of Sibsp Attribution Values\");"
   ]
  },
  {
   "cell_type": "markdown",
   "metadata": {
    "id": "Gl3gyZTomTbi"
   },
   "source": [
    "Now that we have a better understanding of the importance of different input features, another question we can ask regards the function of the neural network and how different neurons in each layer work together to reach the prediction. This leads us to the second type of attributions available in Captum, Layer Attributions. Layer attributions allow us to understand the importance of all the neurons in the output of a particular layer. For this example, we will be using Layer Conductance, one of the Layer Attribution methods in Captum, which computes conductance with respect to a given layer, with returned output in the shape of the layer’s output, showing the total conductance of each hidden layer neuron.\n",
    "\n",
    "The details of the approach can be found here: https://arxiv.org/abs/1805.12233 https://arxiv.org/pdf/1807.09946.pdf\n",
    "\n",
    "LayerConductance also requires a target index for networks with mutliple outputs, defining the index of the output for which gradients are computed. Similar to feature attributions, we provide target = 1, corresponding to survival. "
   ]
  },
  {
   "cell_type": "code",
   "execution_count": 95,
   "metadata": {
    "colab": {
     "base_uri": "https://localhost:8080/",
     "height": 636
    },
    "id": "yeym3aLel9t6",
    "outputId": "7c6bba90-615d-4413-90f6-70fa6eaa971a"
   },
   "outputs": [
    {
     "name": "stdout",
     "output_type": "stream",
     "text": [
      "Average Neuron Importances\n",
      "0 :  0.004\n",
      "1 :  -0.079\n",
      "2 :  0.031\n",
      "3 :  0.011\n",
      "4 :  -0.125\n",
      "5 :  -0.020\n",
      "6 :  0.015\n",
      "7 :  0.000\n",
      "8 :  -0.292\n",
      "9 :  -0.000\n",
      "10 :  -0.278\n",
      "11 :  0.014\n"
     ]
    },
    {
     "data": {
      "image/png": "[encoded data removed]",
      "text/plain": [
       "<Figure size 864x432 with 1 Axes>"
      ]
     },
     "metadata": {
      "needs_background": "light"
     },
     "output_type": "display_data"
    }
   ],
   "source": [
    "cond = LayerConductance(net, net.sigmoid1)\n",
    "\n",
    "cond_vals = cond.attribute(test_input_tensor,target=1)\n",
    "cond_vals = cond_vals.detach().numpy()\n",
    "\n",
    "visualize_importances(range(12),np.mean(cond_vals, axis=0),title=\"Average Neuron Importances\", axis_title=\"Neurons\")"
   ]
  },
  {
   "cell_type": "markdown",
   "metadata": {
    "id": "nvuvRLoqmypb"
   },
   "source": [
    "We can also look at the distribution of each neuron's attributions. Below we look at the distributions for neurons 7 and 9, and we can confirm that their attribution distributions are very close to 0, suggesting they are not learning substantial features."
   ]
  },
  {
   "cell_type": "code",
   "execution_count": 96,
   "metadata": {
    "colab": {
     "base_uri": "https://localhost:8080/",
     "height": 545
    },
    "id": "DDQ7mNEZmcrL",
    "outputId": "7ee7ee3d-e745-4cbc-8431-417397403b6d"
   },
   "outputs": [
    {
     "data": {
      "image/png": "[encoded data removed]",
      "text/plain": [
       "<Figure size 432x288 with 1 Axes>"
      ]
     },
     "metadata": {
      "needs_background": "light"
     },
     "output_type": "display_data"
    },
    {
     "data": {
      "image/png": "[encoded data removed]",
      "text/plain": [
       "<Figure size 432x288 with 1 Axes>"
      ]
     },
     "metadata": {
      "needs_background": "light"
     },
     "output_type": "display_data"
    }
   ],
   "source": [
    "plt.hist(cond_vals[:,9], 100);\n",
    "plt.title(\"Neuron 9 Distribution\")\n",
    "plt.figure()\n",
    "plt.hist(cond_vals[:,7], 100);\n",
    "plt.title(\"Neuron 7 Distribution\");"
   ]
  },
  {
   "cell_type": "markdown",
   "metadata": {
    "id": "DoGC7-IynEgP"
   },
   "source": [
    "The third type of attributions available in Captum, Neuron Attributions.  This allows us to understand what parts of the input contribute to activating a particular input neuron and so suggest the nature of the most used variable interactions in the best performing model. "
   ]
  },
  {
   "cell_type": "code",
   "execution_count": 97,
   "metadata": {
    "colab": {
     "base_uri": "https://localhost:8080/",
     "height": 637
    },
    "id": "ES0LDwGgm2Du",
    "outputId": "35d5edb0-aebc-421b-b342-9a0bed69db41"
   },
   "outputs": [
    {
     "name": "stdout",
     "output_type": "stream",
     "text": [
      "Average Feature Importances for Neuron 0\n",
      "age :  0.003\n",
      "sibsp :  0.000\n",
      "parch :  0.000\n",
      "fare :  0.001\n",
      "female :  0.000\n",
      "male :  -0.000\n",
      "embark_C :  0.000\n",
      "embark_Q :  0.000\n",
      "embark_S :  0.000\n",
      "class_1 :  0.000\n",
      "class_2 :  0.000\n",
      "class_3 :  0.000\n"
     ]
    },
    {
     "data": {
      "image/png": "[encoded data removed]",
      "text/plain": [
       "<Figure size 864x432 with 1 Axes>"
      ]
     },
     "metadata": {
      "needs_background": "light"
     },
     "output_type": "display_data"
    }
   ],
   "source": [
    "neuron_cond = NeuronConductance(net, net.sigmoid1)\n",
    "neuron_cond_vals_0 = neuron_cond.attribute(test_input_tensor, neuron_selector=0, target=1)\n",
    "\n",
    "visualize_importances(feature_names, neuron_cond_vals_0.mean(dim=0).detach().numpy(), title=\"Average Feature Importances for Neuron 0\")"
   ]
  },
  {
   "cell_type": "markdown",
   "metadata": {
    "id": "eeS8EjarnchP"
   },
   "source": [
    "From the data above, it appears that the primary input features used by neuron 0 are age and fare, with limited importance for all other features."
   ]
  },
  {
   "cell_type": "markdown",
   "metadata": {
    "id": "2DDyKgWEntMz"
   },
   "source": [
    "**Example 2: Boston House Prices Prediction (Regression)**"
   ]
  },
  {
   "cell_type": "markdown",
   "metadata": {
    "id": "20_Z7hTjn37M"
   },
   "source": [
    "The Captum library can also be applied on regression models to understand important features. Here, a simple DNN model is trained on a sub-sample of a well-known Boston house prices dataset, and we try to use package to interpret it."
   ]
  },
  {
   "cell_type": "code",
   "execution_count": 98,
   "metadata": {
    "id": "gD5kTJs4nfee"
   },
   "outputs": [],
   "source": [
    "import numpy as np\n",
    "\n",
    "from os import path\n",
    "\n",
    "\n",
    "import matplotlib.pyplot as plt\n",
    "\n",
    "#scikit-learn related imports\n",
    "import sklearn\n",
    "from sklearn.datasets import load_boston\n",
    "from sklearn.model_selection import train_test_split\n",
    "from sklearn.metrics import mean_squared_error\n",
    "\n",
    "# pytorch relates imports\n",
    "import torch\n",
    "import torch.nn as nn\n",
    "import torch.optim as optim\n",
    "\n",
    "# imports from captum library\n",
    "from captum.attr import LayerConductance, LayerActivation, LayerIntegratedGradients\n",
    "from captum.attr import IntegratedGradients, DeepLift, GradientShap, NoiseTunnel, FeatureAblation"
   ]
  },
  {
   "cell_type": "code",
   "execution_count": 99,
   "metadata": {
    "colab": {
     "base_uri": "https://localhost:8080/"
    },
    "id": "vI2ByaM-oLAo",
    "outputId": "d99ef265-9ce3-43c5-ad44-87a9c75516c4"
   },
   "outputs": [
    {
     "name": "stderr",
     "output_type": "stream",
     "text": [
      "/usr/local/lib/python3.7/dist-packages/sklearn/utils/deprecation.py:87: FutureWarning: Function load_boston is deprecated; `load_boston` is deprecated in 1.0 and will be removed in 1.2.\n",
      "\n",
      "    The Boston housing prices dataset has an ethical problem. You can refer to\n",
      "    the documentation of this function for further details.\n",
      "\n",
      "    The scikit-learn maintainers therefore strongly discourage the use of this\n",
      "    dataset unless the purpose of the code is to study and educate about\n",
      "    ethical issues in data science and machine learning.\n",
      "\n",
      "    In this special case, you can fetch the dataset from the original\n",
      "    source::\n",
      "\n",
      "        import pandas as pd\n",
      "        import numpy as np\n",
      "\n",
      "\n",
      "        data_url = \"http://lib.stat.cmu.edu/datasets/boston\"\n",
      "        raw_df = pd.read_csv(data_url, sep=\"\\s+\", skiprows=22, header=None)\n",
      "        data = np.hstack([raw_df.values[::2, :], raw_df.values[1::2, :2]])\n",
      "        target = raw_df.values[1::2, 2]\n",
      "\n",
      "    Alternative datasets include the California housing dataset (i.e.\n",
      "    :func:`~sklearn.datasets.fetch_california_housing`) and the Ames housing\n",
      "    dataset. You can load the datasets as follows::\n",
      "\n",
      "        from sklearn.datasets import fetch_california_housing\n",
      "        housing = fetch_california_housing()\n",
      "\n",
      "    for the California housing dataset and::\n",
      "\n",
      "        from sklearn.datasets import fetch_openml\n",
      "        housing = fetch_openml(name=\"house_prices\", as_frame=True)\n",
      "\n",
      "    for the Ames housing dataset.\n",
      "    \n",
      "  warnings.warn(msg, category=FutureWarning)\n"
     ]
    }
   ],
   "source": [
    "# Data Preparation\n",
    "\n",
    "boston = load_boston()\n",
    "\n",
    "# feature_names -> ['CRIM', 'ZN', 'INDUS', 'CHAS', 'NOX', 'RM', 'AGE', 'DIS', 'RAD', 'TAX', 'PTRATIO', 'B', 'LSTAT']\n",
    "feature_names = boston.feature_names\n",
    "\n",
    "X = boston.data\n",
    "y = boston.target\n",
    "\n",
    "torch.manual_seed(1234)\n",
    "np.random.seed(1234)\n",
    "\n",
    "X_train, X_test, y_train, y_test = train_test_split(X, y, test_size=0.3, random_state=0)"
   ]
  },
  {
   "cell_type": "markdown",
   "metadata": {
    "id": "rxZUbv-3obFG"
   },
   "source": [
    "First, we can explore the data and visualize dependent variable vs. each independent variable in separate plots."
   ]
  },
  {
   "cell_type": "code",
   "execution_count": 100,
   "metadata": {
    "colab": {
     "base_uri": "https://localhost:8080/",
     "height": 854
    },
    "id": "H4RdcOiMoX93",
    "outputId": "b36406e8-b198-4f03-a71a-346ca5a2f3da"
   },
   "outputs": [
    {
     "data": {
      "image/png": "[encoded data removed]",
      "text/plain": [
       "<Figure size 2160x1440 with 15 Axes>"
      ]
     },
     "metadata": {
      "needs_background": "light"
     },
     "output_type": "display_data"
    }
   ],
   "source": [
    "fig, axs = plt.subplots(nrows = 3, ncols=5, figsize=(30, 20))\n",
    "for i, (ax, col) in enumerate(zip(axs.flat, feature_names)):\n",
    "    x = X[:,i]\n",
    "    pf = np.polyfit(x, y, 1)\n",
    "    p = np.poly1d(pf)\n",
    "\n",
    "    ax.plot(x, y, 'o')\n",
    "    ax.plot(x, p(x),\"r--\")\n",
    "\n",
    "    ax.set_title(col + ' vs Prices')\n",
    "    ax.set_xlabel(col)\n",
    "    ax.set_ylabel('Prices')"
   ]
  },
  {
   "cell_type": "markdown",
   "metadata": {
    "id": "Phd_8TSlooLX"
   },
   "source": [
    "Then, we train a neural network and try to interpret the results.\n",
    "\n",
    "If you have run all the code in this notebook, you should be able to understand each line of code in the following block."
   ]
  },
  {
   "cell_type": "code",
   "execution_count": 101,
   "metadata": {
    "colab": {
     "base_uri": "https://localhost:8080/"
    },
    "id": "FpFMTIjLonuz",
    "outputId": "bada7576-8fef-4e70-87de-e082c4ad9cc3"
   },
   "outputs": [
    {
     "name": "stdout",
     "output_type": "stream",
     "text": [
      "Epoch [1]/[200] running accumulative loss across all batches: 53562.251\n",
      "Epoch [21]/[200] running accumulative loss across all batches: 19221.868\n",
      "Epoch [41]/[200] running accumulative loss across all batches: 18055.471\n",
      "Epoch [61]/[200] running accumulative loss across all batches: 16209.123\n",
      "Epoch [81]/[200] running accumulative loss across all batches: 14537.517\n",
      "Epoch [101]/[200] running accumulative loss across all batches: 12581.654\n",
      "Epoch [121]/[200] running accumulative loss across all batches: 11068.204\n",
      "Epoch [141]/[200] running accumulative loss across all batches: 10063.119\n",
      "Epoch [161]/[200] running accumulative loss across all batches: 9383.536\n",
      "Epoch [181]/[200] running accumulative loss across all batches: 8879.652\n",
      "Finished training the model. Saving the model to the path: /content/boston_model.pt\n"
     ]
    }
   ],
   "source": [
    "# Model setting and training\n",
    "\n",
    "X_train = torch.tensor(X_train).float()\n",
    "y_train = torch.tensor(y_train).view(-1, 1).float()\n",
    "\n",
    "X_test = torch.tensor(X_test).float()\n",
    "y_test = torch.tensor(y_test).view(-1, 1).float()\n",
    "\n",
    "datasets = torch.utils.data.TensorDataset(X_train, y_train)\n",
    "train_iter = torch.utils.data.DataLoader(datasets, batch_size=10, shuffle=True)\n",
    "\n",
    "batch_size = 50\n",
    "num_epochs = 200\n",
    "learning_rate = 0.0001\n",
    "size_hidden1 = 100\n",
    "size_hidden2 = 50\n",
    "size_hidden3 = 10\n",
    "size_hidden4 = 1\n",
    "\n",
    "class BostonModel(nn.Module):\n",
    "    def __init__(self):\n",
    "        super().__init__()\n",
    "        self.lin1 = nn.Linear(13, size_hidden1)\n",
    "        self.relu1 = nn.ReLU()\n",
    "        self.lin2 = nn.Linear(size_hidden1, size_hidden2)\n",
    "        self.relu2 = nn.ReLU()\n",
    "        self.lin3 = nn.Linear(size_hidden2, size_hidden3)\n",
    "        self.relu3 = nn.ReLU()\n",
    "        self.lin4 = nn.Linear(size_hidden3, size_hidden4)\n",
    "\n",
    "    def forward(self, input):\n",
    "        return self.lin4(self.relu3(self.lin3(self.relu2(self.lin2(self.relu1(self.lin1(input)))))))\n",
    "\n",
    "model = BostonModel()\n",
    "model.train()\n",
    "\n",
    "criterion = nn.MSELoss(reduction='sum')\n",
    "\n",
    "def train(model_inp, num_epochs = num_epochs):\n",
    "    optimizer = torch.optim.RMSprop(model_inp.parameters(), lr=learning_rate)\n",
    "    for epoch in range(num_epochs):  # loop over the dataset multiple times\n",
    "        running_loss = 0.0\n",
    "        for inputs, labels in train_iter:\n",
    "            # forward pass\n",
    "            outputs = model_inp(inputs)\n",
    "            # defining loss\n",
    "            loss = criterion(outputs, labels)\n",
    "            # zero the parameter gradients\n",
    "            optimizer.zero_grad()\n",
    "            # computing gradients\n",
    "            loss.backward()\n",
    "            # accumulating running loss\n",
    "            running_loss += loss.item()\n",
    "            # updated weights based on computed gradients\n",
    "            optimizer.step()\n",
    "        if epoch % 20 == 0:    \n",
    "            print('Epoch [%d]/[%d] running accumulative loss across all batches: %.3f' %\n",
    "                  (epoch + 1, num_epochs, running_loss))\n",
    "        running_loss = 0.0\n",
    "\n",
    "model_path='/content/boston_model.pt'\n",
    "train(model)\n",
    "print('Finished training the model. Saving the model to the path: {}'.format(model_path))\n",
    "torch.save(model.state_dict(), model_path)"
   ]
  },
  {
   "cell_type": "code",
   "execution_count": 102,
   "metadata": {
    "colab": {
     "base_uri": "https://localhost:8080/"
    },
    "id": "b_8Ps9uEprwr",
    "outputId": "16bd28fe-f84e-4789-af28-ca8598b4fa50"
   },
   "outputs": [
    {
     "name": "stdout",
     "output_type": "stream",
     "text": [
      "model err:  5.4099193\n"
     ]
    }
   ],
   "source": [
    "# model evaluation\n",
    "\n",
    "model.eval()\n",
    "outputs = model(X_test)\n",
    "err = np.sqrt(mean_squared_error(outputs.detach().numpy(), y_test.detach().numpy()))\n",
    "\n",
    "print('model err: ', err)"
   ]
  },
  {
   "cell_type": "markdown",
   "metadata": {
    "id": "iMdtNWhDqIBM"
   },
   "source": [
    "Let's compute the attributions with respect to the inputs of the model using different attribution algorithms from core Captum library and visualize them. We use test dataset defined in the cells above for this purpose. For GradientSHAP specifically we use the entire training dataset as the distribution of baselines.\n",
    "\n",
    "SHAP is short for SHapley Additive exPlanations, first described by Lundberg and Lee in 2017 (here is the original paper: https://arxiv.org/abs/1705.07874) a method to reverse-engineer the output of any predictive algorithm. GradientShap approximates SHAP values by computing the expectations of gradients by randomly sampling from the distribution of baselines/references. It adds white noise to each input sample, selects a random baseline from baselines’ distribution and a random point along the path between the baseline and the input, and computes the gradient of outputs with respect to those selected random points. The final SHAP values represent the expected values of gradients * (inputs - baselines). GradientShap makes an assumption that the input features are independent and that the explanation model is linear, meaning that the explanations are modeled through the additive composition of feature effects. Under those assumptions, SHAP value can be approximated as the expectation of gradients computed for randomly generated input samples after adding gaussian noise to each input for different baselines/references.\n",
    "\n",
    "The execution of the cell below takes half a minute."
   ]
  },
  {
   "cell_type": "code",
   "execution_count": 103,
   "metadata": {
    "colab": {
     "base_uri": "https://localhost:8080/"
    },
    "id": "G3Qnbjrbp4sl",
    "outputId": "3f8bbb2e-9c1e-4202-bc74-688d13788a27"
   },
   "outputs": [
    {
     "name": "stderr",
     "output_type": "stream",
     "text": [
      "/usr/local/lib/python3.7/dist-packages/captum/_utils/gradient.py:59: UserWarning: Input Tensor 0 did not already require gradients, required_grads has been set automatically.\n",
      "  \"required_grads has been set automatically.\" % index\n",
      "/usr/local/lib/python3.7/dist-packages/captum/attr/_core/deep_lift.py:339: UserWarning: Setting forward, backward hooks and attributes on non-linear\n",
      "               activations. The hooks and attributes will be removed\n",
      "            after the attribution is finished\n",
      "  after the attribution is finished\"\"\"\n"
     ]
    }
   ],
   "source": [
    "ig = IntegratedGradients(model)\n",
    "ig_nt = NoiseTunnel(ig)\n",
    "dl = DeepLift(model)\n",
    "gs = GradientShap(model)\n",
    "fa = FeatureAblation(model)\n",
    "\n",
    "ig_attr_test = ig.attribute(X_test, n_steps=50)\n",
    "ig_nt_attr_test = ig_nt.attribute(X_test)\n",
    "dl_attr_test = dl.attribute(X_test)\n",
    "gs_attr_test = gs.attribute(X_test, X_train)\n",
    "fa_attr_test = fa.attribute(X_test)"
   ]
  },
  {
   "cell_type": "markdown",
   "metadata": {
    "id": "AGkbalJnry1m"
   },
   "source": [
    "In the next block, we visualize attribution scores with respect to inputs (using test dataset) for our simple model in one plot. This will help us to understand how similar or different the attribution scores assigned from different attribution algorithms are. "
   ]
  },
  {
   "cell_type": "code",
   "execution_count": 104,
   "metadata": {
    "colab": {
     "base_uri": "https://localhost:8080/",
     "height": 641
    },
    "id": "1S3ow--GrtzL",
    "outputId": "734b1646-eeb3-4949-9158-c944cb3d6d98"
   },
   "outputs": [
    {
     "data": {
      "image/png": "[encoded data removed]",
      "text/plain": [
       "<Figure size 1440x720 with 1 Axes>"
      ]
     },
     "metadata": {
      "needs_background": "light"
     },
     "output_type": "display_data"
    }
   ],
   "source": [
    "# prepare attributions for visualization\n",
    "\n",
    "x_axis_data = np.arange(X_test.shape[1])\n",
    "x_axis_data_labels = list(map(lambda idx: feature_names[idx], x_axis_data))\n",
    "\n",
    "ig_attr_test_sum = ig_attr_test.detach().numpy().sum(0)\n",
    "ig_attr_test_norm_sum = ig_attr_test_sum / np.linalg.norm(ig_attr_test_sum, ord=1)\n",
    "\n",
    "ig_nt_attr_test_sum = ig_nt_attr_test.detach().numpy().sum(0)\n",
    "ig_nt_attr_test_norm_sum = ig_nt_attr_test_sum / np.linalg.norm(ig_nt_attr_test_sum, ord=1)\n",
    "\n",
    "dl_attr_test_sum = dl_attr_test.detach().numpy().sum(0)\n",
    "dl_attr_test_norm_sum = dl_attr_test_sum / np.linalg.norm(dl_attr_test_sum, ord=1)\n",
    "\n",
    "gs_attr_test_sum = gs_attr_test.detach().numpy().sum(0)\n",
    "gs_attr_test_norm_sum = gs_attr_test_sum / np.linalg.norm(gs_attr_test_sum, ord=1)\n",
    "\n",
    "fa_attr_test_sum = fa_attr_test.detach().numpy().sum(0)\n",
    "fa_attr_test_norm_sum = fa_attr_test_sum / np.linalg.norm(fa_attr_test_sum, ord=1)\n",
    "\n",
    "lin_weight = model.lin1.weight[0].detach().numpy()\n",
    "y_axis_lin_weight = lin_weight / np.linalg.norm(lin_weight, ord=1)\n",
    "\n",
    "width = 0.14\n",
    "legends = ['Int Grads', 'Int Grads w/SmoothGrad','DeepLift', 'GradientSHAP', 'Feature Ablation', 'Weights']\n",
    "\n",
    "plt.figure(figsize=(20, 10))\n",
    "\n",
    "ax = plt.subplot()\n",
    "ax.set_title('Comparing input feature importances across multiple algorithms and learned weights')\n",
    "ax.set_ylabel('Attributions')\n",
    "\n",
    "FONT_SIZE = 16\n",
    "plt.rc('font', size=FONT_SIZE)            # fontsize of the text sizes\n",
    "plt.rc('axes', titlesize=FONT_SIZE)       # fontsize of the axes title\n",
    "plt.rc('axes', labelsize=FONT_SIZE)       # fontsize of the x and y labels\n",
    "plt.rc('legend', fontsize=FONT_SIZE - 4)  # fontsize of the legend\n",
    "\n",
    "ax.bar(x_axis_data, ig_attr_test_norm_sum, width, align='center', alpha=0.8, color='#eb5e7c')\n",
    "ax.bar(x_axis_data + width, ig_nt_attr_test_norm_sum, width, align='center', alpha=0.7, color='#A90000')\n",
    "ax.bar(x_axis_data + 2 * width, dl_attr_test_norm_sum, width, align='center', alpha=0.6, color='#34b8e0')\n",
    "ax.bar(x_axis_data + 3 * width, gs_attr_test_norm_sum, width, align='center',  alpha=0.8, color='#4260f5')\n",
    "ax.bar(x_axis_data + 4 * width, fa_attr_test_norm_sum, width, align='center', alpha=1.0, color='#49ba81')\n",
    "ax.bar(x_axis_data + 5 * width, y_axis_lin_weight, width, align='center', alpha=1.0, color='grey')\n",
    "ax.autoscale_view()\n",
    "plt.tight_layout()\n",
    "\n",
    "ax.set_xticks(x_axis_data + 0.5)\n",
    "ax.set_xticklabels(x_axis_data_labels)\n",
    "\n",
    "plt.legend(legends, loc=3)\n",
    "plt.show()"
   ]
  },
  {
   "cell_type": "markdown",
   "metadata": {
    "id": "C_2PhRtksMvo"
   },
   "source": [
    "The magnitudes of learned model weights tell us about the correlations between the dependent variable Price and each independent variable. Zero weight means no correlation, whereas positive weights indicate positive correlations and negatives the opposite. \n",
    "\n",
    "Attribution algorithms sometimes disagree on assigning importance scores and that they are not always aligned with weights. However, the top important three features: LSTAT, RM and PTRATIO are considered to be important based on both most attribution algorithms and weight scores.\n",
    "\n",
    "Captum also allows us to attribute to the layers of the model and understand which neurons appear to be more important. In the cell below, we will attribute to the inputs of the fourth hidden layer of our model. Similar to the previous case, the attribution is performed on the test dataset. "
   ]
  },
  {
   "cell_type": "code",
   "execution_count": 105,
   "metadata": {
    "id": "aoD9w1cKsGiR"
   },
   "outputs": [],
   "source": [
    "# Compute the attributions of the output with respect to the inputs of the fourth linear layer\n",
    "lc = LayerConductance(model, model.lin4)\n",
    "lc_attr_test = lc.attribute(X_test, n_steps=100, attribute_to_layer_input=True)\n",
    "\n",
    "# shape: test_examples x size_hidden\n",
    "lc_attr_test = lc_attr_test[0]\n",
    "\n",
    "# weights from forth linear layer\n",
    "# shape: size_hidden4 x size_hidden3\n",
    "lin4_weight = model.lin4.weight"
   ]
  },
  {
   "cell_type": "markdown",
   "metadata": {
    "id": "plqE4N0Ys1tr"
   },
   "source": [
    "In the cell below we normalize and visualize attributions and learned model weights for all 10 neurons in the fourth hidden layer. "
   ]
  },
  {
   "cell_type": "code",
   "execution_count": 106,
   "metadata": {
    "colab": {
     "base_uri": "https://localhost:8080/",
     "height": 572
    },
    "id": "7nboU4USpQrU",
    "outputId": "f4734f6d-b42c-4a5c-89a7-80386dc1bd48"
   },
   "outputs": [
    {
     "data": {
      "image/png": "[encoded data removed]",
      "text/plain": [
       "<Figure size 1080x576 with 1 Axes>"
      ]
     },
     "metadata": {
      "needs_background": "light"
     },
     "output_type": "display_data"
    }
   ],
   "source": [
    "plt.figure(figsize=(15, 8))\n",
    "\n",
    "lc = LayerConductance(model, model.lin4)\n",
    "lc_attr_test = lc.attribute(X_test, n_steps=100, attribute_to_layer_input=True)\n",
    "\n",
    "x_axis_data = np.arange(lc_attr_test.shape[1])\n",
    "\n",
    "y_axis_lc_attr_test = lc_attr_test.mean(0).detach().numpy()\n",
    "y_axis_lc_attr_test = y_axis_lc_attr_test / np.linalg.norm(y_axis_lc_attr_test, ord=1)\n",
    "\n",
    "y_axis_lin4_weight = lin4_weight[0].detach().numpy()\n",
    "y_axis_lin4_weight = y_axis_lin4_weight / np.linalg.norm(y_axis_lin4_weight, ord=1)\n",
    "\n",
    "width = 0.25\n",
    "legends = ['Attributions','Weights']\n",
    "x_axis_labels = [ 'Neuron {}'.format(i) for i in range(len(y_axis_lin4_weight))]\n",
    "\n",
    "ax = plt.subplot()\n",
    "ax.set_title('Aggregated neuron importances and learned weights in the last linear layer of the model')\n",
    "\n",
    "ax.bar(x_axis_data + width, y_axis_lc_attr_test, width, align='center', alpha=0.5, color='red')\n",
    "ax.bar(x_axis_data + 2 * width, y_axis_lin4_weight, width, align='center', alpha=0.5, color='green')\n",
    "plt.legend(legends, loc=2, prop={'size': 20})\n",
    "ax.autoscale_view()\n",
    "plt.tight_layout()\n",
    "\n",
    "ax.set_xticks(x_axis_data + 0.5)\n",
    "ax.set_xticklabels(x_axis_labels)\n",
    "\n",
    "plt.show()"
   ]
  },
  {
   "cell_type": "markdown",
   "metadata": {
    "id": "x7AtkOqltjLo"
   },
   "source": [
    "It is interesting to observe that the weights and attribution scores are well aligned for all 10 neurons in the last layer. Meaning that the neurons with negative weights also have negative attribution scores and we can observe the same for the positive weights and attributions."
   ]
  },
  {
   "cell_type": "markdown",
   "metadata": {
    "id": "RRAhu1h3DCd4"
   },
   "source": [
    "## <span style=\"color:red\">*Homework Exercise*</span>\n",
    "\n",
    "<span style=\"color:red\"> Similar to tutorial 1.1, your task here is to use the deep learning models we experimented with on synthetic data but instead using a real world dataset. \n",
    "\n",
    "Immediately below each of the following prompts, add Colab cells that:\n",
    "\n",
    "**1)** Find and load a dataset (with more than 500 data points) into both Keras and PyTorch formats, either (a) related to your research or thesis, (b) curated from a popular data repository, or (c) associated with one of the class projects that students will undertake, which explores a social scientific area of your interest  (e.g., the dataset you used for homework 1.1). [kaggle.com](https://www.kaggle.com/datasets) is a popular website for machine learning related datasets, and you can find a good resource for social science datasets [here](https://guides.emich.edu/data/free-data)."
   ]
  },
  {
   "cell_type": "code",
   "execution_count": 107,
   "metadata": {
    "id": "ltA8SB1wv44k"
   },
   "outputs": [],
   "source": [
    "import pandas as pd"
   ]
  },
  {
   "cell_type": "code",
   "execution_count": 108,
   "metadata": {
    "colab": {
     "base_uri": "https://localhost:8080/",
     "height": 423
    },
    "id": "mv5RNtowwf3L",
    "outputId": "f8d2c474-de4f-4f0a-84b7-c662ac9037b6"
   },
   "outputs": [
    {
     "data": {
      "text/html": [
       "\n",
       "  <div id=\"df-9f99c88a-ca97-4a99-91a8-19436c602a9b\">\n",
       "    <div class=\"colab-df-container\">\n",
       "      <div>\n",
       "<style scoped>\n",
       "    .dataframe tbody tr th:only-of-type {\n",
       "        vertical-align: middle;\n",
       "    }\n",
       "\n",
       "    .dataframe tbody tr th {\n",
       "        vertical-align: top;\n",
       "    }\n",
       "\n",
       "    .dataframe thead th {\n",
       "        text-align: right;\n",
       "    }\n",
       "</style>\n",
       "<table border=\"1\" class=\"dataframe\">\n",
       "  <thead>\n",
       "    <tr style=\"text-align: right;\">\n",
       "      <th></th>\n",
       "      <th>school</th>\n",
       "      <th>sex</th>\n",
       "      <th>age</th>\n",
       "      <th>address</th>\n",
       "      <th>famsize</th>\n",
       "      <th>Pstatus</th>\n",
       "      <th>Medu</th>\n",
       "      <th>Fedu</th>\n",
       "      <th>Mjob</th>\n",
       "      <th>Fjob</th>\n",
       "      <th>...</th>\n",
       "      <th>famrel</th>\n",
       "      <th>freetime</th>\n",
       "      <th>goout</th>\n",
       "      <th>Dalc</th>\n",
       "      <th>Walc</th>\n",
       "      <th>health</th>\n",
       "      <th>absences</th>\n",
       "      <th>G1</th>\n",
       "      <th>G2</th>\n",
       "      <th>G3</th>\n",
       "    </tr>\n",
       "  </thead>\n",
       "  <tbody>\n",
       "    <tr>\n",
       "      <th>0</th>\n",
       "      <td>GP</td>\n",
       "      <td>F</td>\n",
       "      <td>18</td>\n",
       "      <td>U</td>\n",
       "      <td>GT3</td>\n",
       "      <td>A</td>\n",
       "      <td>4</td>\n",
       "      <td>4</td>\n",
       "      <td>at_home</td>\n",
       "      <td>teacher</td>\n",
       "      <td>...</td>\n",
       "      <td>4</td>\n",
       "      <td>3</td>\n",
       "      <td>4</td>\n",
       "      <td>1</td>\n",
       "      <td>1</td>\n",
       "      <td>3</td>\n",
       "      <td>6</td>\n",
       "      <td>5</td>\n",
       "      <td>6</td>\n",
       "      <td>6</td>\n",
       "    </tr>\n",
       "    <tr>\n",
       "      <th>1</th>\n",
       "      <td>GP</td>\n",
       "      <td>F</td>\n",
       "      <td>17</td>\n",
       "      <td>U</td>\n",
       "      <td>GT3</td>\n",
       "      <td>T</td>\n",
       "      <td>1</td>\n",
       "      <td>1</td>\n",
       "      <td>at_home</td>\n",
       "      <td>other</td>\n",
       "      <td>...</td>\n",
       "      <td>5</td>\n",
       "      <td>3</td>\n",
       "      <td>3</td>\n",
       "      <td>1</td>\n",
       "      <td>1</td>\n",
       "      <td>3</td>\n",
       "      <td>4</td>\n",
       "      <td>5</td>\n",
       "      <td>5</td>\n",
       "      <td>6</td>\n",
       "    </tr>\n",
       "    <tr>\n",
       "      <th>2</th>\n",
       "      <td>GP</td>\n",
       "      <td>F</td>\n",
       "      <td>15</td>\n",
       "      <td>U</td>\n",
       "      <td>LE3</td>\n",
       "      <td>T</td>\n",
       "      <td>1</td>\n",
       "      <td>1</td>\n",
       "      <td>at_home</td>\n",
       "      <td>other</td>\n",
       "      <td>...</td>\n",
       "      <td>4</td>\n",
       "      <td>3</td>\n",
       "      <td>2</td>\n",
       "      <td>2</td>\n",
       "      <td>3</td>\n",
       "      <td>3</td>\n",
       "      <td>10</td>\n",
       "      <td>7</td>\n",
       "      <td>8</td>\n",
       "      <td>10</td>\n",
       "    </tr>\n",
       "    <tr>\n",
       "      <th>3</th>\n",
       "      <td>GP</td>\n",
       "      <td>F</td>\n",
       "      <td>15</td>\n",
       "      <td>U</td>\n",
       "      <td>GT3</td>\n",
       "      <td>T</td>\n",
       "      <td>4</td>\n",
       "      <td>2</td>\n",
       "      <td>health</td>\n",
       "      <td>services</td>\n",
       "      <td>...</td>\n",
       "      <td>3</td>\n",
       "      <td>2</td>\n",
       "      <td>2</td>\n",
       "      <td>1</td>\n",
       "      <td>1</td>\n",
       "      <td>5</td>\n",
       "      <td>2</td>\n",
       "      <td>15</td>\n",
       "      <td>14</td>\n",
       "      <td>15</td>\n",
       "    </tr>\n",
       "    <tr>\n",
       "      <th>4</th>\n",
       "      <td>GP</td>\n",
       "      <td>F</td>\n",
       "      <td>16</td>\n",
       "      <td>U</td>\n",
       "      <td>GT3</td>\n",
       "      <td>T</td>\n",
       "      <td>3</td>\n",
       "      <td>3</td>\n",
       "      <td>other</td>\n",
       "      <td>other</td>\n",
       "      <td>...</td>\n",
       "      <td>4</td>\n",
       "      <td>3</td>\n",
       "      <td>2</td>\n",
       "      <td>1</td>\n",
       "      <td>2</td>\n",
       "      <td>5</td>\n",
       "      <td>4</td>\n",
       "      <td>6</td>\n",
       "      <td>10</td>\n",
       "      <td>10</td>\n",
       "    </tr>\n",
       "    <tr>\n",
       "      <th>...</th>\n",
       "      <td>...</td>\n",
       "      <td>...</td>\n",
       "      <td>...</td>\n",
       "      <td>...</td>\n",
       "      <td>...</td>\n",
       "      <td>...</td>\n",
       "      <td>...</td>\n",
       "      <td>...</td>\n",
       "      <td>...</td>\n",
       "      <td>...</td>\n",
       "      <td>...</td>\n",
       "      <td>...</td>\n",
       "      <td>...</td>\n",
       "      <td>...</td>\n",
       "      <td>...</td>\n",
       "      <td>...</td>\n",
       "      <td>...</td>\n",
       "      <td>...</td>\n",
       "      <td>...</td>\n",
       "      <td>...</td>\n",
       "      <td>...</td>\n",
       "    </tr>\n",
       "    <tr>\n",
       "      <th>390</th>\n",
       "      <td>MS</td>\n",
       "      <td>M</td>\n",
       "      <td>20</td>\n",
       "      <td>U</td>\n",
       "      <td>LE3</td>\n",
       "      <td>A</td>\n",
       "      <td>2</td>\n",
       "      <td>2</td>\n",
       "      <td>services</td>\n",
       "      <td>services</td>\n",
       "      <td>...</td>\n",
       "      <td>5</td>\n",
       "      <td>5</td>\n",
       "      <td>4</td>\n",
       "      <td>4</td>\n",
       "      <td>5</td>\n",
       "      <td>4</td>\n",
       "      <td>11</td>\n",
       "      <td>9</td>\n",
       "      <td>9</td>\n",
       "      <td>9</td>\n",
       "    </tr>\n",
       "    <tr>\n",
       "      <th>391</th>\n",
       "      <td>MS</td>\n",
       "      <td>M</td>\n",
       "      <td>17</td>\n",
       "      <td>U</td>\n",
       "      <td>LE3</td>\n",
       "      <td>T</td>\n",
       "      <td>3</td>\n",
       "      <td>1</td>\n",
       "      <td>services</td>\n",
       "      <td>services</td>\n",
       "      <td>...</td>\n",
       "      <td>2</td>\n",
       "      <td>4</td>\n",
       "      <td>5</td>\n",
       "      <td>3</td>\n",
       "      <td>4</td>\n",
       "      <td>2</td>\n",
       "      <td>3</td>\n",
       "      <td>14</td>\n",
       "      <td>16</td>\n",
       "      <td>16</td>\n",
       "    </tr>\n",
       "    <tr>\n",
       "      <th>392</th>\n",
       "      <td>MS</td>\n",
       "      <td>M</td>\n",
       "      <td>21</td>\n",
       "      <td>R</td>\n",
       "      <td>GT3</td>\n",
       "      <td>T</td>\n",
       "      <td>1</td>\n",
       "      <td>1</td>\n",
       "      <td>other</td>\n",
       "      <td>other</td>\n",
       "      <td>...</td>\n",
       "      <td>5</td>\n",
       "      <td>5</td>\n",
       "      <td>3</td>\n",
       "      <td>3</td>\n",
       "      <td>3</td>\n",
       "      <td>3</td>\n",
       "      <td>3</td>\n",
       "      <td>10</td>\n",
       "      <td>8</td>\n",
       "      <td>7</td>\n",
       "    </tr>\n",
       "    <tr>\n",
       "      <th>393</th>\n",
       "      <td>MS</td>\n",
       "      <td>M</td>\n",
       "      <td>18</td>\n",
       "      <td>R</td>\n",
       "      <td>LE3</td>\n",
       "      <td>T</td>\n",
       "      <td>3</td>\n",
       "      <td>2</td>\n",
       "      <td>services</td>\n",
       "      <td>other</td>\n",
       "      <td>...</td>\n",
       "      <td>4</td>\n",
       "      <td>4</td>\n",
       "      <td>1</td>\n",
       "      <td>3</td>\n",
       "      <td>4</td>\n",
       "      <td>5</td>\n",
       "      <td>0</td>\n",
       "      <td>11</td>\n",
       "      <td>12</td>\n",
       "      <td>10</td>\n",
       "    </tr>\n",
       "    <tr>\n",
       "      <th>394</th>\n",
       "      <td>MS</td>\n",
       "      <td>M</td>\n",
       "      <td>19</td>\n",
       "      <td>U</td>\n",
       "      <td>LE3</td>\n",
       "      <td>T</td>\n",
       "      <td>1</td>\n",
       "      <td>1</td>\n",
       "      <td>other</td>\n",
       "      <td>at_home</td>\n",
       "      <td>...</td>\n",
       "      <td>3</td>\n",
       "      <td>2</td>\n",
       "      <td>3</td>\n",
       "      <td>3</td>\n",
       "      <td>3</td>\n",
       "      <td>5</td>\n",
       "      <td>5</td>\n",
       "      <td>8</td>\n",
       "      <td>9</td>\n",
       "      <td>9</td>\n",
       "    </tr>\n",
       "  </tbody>\n",
       "</table>\n",
       "<p>395 rows × 33 columns</p>\n",
       "</div>\n",
       "      <button class=\"colab-df-convert\" onclick=\"convertToInteractive('df-9f99c88a-ca97-4a99-91a8-19436c602a9b')\"\n",
       "              title=\"Convert this dataframe to an interactive table.\"\n",
       "              style=\"display:none;\">\n",
       "        \n",
       "  <svg xmlns=\"http://www.w3.org/2000/svg\" height=\"24px\"viewBox=\"0 0 24 24\"\n",
       "       width=\"24px\">\n",
       "    <path d=\"M0 0h24v24H0V0z\" fill=\"none\"/>\n",
       "    <path d=\"M18.56 5.44l.94 2.06.94-2.06 2.06-.94-2.06-.94-.94-2.06-.94 2.06-2.06.94zm-11 1L8.5 8.5l.94-2.06 2.06-.94-2.06-.94L8.5 2.5l-.94 2.06-2.06.94zm10 10l.94 2.06.94-2.06 2.06-.94-2.06-.94-.94-2.06-.94 2.06-2.06.94z\"/><path d=\"M17.41 7.96l-1.37-1.37c-.4-.4-.92-.59-1.43-.59-.52 0-1.04.2-1.43.59L10.3 9.45l-7.72 7.72c-.78.78-.78 2.05 0 2.83L4 21.41c.39.39.9.59 1.41.59.51 0 1.02-.2 1.41-.59l7.78-7.78 2.81-2.81c.8-.78.8-2.07 0-2.86zM5.41 20L4 18.59l7.72-7.72 1.47 1.35L5.41 20z\"/>\n",
       "  </svg>\n",
       "      </button>\n",
       "      \n",
       "  <style>\n",
       "    .colab-df-container {\n",
       "      display:flex;\n",
       "      flex-wrap:wrap;\n",
       "      gap: 12px;\n",
       "    }\n",
       "\n",
       "    .colab-df-convert {\n",
       "      background-color: #E8F0FE;\n",
       "      border: none;\n",
       "      border-radius: 50%;\n",
       "      cursor: pointer;\n",
       "      display: none;\n",
       "      fill: #1967D2;\n",
       "      height: 32px;\n",
       "      padding: 0 0 0 0;\n",
       "      width: 32px;\n",
       "    }\n",
       "\n",
       "    .colab-df-convert:hover {\n",
       "      background-color: #E2EBFA;\n",
       "      box-shadow: 0px 1px 2px rgba(60, 64, 67, 0.3), 0px 1px 3px 1px rgba(60, 64, 67, 0.15);\n",
       "      fill: #174EA6;\n",
       "    }\n",
       "\n",
       "    [theme=dark] .colab-df-convert {\n",
       "      background-color: #3B4455;\n",
       "      fill: #D2E3FC;\n",
       "    }\n",
       "\n",
       "    [theme=dark] .colab-df-convert:hover {\n",
       "      background-color: #434B5C;\n",
       "      box-shadow: 0px 1px 3px 1px rgba(0, 0, 0, 0.15);\n",
       "      filter: drop-shadow(0px 1px 2px rgba(0, 0, 0, 0.3));\n",
       "      fill: #FFFFFF;\n",
       "    }\n",
       "  </style>\n",
       "\n",
       "      <script>\n",
       "        const buttonEl =\n",
       "          document.querySelector('#df-9f99c88a-ca97-4a99-91a8-19436c602a9b button.colab-df-convert');\n",
       "        buttonEl.style.display =\n",
       "          google.colab.kernel.accessAllowed ? 'block' : 'none';\n",
       "\n",
       "        async function convertToInteractive(key) {\n",
       "          const element = document.querySelector('#df-9f99c88a-ca97-4a99-91a8-19436c602a9b');\n",
       "          const dataTable =\n",
       "            await google.colab.kernel.invokeFunction('convertToInteractive',\n",
       "                                                     [key], {});\n",
       "          if (!dataTable) return;\n",
       "\n",
       "          const docLinkHtml = 'Like what you see? Visit the ' +\n",
       "            '<a target=\"_blank\" href=https://colab.research.google.com/notebooks/data_table.ipynb>data table notebook</a>'\n",
       "            + ' to learn more about interactive tables.';\n",
       "          element.innerHTML = '';\n",
       "          dataTable['output_type'] = 'display_data';\n",
       "          await google.colab.output.renderOutput(dataTable, element);\n",
       "          const docLink = document.createElement('div');\n",
       "          docLink.innerHTML = docLinkHtml;\n",
       "          element.appendChild(docLink);\n",
       "        }\n",
       "      </script>\n",
       "    </div>\n",
       "  </div>\n",
       "  "
      ],
      "text/plain": [
       "    school sex  age address famsize Pstatus  Medu  Fedu      Mjob      Fjob  \\\n",
       "0       GP   F   18       U     GT3       A     4     4   at_home   teacher   \n",
       "1       GP   F   17       U     GT3       T     1     1   at_home     other   \n",
       "2       GP   F   15       U     LE3       T     1     1   at_home     other   \n",
       "3       GP   F   15       U     GT3       T     4     2    health  services   \n",
       "4       GP   F   16       U     GT3       T     3     3     other     other   \n",
       "..     ...  ..  ...     ...     ...     ...   ...   ...       ...       ...   \n",
       "390     MS   M   20       U     LE3       A     2     2  services  services   \n",
       "391     MS   M   17       U     LE3       T     3     1  services  services   \n",
       "392     MS   M   21       R     GT3       T     1     1     other     other   \n",
       "393     MS   M   18       R     LE3       T     3     2  services     other   \n",
       "394     MS   M   19       U     LE3       T     1     1     other   at_home   \n",
       "\n",
       "     ... famrel freetime  goout  Dalc  Walc health absences  G1  G2  G3  \n",
       "0    ...      4        3      4     1     1      3        6   5   6   6  \n",
       "1    ...      5        3      3     1     1      3        4   5   5   6  \n",
       "2    ...      4        3      2     2     3      3       10   7   8  10  \n",
       "3    ...      3        2      2     1     1      5        2  15  14  15  \n",
       "4    ...      4        3      2     1     2      5        4   6  10  10  \n",
       "..   ...    ...      ...    ...   ...   ...    ...      ...  ..  ..  ..  \n",
       "390  ...      5        5      4     4     5      4       11   9   9   9  \n",
       "391  ...      2        4      5     3     4      2        3  14  16  16  \n",
       "392  ...      5        5      3     3     3      3        3  10   8   7  \n",
       "393  ...      4        4      1     3     4      5        0  11  12  10  \n",
       "394  ...      3        2      3     3     3      5        5   8   9   9  \n",
       "\n",
       "[395 rows x 33 columns]"
      ]
     },
     "execution_count": 108,
     "metadata": {},
     "output_type": "execute_result"
    }
   ],
   "source": [
    "data = pd.read_csv('drive/MyDrive/Colab Notebooks/DL/data/student_data/student-mat.csv')\n",
    "data"
   ]
  },
  {
   "cell_type": "code",
   "execution_count": 109,
   "metadata": {
    "id": "joBHMymVBr_U"
   },
   "outputs": [],
   "source": [
    "data = data[['age', 'Medu', 'Fedu', 'famrel', 'freetime', 'goout', 'health', 'absences', 'G1']]"
   ]
  },
  {
   "cell_type": "markdown",
   "metadata": {
    "id": "wx8cPoZpvuSF"
   },
   "source": [
    "**2)** Perform a binary classification task (e.g., predicting the presence of absence of a certain state or code) with a ReLU activation for the hidden layers and a sigmoid activation for the output layer (as demonstrated above) using Keras & Pytorch."
   ]
  },
  {
   "cell_type": "code",
   "execution_count": 111,
   "metadata": {
    "colab": {
     "base_uri": "https://localhost:8080/"
    },
    "id": "JvFSjrk4wgcC",
    "outputId": "7d3abb22-8e58-44c1-e137-78d414153e72"
   },
   "outputs": [
    {
     "name": "stderr",
     "output_type": "stream",
     "text": [
      "/usr/local/lib/python3.7/dist-packages/ipykernel_launcher.py:1: SettingWithCopyWarning: \n",
      "A value is trying to be set on a copy of a slice from a DataFrame.\n",
      "Try using .loc[row_indexer,col_indexer] = value instead\n",
      "\n",
      "See the caveats in the documentation: https://pandas.pydata.org/pandas-docs/stable/user_guide/indexing.html#returning-a-view-versus-a-copy\n",
      "  \"\"\"Entry point for launching an IPython kernel.\n"
     ]
    }
   ],
   "source": [
    "data['class'] = data['G1'].apply(lambda x: 1 if x >= 10 else 0)\n",
    "labels = data['class'].to_numpy()\n",
    "feature_names = ['age', 'Medu', 'Fedu', 'famrel', 'freetime', 'goout', 'health', 'absences']"
   ]
  },
  {
   "cell_type": "code",
   "execution_count": 118,
   "metadata": {
    "id": "qV_B7A4HFiVr"
   },
   "outputs": [],
   "source": [
    "X_train, X_test, y_train, y_test = sklearn.model_selection.train_test_split(data, labels)"
   ]
  },
  {
   "cell_type": "code",
   "execution_count": 122,
   "metadata": {
    "colab": {
     "base_uri": "https://localhost:8080/"
    },
    "id": "5B8wEZn7E3C-",
    "outputId": "b910d210-5fef-40ac-d131-a2266f610ac3"
   },
   "outputs": [
    {
     "name": "stdout",
     "output_type": "stream",
     "text": [
      "Epoch 1/200\n"
     ]
    },
    {
     "name": "stderr",
     "output_type": "stream",
     "text": [
      "/usr/local/lib/python3.7/dist-packages/tensorflow/python/util/dispatch.py:1082: UserWarning: \"`sparse_categorical_crossentropy` received `from_logits=True`, but the `output` argument was produced by a sigmoid or softmax activation and thus does not represent logits. Was this intended?\"\n",
      "  return dispatch_target(*args, **kwargs)\n"
     ]
    },
    {
     "name": "stdout",
     "output_type": "stream",
     "text": [
      "10/10 [==============================] - 1s 4ms/step - loss: 0.9428 - sparse_categorical_accuracy: 0.6014\n",
      "Epoch 2/200\n",
      "10/10 [==============================] - 0s 5ms/step - loss: 0.4926 - sparse_categorical_accuracy: 0.7973\n",
      "Epoch 3/200\n",
      "10/10 [==============================] - 0s 5ms/step - loss: 0.3575 - sparse_categorical_accuracy: 0.8750\n",
      "Epoch 4/200\n",
      "10/10 [==============================] - 0s 4ms/step - loss: 0.2693 - sparse_categorical_accuracy: 0.9459\n",
      "Epoch 5/200\n",
      "10/10 [==============================] - 0s 3ms/step - loss: 0.2245 - sparse_categorical_accuracy: 0.9257\n",
      "Epoch 6/200\n",
      "10/10 [==============================] - 0s 5ms/step - loss: 0.2021 - sparse_categorical_accuracy: 0.9595\n",
      "Epoch 7/200\n",
      "10/10 [==============================] - 0s 4ms/step - loss: 0.1665 - sparse_categorical_accuracy: 0.9797\n",
      "Epoch 8/200\n",
      "10/10 [==============================] - 0s 3ms/step - loss: 0.1501 - sparse_categorical_accuracy: 0.9797\n",
      "Epoch 9/200\n",
      "10/10 [==============================] - 0s 4ms/step - loss: 0.1341 - sparse_categorical_accuracy: 0.9831\n",
      "Epoch 10/200\n",
      "10/10 [==============================] - 0s 6ms/step - loss: 0.1214 - sparse_categorical_accuracy: 0.9831\n",
      "Epoch 11/200\n",
      "10/10 [==============================] - 0s 3ms/step - loss: 0.1092 - sparse_categorical_accuracy: 0.9932\n",
      "Epoch 12/200\n",
      "10/10 [==============================] - 0s 4ms/step - loss: 0.1046 - sparse_categorical_accuracy: 0.9865\n",
      "Epoch 13/200\n",
      "10/10 [==============================] - 0s 4ms/step - loss: 0.0918 - sparse_categorical_accuracy: 0.9932\n",
      "Epoch 14/200\n",
      "10/10 [==============================] - 0s 4ms/step - loss: 0.0876 - sparse_categorical_accuracy: 0.9899\n",
      "Epoch 15/200\n",
      "10/10 [==============================] - 0s 4ms/step - loss: 0.0822 - sparse_categorical_accuracy: 0.9932\n",
      "Epoch 16/200\n",
      "10/10 [==============================] - 0s 4ms/step - loss: 0.0766 - sparse_categorical_accuracy: 0.9932\n",
      "Epoch 17/200\n",
      "10/10 [==============================] - 0s 4ms/step - loss: 0.0714 - sparse_categorical_accuracy: 0.9932\n",
      "Epoch 18/200\n",
      "10/10 [==============================] - 0s 6ms/step - loss: 0.0665 - sparse_categorical_accuracy: 0.9932\n",
      "Epoch 19/200\n",
      "10/10 [==============================] - 0s 5ms/step - loss: 0.0646 - sparse_categorical_accuracy: 0.9932\n",
      "Epoch 20/200\n",
      "10/10 [==============================] - 0s 5ms/step - loss: 0.0619 - sparse_categorical_accuracy: 0.9932\n",
      "Epoch 21/200\n",
      "10/10 [==============================] - 0s 4ms/step - loss: 0.0642 - sparse_categorical_accuracy: 0.9899\n",
      "Epoch 22/200\n",
      "10/10 [==============================] - 0s 5ms/step - loss: 0.0615 - sparse_categorical_accuracy: 0.9831\n",
      "Epoch 23/200\n",
      "10/10 [==============================] - 0s 4ms/step - loss: 0.0512 - sparse_categorical_accuracy: 0.9966\n",
      "Epoch 24/200\n",
      "10/10 [==============================] - 0s 4ms/step - loss: 0.0468 - sparse_categorical_accuracy: 0.9966\n",
      "Epoch 25/200\n",
      "10/10 [==============================] - 0s 4ms/step - loss: 0.0442 - sparse_categorical_accuracy: 0.9966\n",
      "Epoch 26/200\n",
      "10/10 [==============================] - 0s 4ms/step - loss: 0.0429 - sparse_categorical_accuracy: 0.9966\n",
      "Epoch 27/200\n",
      "10/10 [==============================] - 0s 4ms/step - loss: 0.0421 - sparse_categorical_accuracy: 0.9966\n",
      "Epoch 28/200\n",
      "10/10 [==============================] - 0s 6ms/step - loss: 0.0414 - sparse_categorical_accuracy: 1.0000\n",
      "Epoch 29/200\n",
      "10/10 [==============================] - 0s 4ms/step - loss: 0.0422 - sparse_categorical_accuracy: 0.9966\n",
      "Epoch 30/200\n",
      "10/10 [==============================] - 0s 4ms/step - loss: 0.0462 - sparse_categorical_accuracy: 0.9932\n",
      "Epoch 31/200\n",
      "10/10 [==============================] - 0s 5ms/step - loss: 0.0331 - sparse_categorical_accuracy: 0.9966\n",
      "Epoch 32/200\n",
      "10/10 [==============================] - 0s 4ms/step - loss: 0.0312 - sparse_categorical_accuracy: 0.9966\n",
      "Epoch 33/200\n",
      "10/10 [==============================] - 0s 4ms/step - loss: 0.0302 - sparse_categorical_accuracy: 0.9966\n",
      "Epoch 34/200\n",
      "10/10 [==============================] - 0s 4ms/step - loss: 0.0297 - sparse_categorical_accuracy: 0.9966\n",
      "Epoch 35/200\n",
      "10/10 [==============================] - 0s 6ms/step - loss: 0.0283 - sparse_categorical_accuracy: 0.9966\n",
      "Epoch 36/200\n",
      "10/10 [==============================] - 0s 5ms/step - loss: 0.0290 - sparse_categorical_accuracy: 0.9966\n",
      "Epoch 37/200\n",
      "10/10 [==============================] - 0s 7ms/step - loss: 0.0262 - sparse_categorical_accuracy: 0.9966\n",
      "Epoch 38/200\n",
      "10/10 [==============================] - 0s 5ms/step - loss: 0.0237 - sparse_categorical_accuracy: 0.9966\n",
      "Epoch 39/200\n",
      "10/10 [==============================] - 0s 4ms/step - loss: 0.0228 - sparse_categorical_accuracy: 0.9966\n",
      "Epoch 40/200\n",
      "10/10 [==============================] - 0s 7ms/step - loss: 0.0218 - sparse_categorical_accuracy: 0.9966\n",
      "Epoch 41/200\n",
      "10/10 [==============================] - 0s 4ms/step - loss: 0.0215 - sparse_categorical_accuracy: 0.9966\n",
      "Epoch 42/200\n",
      "10/10 [==============================] - 0s 4ms/step - loss: 0.0212 - sparse_categorical_accuracy: 0.9966\n",
      "Epoch 43/200\n",
      "10/10 [==============================] - 0s 4ms/step - loss: 0.0196 - sparse_categorical_accuracy: 0.9966\n",
      "Epoch 44/200\n",
      "10/10 [==============================] - 0s 4ms/step - loss: 0.0189 - sparse_categorical_accuracy: 1.0000\n",
      "Epoch 45/200\n",
      "10/10 [==============================] - 0s 4ms/step - loss: 0.0193 - sparse_categorical_accuracy: 0.9966\n",
      "Epoch 46/200\n",
      "10/10 [==============================] - 0s 3ms/step - loss: 0.0258 - sparse_categorical_accuracy: 1.0000\n",
      "Epoch 47/200\n",
      "10/10 [==============================] - 0s 3ms/step - loss: 0.0179 - sparse_categorical_accuracy: 0.9966\n",
      "Epoch 48/200\n",
      "10/10 [==============================] - 0s 4ms/step - loss: 0.0156 - sparse_categorical_accuracy: 1.0000\n",
      "Epoch 49/200\n",
      "10/10 [==============================] - 0s 4ms/step - loss: 0.0153 - sparse_categorical_accuracy: 1.0000\n",
      "Epoch 50/200\n",
      "10/10 [==============================] - 0s 4ms/step - loss: 0.0149 - sparse_categorical_accuracy: 1.0000\n",
      "Epoch 51/200\n",
      "10/10 [==============================] - 0s 4ms/step - loss: 0.0145 - sparse_categorical_accuracy: 1.0000\n",
      "Epoch 52/200\n",
      "10/10 [==============================] - 0s 4ms/step - loss: 0.0136 - sparse_categorical_accuracy: 1.0000\n",
      "Epoch 53/200\n",
      "10/10 [==============================] - 0s 4ms/step - loss: 0.0133 - sparse_categorical_accuracy: 1.0000\n",
      "Epoch 54/200\n",
      "10/10 [==============================] - 0s 5ms/step - loss: 0.0129 - sparse_categorical_accuracy: 1.0000\n",
      "Epoch 55/200\n",
      "10/10 [==============================] - 0s 4ms/step - loss: 0.0141 - sparse_categorical_accuracy: 0.9966\n",
      "Epoch 56/200\n",
      "10/10 [==============================] - 0s 4ms/step - loss: 0.0118 - sparse_categorical_accuracy: 1.0000\n",
      "Epoch 57/200\n",
      "10/10 [==============================] - 0s 3ms/step - loss: 0.0115 - sparse_categorical_accuracy: 1.0000\n",
      "Epoch 58/200\n",
      "10/10 [==============================] - 0s 4ms/step - loss: 0.0120 - sparse_categorical_accuracy: 0.9966\n",
      "Epoch 59/200\n",
      "10/10 [==============================] - 0s 4ms/step - loss: 0.0111 - sparse_categorical_accuracy: 1.0000\n",
      "Epoch 60/200\n",
      "10/10 [==============================] - 0s 4ms/step - loss: 0.0107 - sparse_categorical_accuracy: 1.0000\n",
      "Epoch 61/200\n",
      "10/10 [==============================] - 0s 4ms/step - loss: 0.0102 - sparse_categorical_accuracy: 1.0000\n",
      "Epoch 62/200\n",
      "10/10 [==============================] - 0s 3ms/step - loss: 0.0099 - sparse_categorical_accuracy: 1.0000\n",
      "Epoch 63/200\n",
      "10/10 [==============================] - 0s 4ms/step - loss: 0.0095 - sparse_categorical_accuracy: 1.0000\n",
      "Epoch 64/200\n",
      "10/10 [==============================] - 0s 4ms/step - loss: 0.0105 - sparse_categorical_accuracy: 1.0000\n",
      "Epoch 65/200\n",
      "10/10 [==============================] - 0s 4ms/step - loss: 0.0093 - sparse_categorical_accuracy: 1.0000\n",
      "Epoch 66/200\n",
      "10/10 [==============================] - 0s 4ms/step - loss: 0.0087 - sparse_categorical_accuracy: 1.0000\n",
      "Epoch 67/200\n",
      "10/10 [==============================] - 0s 4ms/step - loss: 0.0086 - sparse_categorical_accuracy: 1.0000\n",
      "Epoch 68/200\n",
      "10/10 [==============================] - 0s 4ms/step - loss: 0.0081 - sparse_categorical_accuracy: 1.0000\n",
      "Epoch 69/200\n",
      "10/10 [==============================] - 0s 4ms/step - loss: 0.0080 - sparse_categorical_accuracy: 1.0000\n",
      "Epoch 70/200\n",
      "10/10 [==============================] - 0s 3ms/step - loss: 0.0078 - sparse_categorical_accuracy: 1.0000\n",
      "Epoch 71/200\n",
      "10/10 [==============================] - 0s 3ms/step - loss: 0.0077 - sparse_categorical_accuracy: 1.0000\n",
      "Epoch 72/200\n",
      "10/10 [==============================] - 0s 3ms/step - loss: 0.0073 - sparse_categorical_accuracy: 1.0000\n",
      "Epoch 73/200\n",
      "10/10 [==============================] - 0s 5ms/step - loss: 0.0071 - sparse_categorical_accuracy: 1.0000\n",
      "Epoch 74/200\n",
      "10/10 [==============================] - 0s 5ms/step - loss: 0.0069 - sparse_categorical_accuracy: 1.0000\n",
      "Epoch 75/200\n",
      "10/10 [==============================] - 0s 4ms/step - loss: 0.0066 - sparse_categorical_accuracy: 1.0000\n",
      "Epoch 76/200\n",
      "10/10 [==============================] - 0s 4ms/step - loss: 0.0065 - sparse_categorical_accuracy: 1.0000\n",
      "Epoch 77/200\n",
      "10/10 [==============================] - 0s 4ms/step - loss: 0.0065 - sparse_categorical_accuracy: 1.0000\n",
      "Epoch 78/200\n",
      "10/10 [==============================] - 0s 3ms/step - loss: 0.0066 - sparse_categorical_accuracy: 1.0000\n",
      "Epoch 79/200\n",
      "10/10 [==============================] - 0s 4ms/step - loss: 0.0069 - sparse_categorical_accuracy: 1.0000\n",
      "Epoch 80/200\n",
      "10/10 [==============================] - 0s 5ms/step - loss: 0.0058 - sparse_categorical_accuracy: 1.0000\n",
      "Epoch 81/200\n",
      "10/10 [==============================] - 0s 4ms/step - loss: 0.0060 - sparse_categorical_accuracy: 1.0000\n",
      "Epoch 82/200\n",
      "10/10 [==============================] - 0s 3ms/step - loss: 0.0059 - sparse_categorical_accuracy: 1.0000\n",
      "Epoch 83/200\n",
      "10/10 [==============================] - 0s 3ms/step - loss: 0.0058 - sparse_categorical_accuracy: 1.0000\n",
      "Epoch 84/200\n",
      "10/10 [==============================] - 0s 4ms/step - loss: 0.0058 - sparse_categorical_accuracy: 1.0000\n",
      "Epoch 85/200\n",
      "10/10 [==============================] - 0s 4ms/step - loss: 0.0051 - sparse_categorical_accuracy: 1.0000\n",
      "Epoch 86/200\n",
      "10/10 [==============================] - 0s 4ms/step - loss: 0.0054 - sparse_categorical_accuracy: 1.0000\n",
      "Epoch 87/200\n",
      "10/10 [==============================] - 0s 4ms/step - loss: 0.0049 - sparse_categorical_accuracy: 1.0000\n",
      "Epoch 88/200\n",
      "10/10 [==============================] - 0s 4ms/step - loss: 0.0048 - sparse_categorical_accuracy: 1.0000\n",
      "Epoch 89/200\n",
      "10/10 [==============================] - 0s 5ms/step - loss: 0.0057 - sparse_categorical_accuracy: 1.0000\n",
      "Epoch 90/200\n",
      "10/10 [==============================] - 0s 5ms/step - loss: 0.0045 - sparse_categorical_accuracy: 1.0000\n",
      "Epoch 91/200\n",
      "10/10 [==============================] - 0s 4ms/step - loss: 0.0045 - sparse_categorical_accuracy: 1.0000\n",
      "Epoch 92/200\n",
      "10/10 [==============================] - 0s 5ms/step - loss: 0.0046 - sparse_categorical_accuracy: 1.0000\n",
      "Epoch 93/200\n",
      "10/10 [==============================] - 0s 4ms/step - loss: 0.0043 - sparse_categorical_accuracy: 1.0000\n",
      "Epoch 94/200\n",
      "10/10 [==============================] - 0s 4ms/step - loss: 0.0045 - sparse_categorical_accuracy: 1.0000\n",
      "Epoch 95/200\n",
      "10/10 [==============================] - 0s 4ms/step - loss: 0.0041 - sparse_categorical_accuracy: 1.0000\n",
      "Epoch 96/200\n",
      "10/10 [==============================] - 0s 4ms/step - loss: 0.0039 - sparse_categorical_accuracy: 1.0000\n",
      "Epoch 97/200\n",
      "10/10 [==============================] - 0s 4ms/step - loss: 0.0041 - sparse_categorical_accuracy: 1.0000\n",
      "Epoch 98/200\n",
      "10/10 [==============================] - 0s 5ms/step - loss: 0.0036 - sparse_categorical_accuracy: 1.0000\n",
      "Epoch 99/200\n",
      "10/10 [==============================] - 0s 4ms/step - loss: 0.0039 - sparse_categorical_accuracy: 1.0000\n",
      "Epoch 100/200\n",
      "10/10 [==============================] - 0s 4ms/step - loss: 0.0035 - sparse_categorical_accuracy: 1.0000\n",
      "Epoch 101/200\n",
      "10/10 [==============================] - 0s 4ms/step - loss: 0.0035 - sparse_categorical_accuracy: 1.0000\n",
      "Epoch 102/200\n",
      "10/10 [==============================] - 0s 4ms/step - loss: 0.0035 - sparse_categorical_accuracy: 1.0000\n",
      "Epoch 103/200\n",
      "10/10 [==============================] - 0s 4ms/step - loss: 0.0034 - sparse_categorical_accuracy: 1.0000\n",
      "Epoch 104/200\n",
      "10/10 [==============================] - 0s 4ms/step - loss: 0.0032 - sparse_categorical_accuracy: 1.0000\n",
      "Epoch 105/200\n",
      "10/10 [==============================] - 0s 4ms/step - loss: 0.0032 - sparse_categorical_accuracy: 1.0000\n",
      "Epoch 106/200\n",
      "10/10 [==============================] - 0s 4ms/step - loss: 0.0032 - sparse_categorical_accuracy: 1.0000\n",
      "Epoch 107/200\n",
      "10/10 [==============================] - 0s 5ms/step - loss: 0.0030 - sparse_categorical_accuracy: 1.0000\n",
      "Epoch 108/200\n",
      "10/10 [==============================] - 0s 4ms/step - loss: 0.0032 - sparse_categorical_accuracy: 1.0000\n",
      "Epoch 109/200\n",
      "10/10 [==============================] - 0s 4ms/step - loss: 0.0028 - sparse_categorical_accuracy: 1.0000\n",
      "Epoch 110/200\n",
      "10/10 [==============================] - 0s 4ms/step - loss: 0.0031 - sparse_categorical_accuracy: 1.0000\n",
      "Epoch 111/200\n",
      "10/10 [==============================] - 0s 4ms/step - loss: 0.0033 - sparse_categorical_accuracy: 1.0000\n",
      "Epoch 112/200\n",
      "10/10 [==============================] - 0s 4ms/step - loss: 0.0030 - sparse_categorical_accuracy: 1.0000\n",
      "Epoch 113/200\n",
      "10/10 [==============================] - 0s 4ms/step - loss: 0.0029 - sparse_categorical_accuracy: 1.0000\n",
      "Epoch 114/200\n",
      "10/10 [==============================] - 0s 3ms/step - loss: 0.0028 - sparse_categorical_accuracy: 1.0000\n",
      "Epoch 115/200\n",
      "10/10 [==============================] - 0s 3ms/step - loss: 0.0026 - sparse_categorical_accuracy: 1.0000\n",
      "Epoch 116/200\n",
      "10/10 [==============================] - 0s 3ms/step - loss: 0.0027 - sparse_categorical_accuracy: 1.0000\n",
      "Epoch 117/200\n",
      "10/10 [==============================] - 0s 4ms/step - loss: 0.0025 - sparse_categorical_accuracy: 1.0000\n",
      "Epoch 118/200\n",
      "10/10 [==============================] - 0s 4ms/step - loss: 0.0025 - sparse_categorical_accuracy: 1.0000\n",
      "Epoch 119/200\n",
      "10/10 [==============================] - 0s 3ms/step - loss: 0.0024 - sparse_categorical_accuracy: 1.0000\n",
      "Epoch 120/200\n",
      "10/10 [==============================] - 0s 3ms/step - loss: 0.0024 - sparse_categorical_accuracy: 1.0000\n",
      "Epoch 121/200\n",
      "10/10 [==============================] - 0s 3ms/step - loss: 0.0023 - sparse_categorical_accuracy: 1.0000\n",
      "Epoch 122/200\n",
      "10/10 [==============================] - 0s 5ms/step - loss: 0.0023 - sparse_categorical_accuracy: 1.0000\n",
      "Epoch 123/200\n",
      "10/10 [==============================] - 0s 3ms/step - loss: 0.0022 - sparse_categorical_accuracy: 1.0000\n",
      "Epoch 124/200\n",
      "10/10 [==============================] - 0s 3ms/step - loss: 0.0022 - sparse_categorical_accuracy: 1.0000\n",
      "Epoch 125/200\n",
      "10/10 [==============================] - 0s 4ms/step - loss: 0.0021 - sparse_categorical_accuracy: 1.0000\n",
      "Epoch 126/200\n",
      "10/10 [==============================] - 0s 5ms/step - loss: 0.0021 - sparse_categorical_accuracy: 1.0000\n",
      "Epoch 127/200\n",
      "10/10 [==============================] - 0s 4ms/step - loss: 0.0021 - sparse_categorical_accuracy: 1.0000\n",
      "Epoch 128/200\n",
      "10/10 [==============================] - 0s 4ms/step - loss: 0.0020 - sparse_categorical_accuracy: 1.0000\n",
      "Epoch 129/200\n",
      "10/10 [==============================] - 0s 4ms/step - loss: 0.0021 - sparse_categorical_accuracy: 1.0000\n",
      "Epoch 130/200\n",
      "10/10 [==============================] - 0s 4ms/step - loss: 0.0020 - sparse_categorical_accuracy: 1.0000\n",
      "Epoch 131/200\n",
      "10/10 [==============================] - 0s 4ms/step - loss: 0.0020 - sparse_categorical_accuracy: 1.0000\n",
      "Epoch 132/200\n",
      "10/10 [==============================] - 0s 4ms/step - loss: 0.0019 - sparse_categorical_accuracy: 1.0000\n",
      "Epoch 133/200\n",
      "10/10 [==============================] - 0s 4ms/step - loss: 0.0019 - sparse_categorical_accuracy: 1.0000\n",
      "Epoch 134/200\n",
      "10/10 [==============================] - 0s 4ms/step - loss: 0.0018 - sparse_categorical_accuracy: 1.0000\n",
      "Epoch 135/200\n",
      "10/10 [==============================] - 0s 4ms/step - loss: 0.0018 - sparse_categorical_accuracy: 1.0000\n",
      "Epoch 136/200\n",
      "10/10 [==============================] - 0s 4ms/step - loss: 0.0018 - sparse_categorical_accuracy: 1.0000\n",
      "Epoch 137/200\n",
      "10/10 [==============================] - 0s 4ms/step - loss: 0.0018 - sparse_categorical_accuracy: 1.0000\n",
      "Epoch 138/200\n",
      "10/10 [==============================] - 0s 4ms/step - loss: 0.0017 - sparse_categorical_accuracy: 1.0000\n",
      "Epoch 139/200\n",
      "10/10 [==============================] - 0s 4ms/step - loss: 0.0017 - sparse_categorical_accuracy: 1.0000\n",
      "Epoch 140/200\n",
      "10/10 [==============================] - 0s 3ms/step - loss: 0.0017 - sparse_categorical_accuracy: 1.0000\n",
      "Epoch 141/200\n",
      "10/10 [==============================] - 0s 2ms/step - loss: 0.0017 - sparse_categorical_accuracy: 1.0000\n",
      "Epoch 142/200\n",
      "10/10 [==============================] - 0s 3ms/step - loss: 0.0016 - sparse_categorical_accuracy: 1.0000\n",
      "Epoch 143/200\n",
      "10/10 [==============================] - 0s 4ms/step - loss: 0.0016 - sparse_categorical_accuracy: 1.0000\n",
      "Epoch 144/200\n",
      "10/10 [==============================] - 0s 2ms/step - loss: 0.0015 - sparse_categorical_accuracy: 1.0000\n",
      "Epoch 145/200\n",
      "10/10 [==============================] - 0s 3ms/step - loss: 0.0015 - sparse_categorical_accuracy: 1.0000\n",
      "Epoch 146/200\n",
      "10/10 [==============================] - 0s 3ms/step - loss: 0.0015 - sparse_categorical_accuracy: 1.0000\n",
      "Epoch 147/200\n",
      "10/10 [==============================] - 0s 3ms/step - loss: 0.0015 - sparse_categorical_accuracy: 1.0000\n",
      "Epoch 148/200\n",
      "10/10 [==============================] - 0s 3ms/step - loss: 0.0015 - sparse_categorical_accuracy: 1.0000\n",
      "Epoch 149/200\n",
      "10/10 [==============================] - 0s 3ms/step - loss: 0.0014 - sparse_categorical_accuracy: 1.0000\n",
      "Epoch 150/200\n",
      "10/10 [==============================] - 0s 3ms/step - loss: 0.0014 - sparse_categorical_accuracy: 1.0000\n",
      "Epoch 151/200\n",
      "10/10 [==============================] - 0s 3ms/step - loss: 0.0014 - sparse_categorical_accuracy: 1.0000\n",
      "Epoch 152/200\n",
      "10/10 [==============================] - 0s 3ms/step - loss: 0.0013 - sparse_categorical_accuracy: 1.0000\n",
      "Epoch 153/200\n",
      "10/10 [==============================] - 0s 3ms/step - loss: 0.0013 - sparse_categorical_accuracy: 1.0000\n",
      "Epoch 154/200\n",
      "10/10 [==============================] - 0s 3ms/step - loss: 0.0014 - sparse_categorical_accuracy: 1.0000\n",
      "Epoch 155/200\n",
      "10/10 [==============================] - 0s 2ms/step - loss: 0.0013 - sparse_categorical_accuracy: 1.0000\n",
      "Epoch 156/200\n",
      "10/10 [==============================] - 0s 2ms/step - loss: 0.0013 - sparse_categorical_accuracy: 1.0000\n",
      "Epoch 157/200\n",
      "10/10 [==============================] - 0s 2ms/step - loss: 0.0013 - sparse_categorical_accuracy: 1.0000\n",
      "Epoch 158/200\n",
      "10/10 [==============================] - 0s 3ms/step - loss: 0.0012 - sparse_categorical_accuracy: 1.0000\n",
      "Epoch 159/200\n",
      "10/10 [==============================] - 0s 2ms/step - loss: 0.0014 - sparse_categorical_accuracy: 1.0000\n",
      "Epoch 160/200\n",
      "10/10 [==============================] - 0s 3ms/step - loss: 0.0013 - sparse_categorical_accuracy: 1.0000\n",
      "Epoch 161/200\n",
      "10/10 [==============================] - 0s 3ms/step - loss: 0.0012 - sparse_categorical_accuracy: 1.0000\n",
      "Epoch 162/200\n",
      "10/10 [==============================] - 0s 3ms/step - loss: 0.0012 - sparse_categorical_accuracy: 1.0000\n",
      "Epoch 163/200\n",
      "10/10 [==============================] - 0s 3ms/step - loss: 0.0011 - sparse_categorical_accuracy: 1.0000\n",
      "Epoch 164/200\n",
      "10/10 [==============================] - 0s 3ms/step - loss: 0.0011 - sparse_categorical_accuracy: 1.0000\n",
      "Epoch 165/200\n",
      "10/10 [==============================] - 0s 3ms/step - loss: 0.0011 - sparse_categorical_accuracy: 1.0000\n",
      "Epoch 166/200\n",
      "10/10 [==============================] - 0s 3ms/step - loss: 0.0011 - sparse_categorical_accuracy: 1.0000\n",
      "Epoch 167/200\n",
      "10/10 [==============================] - 0s 3ms/step - loss: 0.0011 - sparse_categorical_accuracy: 1.0000\n",
      "Epoch 168/200\n",
      "10/10 [==============================] - 0s 3ms/step - loss: 0.0011 - sparse_categorical_accuracy: 1.0000\n",
      "Epoch 169/200\n",
      "10/10 [==============================] - 0s 3ms/step - loss: 0.0011 - sparse_categorical_accuracy: 1.0000\n",
      "Epoch 170/200\n",
      "10/10 [==============================] - 0s 3ms/step - loss: 0.0010 - sparse_categorical_accuracy: 1.0000\n",
      "Epoch 171/200\n",
      "10/10 [==============================] - 0s 3ms/step - loss: 0.0010 - sparse_categorical_accuracy: 1.0000\n",
      "Epoch 172/200\n",
      "10/10 [==============================] - 0s 3ms/step - loss: 0.0010 - sparse_categorical_accuracy: 1.0000\n",
      "Epoch 173/200\n",
      "10/10 [==============================] - 0s 3ms/step - loss: 9.7658e-04 - sparse_categorical_accuracy: 1.0000\n",
      "Epoch 174/200\n",
      "10/10 [==============================] - 0s 3ms/step - loss: 9.6028e-04 - sparse_categorical_accuracy: 1.0000\n",
      "Epoch 175/200\n",
      "10/10 [==============================] - 0s 3ms/step - loss: 9.5440e-04 - sparse_categorical_accuracy: 1.0000\n",
      "Epoch 176/200\n",
      "10/10 [==============================] - 0s 3ms/step - loss: 9.4610e-04 - sparse_categorical_accuracy: 1.0000\n",
      "Epoch 177/200\n",
      "10/10 [==============================] - 0s 3ms/step - loss: 9.2112e-04 - sparse_categorical_accuracy: 1.0000\n",
      "Epoch 178/200\n",
      "10/10 [==============================] - 0s 3ms/step - loss: 9.2371e-04 - sparse_categorical_accuracy: 1.0000\n",
      "Epoch 179/200\n",
      "10/10 [==============================] - 0s 2ms/step - loss: 8.9865e-04 - sparse_categorical_accuracy: 1.0000\n",
      "Epoch 180/200\n",
      "10/10 [==============================] - 0s 3ms/step - loss: 8.8525e-04 - sparse_categorical_accuracy: 1.0000\n",
      "Epoch 181/200\n",
      "10/10 [==============================] - 0s 2ms/step - loss: 8.8728e-04 - sparse_categorical_accuracy: 1.0000\n",
      "Epoch 182/200\n",
      "10/10 [==============================] - 0s 3ms/step - loss: 8.6349e-04 - sparse_categorical_accuracy: 1.0000\n",
      "Epoch 183/200\n",
      "10/10 [==============================] - 0s 3ms/step - loss: 8.4915e-04 - sparse_categorical_accuracy: 1.0000\n",
      "Epoch 184/200\n",
      "10/10 [==============================] - 0s 2ms/step - loss: 8.5020e-04 - sparse_categorical_accuracy: 1.0000\n",
      "Epoch 185/200\n",
      "10/10 [==============================] - 0s 3ms/step - loss: 8.3195e-04 - sparse_categorical_accuracy: 1.0000\n",
      "Epoch 186/200\n",
      "10/10 [==============================] - 0s 3ms/step - loss: 8.4457e-04 - sparse_categorical_accuracy: 1.0000\n",
      "Epoch 187/200\n",
      "10/10 [==============================] - 0s 3ms/step - loss: 8.1631e-04 - sparse_categorical_accuracy: 1.0000\n",
      "Epoch 188/200\n",
      "10/10 [==============================] - 0s 3ms/step - loss: 8.0967e-04 - sparse_categorical_accuracy: 1.0000\n",
      "Epoch 189/200\n",
      "10/10 [==============================] - 0s 3ms/step - loss: 8.1657e-04 - sparse_categorical_accuracy: 1.0000\n",
      "Epoch 190/200\n",
      "10/10 [==============================] - 0s 3ms/step - loss: 7.8318e-04 - sparse_categorical_accuracy: 1.0000\n",
      "Epoch 191/200\n",
      "10/10 [==============================] - 0s 3ms/step - loss: 7.6833e-04 - sparse_categorical_accuracy: 1.0000\n",
      "Epoch 192/200\n",
      "10/10 [==============================] - 0s 2ms/step - loss: 7.6598e-04 - sparse_categorical_accuracy: 1.0000\n",
      "Epoch 193/200\n",
      "10/10 [==============================] - 0s 3ms/step - loss: 7.4756e-04 - sparse_categorical_accuracy: 1.0000\n",
      "Epoch 194/200\n",
      "10/10 [==============================] - 0s 3ms/step - loss: 7.4608e-04 - sparse_categorical_accuracy: 1.0000\n",
      "Epoch 195/200\n",
      "10/10 [==============================] - 0s 2ms/step - loss: 7.3640e-04 - sparse_categorical_accuracy: 1.0000\n",
      "Epoch 196/200\n",
      "10/10 [==============================] - 0s 3ms/step - loss: 7.1867e-04 - sparse_categorical_accuracy: 1.0000\n",
      "Epoch 197/200\n",
      "10/10 [==============================] - 0s 3ms/step - loss: 7.3106e-04 - sparse_categorical_accuracy: 1.0000\n",
      "Epoch 198/200\n",
      "10/10 [==============================] - 0s 3ms/step - loss: 7.1504e-04 - sparse_categorical_accuracy: 1.0000\n",
      "Epoch 199/200\n",
      "10/10 [==============================] - 0s 3ms/step - loss: 7.0066e-04 - sparse_categorical_accuracy: 1.0000\n",
      "Epoch 200/200\n",
      "10/10 [==============================] - 0s 2ms/step - loss: 7.0644e-04 - sparse_categorical_accuracy: 1.0000\n"
     ]
    }
   ],
   "source": [
    "model = Sequential()\n",
    "model.add(Dense(200, input_dim=10, activation='relu'))\n",
    "model.add(Dense(10, activation='softmax'))\n",
    "model.compile(loss=keras.losses.SparseCategoricalCrossentropy(from_logits=True), metrics=keras.metrics.SparseCategoricalAccuracy(), optimizer=\"adam\")\n",
    "history = model.fit(X_train, y_train, epochs=200)\n"
   ]
  },
  {
   "cell_type": "code",
   "execution_count": 124,
   "metadata": {
    "colab": {
     "base_uri": "https://localhost:8080/"
    },
    "id": "0sf9HE-8GWdA",
    "outputId": "a43cab5c-bce4-41f5-aef4-3e07d7631be7"
   },
   "outputs": [
    {
     "data": {
      "text/plain": [
       "1.0"
      ]
     },
     "execution_count": 124,
     "metadata": {},
     "output_type": "execute_result"
    }
   ],
   "source": [
    "preds = model.predict(X_test)\n",
    "y_classes = preds.argmax(axis=-1)\n",
    "sklearn.metrics.accuracy_score(y_test, y_classes)\n"
   ]
  },
  {
   "cell_type": "markdown",
   "metadata": {
    "id": "VK60yoGlGbWl"
   },
   "source": [
    "nice!"
   ]
  },
  {
   "cell_type": "code",
   "execution_count": 185,
   "metadata": {
    "id": "QiNmBnbKDvBL"
   },
   "outputs": [],
   "source": [
    "class GradesNetwork(nn.Module):\n",
    "    def __init__(self):\n",
    "        super().__init__()\n",
    "        # Inputs to hidden layer linear transformation\n",
    "        self.hidden = nn.Linear(10, 200)\n",
    "        # Output layer, 1 output for the classification\n",
    "        self.output = nn.Linear(200, 10)\n",
    "        # Define sigmoid activation and softmax output \n",
    "        self.relu = nn.ReLU()\n",
    "        self.softmax = nn.Softmax()\n",
    "\n",
    "    def forward(self, x):\n",
    "        # Pass the input tensor through each of our operations\n",
    "        x = self.hidden(x)\n",
    "        x = self.relu(x)\n",
    "        x = self.output(x)\n",
    "        x = self.softmax(x)\n",
    "        return x"
   ]
  },
  {
   "cell_type": "code",
   "execution_count": 186,
   "metadata": {
    "id": "FeYgUiWBGVqj"
   },
   "outputs": [],
   "source": [
    "net = GradesNetwork()\n",
    "opt = optim.Adam(net.parameters(), lr=0.001, betas=(0.9, 0.999))\n",
    "criterion = F.nll_loss"
   ]
  },
  {
   "cell_type": "code",
   "execution_count": 187,
   "metadata": {
    "id": "fsmMaNEyG1qN"
   },
   "outputs": [],
   "source": [
    "X_train_tensor = torch.tensor(X_train.to_numpy())\n",
    "y_train_tensor = torch.tensor(y_train).type(torch.LongTensor)"
   ]
  },
  {
   "cell_type": "code",
   "execution_count": 194,
   "metadata": {
    "id": "oUa5-cqNKhw3"
   },
   "outputs": [],
   "source": [
    "X_test = torch.tensor(X_test.to_numpy())\n",
    "y_test = torch.tensor(y_test).type(torch.LongTensor)"
   ]
  },
  {
   "cell_type": "code",
   "execution_count": 188,
   "metadata": {
    "colab": {
     "base_uri": "https://localhost:8080/"
    },
    "id": "owQL25VIIKKI",
    "outputId": "23583e95-59be-40dc-be17-0c450e87965c"
   },
   "outputs": [
    {
     "name": "stdout",
     "output_type": "stream",
     "text": [
      "torch.Size([296, 10])\n",
      "torch.Size([296])\n"
     ]
    }
   ],
   "source": [
    "print(X_train_tensor.shape)\n",
    "print(y_train_tensor.shape)"
   ]
  },
  {
   "cell_type": "code",
   "execution_count": 189,
   "metadata": {
    "id": "yReQ9yi8HdrJ"
   },
   "outputs": [],
   "source": [
    "def train_epoch(model_, opt, criterion, X_train, y_train):\n",
    "    model_.train()\n",
    "    losses = []\n",
    "    opt.zero_grad()\n",
    "    # (1) Forward\n",
    "    y_hat = model_(X_train)\n",
    "    # (2) Compute diff\n",
    "    loss = criterion(y_hat, y_train)\n",
    "    # (3) Compute gradients, this is the backprop step\n",
    "    loss.backward()\n",
    "    # (4) update weights\n",
    "    opt.step()        \n",
    "    losses.append(loss.data.numpy())\n",
    "    return losses"
   ]
  },
  {
   "cell_type": "code",
   "execution_count": 190,
   "metadata": {
    "colab": {
     "base_uri": "https://localhost:8080/"
    },
    "id": "rOzpgS9hDvHb",
    "outputId": "ffaf1a53-210e-420e-a12a-b1ce34f216be"
   },
   "outputs": [
    {
     "name": "stderr",
     "output_type": "stream",
     "text": [
      "/usr/local/lib/python3.7/dist-packages/ipykernel_launcher.py:17: UserWarning: Implicit dimension choice for softmax has been deprecated. Change the call to include dim=X as an argument.\n"
     ]
    }
   ],
   "source": [
    "e_losses = []\n",
    "num_epochs = 200\n",
    "for e in range(num_epochs):\n",
    "    e_losses += train_epoch(net, opt, criterion, X_train_tensor.float(), y_train_tensor)"
   ]
  },
  {
   "cell_type": "code",
   "execution_count": 191,
   "metadata": {
    "colab": {
     "base_uri": "https://localhost:8080/",
     "height": 307
    },
    "id": "Psn803RzGr2E",
    "outputId": "965d770d-4fd5-498e-f433-a45e97d6b8be"
   },
   "outputs": [
    {
     "data": {
      "image/png": "[encoded data removed]",
      "text/plain": [
       "<Figure size 432x288 with 1 Axes>"
      ]
     },
     "metadata": {
      "needs_background": "light"
     },
     "output_type": "display_data"
    }
   ],
   "source": [
    "plt.title(\"Loss for Neural Net Training\")\n",
    "plt.xlabel(\"Number of epochs\")\n",
    "plt.ylabel(\"Loss\")\n",
    "plt.plot(e_losses)\n",
    "plt.show()"
   ]
  },
  {
   "cell_type": "code",
   "execution_count": 195,
   "metadata": {
    "colab": {
     "base_uri": "https://localhost:8080/"
    },
    "id": "R8LM9eo3KJxp",
    "outputId": "52c28153-f40d-49db-c13c-6fd089757638"
   },
   "outputs": [
    {
     "name": "stderr",
     "output_type": "stream",
     "text": [
      "/usr/local/lib/python3.7/dist-packages/ipykernel_launcher.py:1: UserWarning: To copy construct from a tensor, it is recommended to use sourceTensor.clone().detach() or sourceTensor.clone().detach().requires_grad_(True), rather than torch.tensor(sourceTensor).\n",
      "  \"\"\"Entry point for launching an IPython kernel.\n",
      "/usr/local/lib/python3.7/dist-packages/ipykernel_launcher.py:17: UserWarning: Implicit dimension choice for softmax has been deprecated. Change the call to include dim=X as an argument.\n"
     ]
    },
    {
     "data": {
      "text/plain": [
       "0.98989898989899"
      ]
     },
     "execution_count": 195,
     "metadata": {},
     "output_type": "execute_result"
    }
   ],
   "source": [
    "output = net(torch.tensor(X_test).float())\n",
    "y_classes = output.argmax(axis=-1)\n",
    "sklearn.metrics.accuracy_score(y_test, y_classes)\n"
   ]
  },
  {
   "cell_type": "markdown",
   "metadata": {
    "id": "Va-qxtjPv013"
   },
   "source": [
    "**2b)** Which worked better (Keras or PyTorch)?\n",
    "\n"
   ]
  },
  {
   "cell_type": "code",
   "execution_count": 196,
   "metadata": {
    "id": "P_B-w8ngwERa"
   },
   "outputs": [],
   "source": [
    "winner = 'Keras' #@param ['Select', 'PyTorch', 'Keras']"
   ]
  },
  {
   "cell_type": "markdown",
   "metadata": {
    "id": "CpzJrEjgZVwU"
   },
   "source": [
    "**3)** Create an alternative network that uses a different loss function using whichever package performed better on **2b**."
   ]
  },
  {
   "cell_type": "code",
   "execution_count": 211,
   "metadata": {
    "id": "1wgJCb_3MKdR"
   },
   "outputs": [],
   "source": [
    "X_train, X_test, y_train, y_test = sklearn.model_selection.train_test_split(data, labels)"
   ]
  },
  {
   "cell_type": "code",
   "execution_count": 212,
   "metadata": {
    "colab": {
     "base_uri": "https://localhost:8080/"
    },
    "id": "7vwSkgAvLehO",
    "outputId": "c3e192ec-abd6-471b-d779-f8d621134271"
   },
   "outputs": [
    {
     "name": "stdout",
     "output_type": "stream",
     "text": [
      "Epoch 1/200\n"
     ]
    },
    {
     "name": "stderr",
     "output_type": "stream",
     "text": [
      "/usr/local/lib/python3.7/dist-packages/tensorflow/python/util/dispatch.py:1082: UserWarning: \"`sparse_categorical_crossentropy` received `from_logits=True`, but the `output` argument was produced by a sigmoid or softmax activation and thus does not represent logits. Was this intended?\"\n",
      "  return dispatch_target(*args, **kwargs)\n"
     ]
    },
    {
     "name": "stdout",
     "output_type": "stream",
     "text": [
      "10/10 [==============================] - 0s 3ms/step - loss: 3.0291 - sparse_categorical_accuracy: 0.2534\n",
      "Epoch 2/200\n",
      "10/10 [==============================] - 0s 3ms/step - loss: 1.8359 - sparse_categorical_accuracy: 0.6081\n",
      "Epoch 3/200\n",
      "10/10 [==============================] - 0s 3ms/step - loss: 1.1093 - sparse_categorical_accuracy: 0.6318\n",
      "Epoch 4/200\n",
      "10/10 [==============================] - 0s 3ms/step - loss: 0.6115 - sparse_categorical_accuracy: 0.8074\n",
      "Epoch 5/200\n",
      "10/10 [==============================] - 0s 3ms/step - loss: 0.4485 - sparse_categorical_accuracy: 0.8682\n",
      "Epoch 6/200\n",
      "10/10 [==============================] - 0s 3ms/step - loss: 0.3560 - sparse_categorical_accuracy: 0.8885\n",
      "Epoch 7/200\n",
      "10/10 [==============================] - 0s 3ms/step - loss: 0.3184 - sparse_categorical_accuracy: 0.8919\n",
      "Epoch 8/200\n",
      "10/10 [==============================] - 0s 3ms/step - loss: 0.2905 - sparse_categorical_accuracy: 0.9189\n",
      "Epoch 9/200\n",
      "10/10 [==============================] - 0s 3ms/step - loss: 0.2691 - sparse_categorical_accuracy: 0.9189\n",
      "Epoch 10/200\n",
      "10/10 [==============================] - 0s 2ms/step - loss: 0.2537 - sparse_categorical_accuracy: 0.9223\n",
      "Epoch 11/200\n",
      "10/10 [==============================] - 0s 2ms/step - loss: 0.2376 - sparse_categorical_accuracy: 0.9459\n",
      "Epoch 12/200\n",
      "10/10 [==============================] - 0s 4ms/step - loss: 0.2295 - sparse_categorical_accuracy: 0.9459\n",
      "Epoch 13/200\n",
      "10/10 [==============================] - 0s 2ms/step - loss: 0.2127 - sparse_categorical_accuracy: 0.9561\n",
      "Epoch 14/200\n",
      "10/10 [==============================] - 0s 2ms/step - loss: 0.2012 - sparse_categorical_accuracy: 0.9628\n",
      "Epoch 15/200\n",
      "10/10 [==============================] - 0s 2ms/step - loss: 0.1929 - sparse_categorical_accuracy: 0.9595\n",
      "Epoch 16/200\n",
      "10/10 [==============================] - 0s 3ms/step - loss: 0.1827 - sparse_categorical_accuracy: 0.9696\n",
      "Epoch 17/200\n",
      "10/10 [==============================] - 0s 2ms/step - loss: 0.1748 - sparse_categorical_accuracy: 0.9730\n",
      "Epoch 18/200\n",
      "10/10 [==============================] - 0s 2ms/step - loss: 0.1668 - sparse_categorical_accuracy: 0.9662\n",
      "Epoch 19/200\n",
      "10/10 [==============================] - 0s 2ms/step - loss: 0.1610 - sparse_categorical_accuracy: 0.9662\n",
      "Epoch 20/200\n",
      "10/10 [==============================] - 0s 2ms/step - loss: 0.1528 - sparse_categorical_accuracy: 0.9831\n",
      "Epoch 21/200\n",
      "10/10 [==============================] - 0s 2ms/step - loss: 0.1465 - sparse_categorical_accuracy: 0.9831\n",
      "Epoch 22/200\n",
      "10/10 [==============================] - 0s 3ms/step - loss: 0.1391 - sparse_categorical_accuracy: 0.9764\n",
      "Epoch 23/200\n",
      "10/10 [==============================] - 0s 2ms/step - loss: 0.1331 - sparse_categorical_accuracy: 0.9865\n",
      "Epoch 24/200\n",
      "10/10 [==============================] - 0s 2ms/step - loss: 0.1270 - sparse_categorical_accuracy: 0.9865\n",
      "Epoch 25/200\n",
      "10/10 [==============================] - 0s 2ms/step - loss: 0.1222 - sparse_categorical_accuracy: 0.9865\n",
      "Epoch 26/200\n",
      "10/10 [==============================] - 0s 2ms/step - loss: 0.1162 - sparse_categorical_accuracy: 0.9865\n",
      "Epoch 27/200\n",
      "10/10 [==============================] - 0s 2ms/step - loss: 0.1138 - sparse_categorical_accuracy: 0.9899\n",
      "Epoch 28/200\n",
      "10/10 [==============================] - 0s 2ms/step - loss: 0.1073 - sparse_categorical_accuracy: 0.9865\n",
      "Epoch 29/200\n",
      "10/10 [==============================] - 0s 3ms/step - loss: 0.1017 - sparse_categorical_accuracy: 0.9865\n",
      "Epoch 30/200\n",
      "10/10 [==============================] - 0s 2ms/step - loss: 0.0975 - sparse_categorical_accuracy: 0.9932\n",
      "Epoch 31/200\n",
      "10/10 [==============================] - 0s 2ms/step - loss: 0.0931 - sparse_categorical_accuracy: 0.9865\n",
      "Epoch 32/200\n",
      "10/10 [==============================] - 0s 2ms/step - loss: 0.0892 - sparse_categorical_accuracy: 0.9932\n",
      "Epoch 33/200\n",
      "10/10 [==============================] - 0s 2ms/step - loss: 0.0856 - sparse_categorical_accuracy: 0.9966\n",
      "Epoch 34/200\n",
      "10/10 [==============================] - 0s 3ms/step - loss: 0.0832 - sparse_categorical_accuracy: 0.9899\n",
      "Epoch 35/200\n",
      "10/10 [==============================] - 0s 2ms/step - loss: 0.0791 - sparse_categorical_accuracy: 1.0000\n",
      "Epoch 36/200\n",
      "10/10 [==============================] - 0s 3ms/step - loss: 0.0778 - sparse_categorical_accuracy: 0.9966\n",
      "Epoch 37/200\n",
      "10/10 [==============================] - 0s 2ms/step - loss: 0.0728 - sparse_categorical_accuracy: 1.0000\n",
      "Epoch 38/200\n",
      "10/10 [==============================] - 0s 2ms/step - loss: 0.0699 - sparse_categorical_accuracy: 0.9966\n",
      "Epoch 39/200\n",
      "10/10 [==============================] - 0s 2ms/step - loss: 0.0670 - sparse_categorical_accuracy: 1.0000\n",
      "Epoch 40/200\n",
      "10/10 [==============================] - 0s 2ms/step - loss: 0.0648 - sparse_categorical_accuracy: 1.0000\n",
      "Epoch 41/200\n",
      "10/10 [==============================] - 0s 2ms/step - loss: 0.0623 - sparse_categorical_accuracy: 1.0000\n",
      "Epoch 42/200\n",
      "10/10 [==============================] - 0s 2ms/step - loss: 0.0605 - sparse_categorical_accuracy: 1.0000\n",
      "Epoch 43/200\n",
      "10/10 [==============================] - 0s 3ms/step - loss: 0.0596 - sparse_categorical_accuracy: 1.0000\n",
      "Epoch 44/200\n",
      "10/10 [==============================] - 0s 2ms/step - loss: 0.0556 - sparse_categorical_accuracy: 1.0000\n",
      "Epoch 45/200\n",
      "10/10 [==============================] - 0s 3ms/step - loss: 0.0552 - sparse_categorical_accuracy: 1.0000\n",
      "Epoch 46/200\n",
      "10/10 [==============================] - 0s 3ms/step - loss: 0.0540 - sparse_categorical_accuracy: 1.0000\n",
      "Epoch 47/200\n",
      "10/10 [==============================] - 0s 2ms/step - loss: 0.0507 - sparse_categorical_accuracy: 1.0000\n",
      "Epoch 48/200\n",
      "10/10 [==============================] - 0s 2ms/step - loss: 0.0493 - sparse_categorical_accuracy: 1.0000\n",
      "Epoch 49/200\n",
      "10/10 [==============================] - 0s 2ms/step - loss: 0.0485 - sparse_categorical_accuracy: 1.0000\n",
      "Epoch 50/200\n",
      "10/10 [==============================] - 0s 3ms/step - loss: 0.0476 - sparse_categorical_accuracy: 1.0000\n",
      "Epoch 51/200\n",
      "10/10 [==============================] - 0s 2ms/step - loss: 0.0444 - sparse_categorical_accuracy: 1.0000\n",
      "Epoch 52/200\n",
      "10/10 [==============================] - 0s 2ms/step - loss: 0.0436 - sparse_categorical_accuracy: 1.0000\n",
      "Epoch 53/200\n",
      "10/10 [==============================] - 0s 3ms/step - loss: 0.0414 - sparse_categorical_accuracy: 1.0000\n",
      "Epoch 54/200\n",
      "10/10 [==============================] - 0s 3ms/step - loss: 0.0403 - sparse_categorical_accuracy: 1.0000\n",
      "Epoch 55/200\n",
      "10/10 [==============================] - 0s 2ms/step - loss: 0.0404 - sparse_categorical_accuracy: 1.0000\n",
      "Epoch 56/200\n",
      "10/10 [==============================] - 0s 2ms/step - loss: 0.0413 - sparse_categorical_accuracy: 1.0000\n",
      "Epoch 57/200\n",
      "10/10 [==============================] - 0s 2ms/step - loss: 0.0375 - sparse_categorical_accuracy: 1.0000\n",
      "Epoch 58/200\n",
      "10/10 [==============================] - 0s 2ms/step - loss: 0.0364 - sparse_categorical_accuracy: 1.0000\n",
      "Epoch 59/200\n",
      "10/10 [==============================] - 0s 2ms/step - loss: 0.0350 - sparse_categorical_accuracy: 1.0000\n",
      "Epoch 60/200\n",
      "10/10 [==============================] - 0s 3ms/step - loss: 0.0335 - sparse_categorical_accuracy: 1.0000\n",
      "Epoch 61/200\n",
      "10/10 [==============================] - 0s 3ms/step - loss: 0.0327 - sparse_categorical_accuracy: 1.0000\n",
      "Epoch 62/200\n",
      "10/10 [==============================] - 0s 3ms/step - loss: 0.0329 - sparse_categorical_accuracy: 1.0000\n",
      "Epoch 63/200\n",
      "10/10 [==============================] - 0s 3ms/step - loss: 0.0312 - sparse_categorical_accuracy: 1.0000\n",
      "Epoch 64/200\n",
      "10/10 [==============================] - 0s 3ms/step - loss: 0.0302 - sparse_categorical_accuracy: 1.0000\n",
      "Epoch 65/200\n",
      "10/10 [==============================] - 0s 3ms/step - loss: 0.0297 - sparse_categorical_accuracy: 1.0000\n",
      "Epoch 66/200\n",
      "10/10 [==============================] - 0s 3ms/step - loss: 0.0285 - sparse_categorical_accuracy: 1.0000\n",
      "Epoch 67/200\n",
      "10/10 [==============================] - 0s 3ms/step - loss: 0.0279 - sparse_categorical_accuracy: 1.0000\n",
      "Epoch 68/200\n",
      "10/10 [==============================] - 0s 3ms/step - loss: 0.0273 - sparse_categorical_accuracy: 1.0000\n",
      "Epoch 69/200\n",
      "10/10 [==============================] - 0s 3ms/step - loss: 0.0270 - sparse_categorical_accuracy: 1.0000\n",
      "Epoch 70/200\n",
      "10/10 [==============================] - 0s 3ms/step - loss: 0.0259 - sparse_categorical_accuracy: 1.0000\n",
      "Epoch 71/200\n",
      "10/10 [==============================] - 0s 3ms/step - loss: 0.0252 - sparse_categorical_accuracy: 1.0000\n",
      "Epoch 72/200\n",
      "10/10 [==============================] - 0s 3ms/step - loss: 0.0246 - sparse_categorical_accuracy: 1.0000\n",
      "Epoch 73/200\n",
      "10/10 [==============================] - 0s 3ms/step - loss: 0.0241 - sparse_categorical_accuracy: 1.0000\n",
      "Epoch 74/200\n",
      "10/10 [==============================] - 0s 3ms/step - loss: 0.0235 - sparse_categorical_accuracy: 1.0000\n",
      "Epoch 75/200\n",
      "10/10 [==============================] - 0s 3ms/step - loss: 0.0227 - sparse_categorical_accuracy: 1.0000\n",
      "Epoch 76/200\n",
      "10/10 [==============================] - 0s 3ms/step - loss: 0.0224 - sparse_categorical_accuracy: 1.0000\n",
      "Epoch 77/200\n",
      "10/10 [==============================] - 0s 3ms/step - loss: 0.0217 - sparse_categorical_accuracy: 1.0000\n",
      "Epoch 78/200\n",
      "10/10 [==============================] - 0s 3ms/step - loss: 0.0213 - sparse_categorical_accuracy: 1.0000\n",
      "Epoch 79/200\n",
      "10/10 [==============================] - 0s 3ms/step - loss: 0.0208 - sparse_categorical_accuracy: 1.0000\n",
      "Epoch 80/200\n",
      "10/10 [==============================] - 0s 3ms/step - loss: 0.0204 - sparse_categorical_accuracy: 1.0000\n",
      "Epoch 81/200\n",
      "10/10 [==============================] - 0s 3ms/step - loss: 0.0198 - sparse_categorical_accuracy: 1.0000\n",
      "Epoch 82/200\n",
      "10/10 [==============================] - 0s 3ms/step - loss: 0.0196 - sparse_categorical_accuracy: 1.0000\n",
      "Epoch 83/200\n",
      "10/10 [==============================] - 0s 3ms/step - loss: 0.0190 - sparse_categorical_accuracy: 1.0000\n",
      "Epoch 84/200\n",
      "10/10 [==============================] - 0s 3ms/step - loss: 0.0186 - sparse_categorical_accuracy: 1.0000\n",
      "Epoch 85/200\n",
      "10/10 [==============================] - 0s 3ms/step - loss: 0.0183 - sparse_categorical_accuracy: 1.0000\n",
      "Epoch 86/200\n",
      "10/10 [==============================] - 0s 3ms/step - loss: 0.0191 - sparse_categorical_accuracy: 1.0000\n",
      "Epoch 87/200\n",
      "10/10 [==============================] - 0s 3ms/step - loss: 0.0171 - sparse_categorical_accuracy: 1.0000\n",
      "Epoch 88/200\n",
      "10/10 [==============================] - 0s 3ms/step - loss: 0.0183 - sparse_categorical_accuracy: 1.0000\n",
      "Epoch 89/200\n",
      "10/10 [==============================] - 0s 3ms/step - loss: 0.0173 - sparse_categorical_accuracy: 1.0000\n",
      "Epoch 90/200\n",
      "10/10 [==============================] - 0s 2ms/step - loss: 0.0175 - sparse_categorical_accuracy: 1.0000\n",
      "Epoch 91/200\n",
      "10/10 [==============================] - 0s 2ms/step - loss: 0.0158 - sparse_categorical_accuracy: 1.0000\n",
      "Epoch 92/200\n",
      "10/10 [==============================] - 0s 3ms/step - loss: 0.0156 - sparse_categorical_accuracy: 1.0000\n",
      "Epoch 93/200\n",
      "10/10 [==============================] - 0s 2ms/step - loss: 0.0151 - sparse_categorical_accuracy: 1.0000\n",
      "Epoch 94/200\n",
      "10/10 [==============================] - 0s 2ms/step - loss: 0.0149 - sparse_categorical_accuracy: 1.0000\n",
      "Epoch 95/200\n",
      "10/10 [==============================] - 0s 2ms/step - loss: 0.0146 - sparse_categorical_accuracy: 1.0000\n",
      "Epoch 96/200\n",
      "10/10 [==============================] - 0s 2ms/step - loss: 0.0142 - sparse_categorical_accuracy: 1.0000\n",
      "Epoch 97/200\n",
      "10/10 [==============================] - 0s 2ms/step - loss: 0.0140 - sparse_categorical_accuracy: 1.0000\n",
      "Epoch 98/200\n",
      "10/10 [==============================] - 0s 3ms/step - loss: 0.0138 - sparse_categorical_accuracy: 1.0000\n",
      "Epoch 99/200\n",
      "10/10 [==============================] - 0s 2ms/step - loss: 0.0135 - sparse_categorical_accuracy: 1.0000\n",
      "Epoch 100/200\n",
      "10/10 [==============================] - 0s 2ms/step - loss: 0.0134 - sparse_categorical_accuracy: 1.0000\n",
      "Epoch 101/200\n",
      "10/10 [==============================] - 0s 2ms/step - loss: 0.0131 - sparse_categorical_accuracy: 1.0000\n",
      "Epoch 102/200\n",
      "10/10 [==============================] - 0s 3ms/step - loss: 0.0129 - sparse_categorical_accuracy: 1.0000\n",
      "Epoch 103/200\n",
      "10/10 [==============================] - 0s 3ms/step - loss: 0.0125 - sparse_categorical_accuracy: 1.0000\n",
      "Epoch 104/200\n",
      "10/10 [==============================] - 0s 2ms/step - loss: 0.0123 - sparse_categorical_accuracy: 1.0000\n",
      "Epoch 105/200\n",
      "10/10 [==============================] - 0s 3ms/step - loss: 0.0120 - sparse_categorical_accuracy: 1.0000\n",
      "Epoch 106/200\n",
      "10/10 [==============================] - 0s 2ms/step - loss: 0.0118 - sparse_categorical_accuracy: 1.0000\n",
      "Epoch 107/200\n",
      "10/10 [==============================] - 0s 2ms/step - loss: 0.0115 - sparse_categorical_accuracy: 1.0000\n",
      "Epoch 108/200\n",
      "10/10 [==============================] - 0s 2ms/step - loss: 0.0114 - sparse_categorical_accuracy: 1.0000\n",
      "Epoch 109/200\n",
      "10/10 [==============================] - 0s 3ms/step - loss: 0.0113 - sparse_categorical_accuracy: 1.0000\n",
      "Epoch 110/200\n",
      "10/10 [==============================] - 0s 3ms/step - loss: 0.0110 - sparse_categorical_accuracy: 1.0000\n",
      "Epoch 111/200\n",
      "10/10 [==============================] - 0s 3ms/step - loss: 0.0111 - sparse_categorical_accuracy: 1.0000\n",
      "Epoch 112/200\n",
      "10/10 [==============================] - 0s 2ms/step - loss: 0.0112 - sparse_categorical_accuracy: 1.0000\n",
      "Epoch 113/200\n",
      "10/10 [==============================] - 0s 2ms/step - loss: 0.0103 - sparse_categorical_accuracy: 1.0000\n",
      "Epoch 114/200\n",
      "10/10 [==============================] - 0s 2ms/step - loss: 0.0102 - sparse_categorical_accuracy: 1.0000\n",
      "Epoch 115/200\n",
      "10/10 [==============================] - 0s 3ms/step - loss: 0.0099 - sparse_categorical_accuracy: 1.0000\n",
      "Epoch 116/200\n",
      "10/10 [==============================] - 0s 2ms/step - loss: 0.0097 - sparse_categorical_accuracy: 1.0000\n",
      "Epoch 117/200\n",
      "10/10 [==============================] - 0s 3ms/step - loss: 0.0096 - sparse_categorical_accuracy: 1.0000\n",
      "Epoch 118/200\n",
      "10/10 [==============================] - 0s 3ms/step - loss: 0.0095 - sparse_categorical_accuracy: 1.0000\n",
      "Epoch 119/200\n",
      "10/10 [==============================] - 0s 2ms/step - loss: 0.0092 - sparse_categorical_accuracy: 1.0000\n",
      "Epoch 120/200\n",
      "10/10 [==============================] - 0s 2ms/step - loss: 0.0091 - sparse_categorical_accuracy: 1.0000\n",
      "Epoch 121/200\n",
      "10/10 [==============================] - 0s 2ms/step - loss: 0.0090 - sparse_categorical_accuracy: 1.0000\n",
      "Epoch 122/200\n",
      "10/10 [==============================] - 0s 3ms/step - loss: 0.0088 - sparse_categorical_accuracy: 1.0000\n",
      "Epoch 123/200\n",
      "10/10 [==============================] - 0s 2ms/step - loss: 0.0086 - sparse_categorical_accuracy: 1.0000\n",
      "Epoch 124/200\n",
      "10/10 [==============================] - 0s 3ms/step - loss: 0.0086 - sparse_categorical_accuracy: 1.0000\n",
      "Epoch 125/200\n",
      "10/10 [==============================] - 0s 2ms/step - loss: 0.0083 - sparse_categorical_accuracy: 1.0000\n",
      "Epoch 126/200\n",
      "10/10 [==============================] - 0s 3ms/step - loss: 0.0082 - sparse_categorical_accuracy: 1.0000\n",
      "Epoch 127/200\n",
      "10/10 [==============================] - 0s 2ms/step - loss: 0.0080 - sparse_categorical_accuracy: 1.0000\n",
      "Epoch 128/200\n",
      "10/10 [==============================] - 0s 3ms/step - loss: 0.0079 - sparse_categorical_accuracy: 1.0000\n",
      "Epoch 129/200\n",
      "10/10 [==============================] - 0s 2ms/step - loss: 0.0078 - sparse_categorical_accuracy: 1.0000\n",
      "Epoch 130/200\n",
      "10/10 [==============================] - 0s 3ms/step - loss: 0.0077 - sparse_categorical_accuracy: 1.0000\n",
      "Epoch 131/200\n",
      "10/10 [==============================] - 0s 3ms/step - loss: 0.0076 - sparse_categorical_accuracy: 1.0000\n",
      "Epoch 132/200\n",
      "10/10 [==============================] - 0s 4ms/step - loss: 0.0074 - sparse_categorical_accuracy: 1.0000\n",
      "Epoch 133/200\n",
      "10/10 [==============================] - 0s 4ms/step - loss: 0.0073 - sparse_categorical_accuracy: 1.0000\n",
      "Epoch 134/200\n",
      "10/10 [==============================] - 0s 3ms/step - loss: 0.0072 - sparse_categorical_accuracy: 1.0000\n",
      "Epoch 135/200\n",
      "10/10 [==============================] - 0s 3ms/step - loss: 0.0071 - sparse_categorical_accuracy: 1.0000\n",
      "Epoch 136/200\n",
      "10/10 [==============================] - 0s 3ms/step - loss: 0.0071 - sparse_categorical_accuracy: 1.0000\n",
      "Epoch 137/200\n",
      "10/10 [==============================] - 0s 3ms/step - loss: 0.0070 - sparse_categorical_accuracy: 1.0000\n",
      "Epoch 138/200\n",
      "10/10 [==============================] - 0s 3ms/step - loss: 0.0068 - sparse_categorical_accuracy: 1.0000\n",
      "Epoch 139/200\n",
      "10/10 [==============================] - 0s 2ms/step - loss: 0.0065 - sparse_categorical_accuracy: 1.0000\n",
      "Epoch 140/200\n",
      "10/10 [==============================] - 0s 3ms/step - loss: 0.0065 - sparse_categorical_accuracy: 1.0000\n",
      "Epoch 141/200\n",
      "10/10 [==============================] - 0s 3ms/step - loss: 0.0064 - sparse_categorical_accuracy: 1.0000\n",
      "Epoch 142/200\n",
      "10/10 [==============================] - 0s 3ms/step - loss: 0.0063 - sparse_categorical_accuracy: 1.0000\n",
      "Epoch 143/200\n",
      "10/10 [==============================] - 0s 3ms/step - loss: 0.0066 - sparse_categorical_accuracy: 1.0000\n",
      "Epoch 144/200\n",
      "10/10 [==============================] - 0s 3ms/step - loss: 0.0061 - sparse_categorical_accuracy: 1.0000\n",
      "Epoch 145/200\n",
      "10/10 [==============================] - 0s 2ms/step - loss: 0.0062 - sparse_categorical_accuracy: 1.0000\n",
      "Epoch 146/200\n",
      "10/10 [==============================] - 0s 3ms/step - loss: 0.0058 - sparse_categorical_accuracy: 1.0000\n",
      "Epoch 147/200\n",
      "10/10 [==============================] - 0s 2ms/step - loss: 0.0059 - sparse_categorical_accuracy: 1.0000\n",
      "Epoch 148/200\n",
      "10/10 [==============================] - 0s 3ms/step - loss: 0.0057 - sparse_categorical_accuracy: 1.0000\n",
      "Epoch 149/200\n",
      "10/10 [==============================] - 0s 3ms/step - loss: 0.0056 - sparse_categorical_accuracy: 1.0000\n",
      "Epoch 150/200\n",
      "10/10 [==============================] - 0s 3ms/step - loss: 0.0055 - sparse_categorical_accuracy: 1.0000\n",
      "Epoch 151/200\n",
      "10/10 [==============================] - 0s 3ms/step - loss: 0.0055 - sparse_categorical_accuracy: 1.0000\n",
      "Epoch 152/200\n",
      "10/10 [==============================] - 0s 2ms/step - loss: 0.0055 - sparse_categorical_accuracy: 1.0000\n",
      "Epoch 153/200\n",
      "10/10 [==============================] - 0s 3ms/step - loss: 0.0053 - sparse_categorical_accuracy: 1.0000\n",
      "Epoch 154/200\n",
      "10/10 [==============================] - 0s 2ms/step - loss: 0.0054 - sparse_categorical_accuracy: 1.0000\n",
      "Epoch 155/200\n",
      "10/10 [==============================] - 0s 3ms/step - loss: 0.0052 - sparse_categorical_accuracy: 1.0000\n",
      "Epoch 156/200\n",
      "10/10 [==============================] - 0s 3ms/step - loss: 0.0052 - sparse_categorical_accuracy: 1.0000\n",
      "Epoch 157/200\n",
      "10/10 [==============================] - 0s 3ms/step - loss: 0.0050 - sparse_categorical_accuracy: 1.0000\n",
      "Epoch 158/200\n",
      "10/10 [==============================] - 0s 3ms/step - loss: 0.0050 - sparse_categorical_accuracy: 1.0000\n",
      "Epoch 159/200\n",
      "10/10 [==============================] - 0s 3ms/step - loss: 0.0049 - sparse_categorical_accuracy: 1.0000\n",
      "Epoch 160/200\n",
      "10/10 [==============================] - 0s 3ms/step - loss: 0.0048 - sparse_categorical_accuracy: 1.0000\n",
      "Epoch 161/200\n",
      "10/10 [==============================] - 0s 3ms/step - loss: 0.0047 - sparse_categorical_accuracy: 1.0000\n",
      "Epoch 162/200\n",
      "10/10 [==============================] - 0s 3ms/step - loss: 0.0047 - sparse_categorical_accuracy: 1.0000\n",
      "Epoch 163/200\n",
      "10/10 [==============================] - 0s 3ms/step - loss: 0.0046 - sparse_categorical_accuracy: 1.0000\n",
      "Epoch 164/200\n",
      "10/10 [==============================] - 0s 3ms/step - loss: 0.0046 - sparse_categorical_accuracy: 1.0000\n",
      "Epoch 165/200\n",
      "10/10 [==============================] - 0s 2ms/step - loss: 0.0045 - sparse_categorical_accuracy: 1.0000\n",
      "Epoch 166/200\n",
      "10/10 [==============================] - 0s 3ms/step - loss: 0.0045 - sparse_categorical_accuracy: 1.0000\n",
      "Epoch 167/200\n",
      "10/10 [==============================] - 0s 2ms/step - loss: 0.0044 - sparse_categorical_accuracy: 1.0000\n",
      "Epoch 168/200\n",
      "10/10 [==============================] - 0s 2ms/step - loss: 0.0043 - sparse_categorical_accuracy: 1.0000\n",
      "Epoch 169/200\n",
      "10/10 [==============================] - 0s 3ms/step - loss: 0.0044 - sparse_categorical_accuracy: 1.0000\n",
      "Epoch 170/200\n",
      "10/10 [==============================] - 0s 3ms/step - loss: 0.0042 - sparse_categorical_accuracy: 1.0000\n",
      "Epoch 171/200\n",
      "10/10 [==============================] - 0s 3ms/step - loss: 0.0041 - sparse_categorical_accuracy: 1.0000\n",
      "Epoch 172/200\n",
      "10/10 [==============================] - 0s 2ms/step - loss: 0.0041 - sparse_categorical_accuracy: 1.0000\n",
      "Epoch 173/200\n",
      "10/10 [==============================] - 0s 2ms/step - loss: 0.0040 - sparse_categorical_accuracy: 1.0000\n",
      "Epoch 174/200\n",
      "10/10 [==============================] - 0s 3ms/step - loss: 0.0040 - sparse_categorical_accuracy: 1.0000\n",
      "Epoch 175/200\n",
      "10/10 [==============================] - 0s 2ms/step - loss: 0.0040 - sparse_categorical_accuracy: 1.0000\n",
      "Epoch 176/200\n",
      "10/10 [==============================] - 0s 3ms/step - loss: 0.0039 - sparse_categorical_accuracy: 1.0000\n",
      "Epoch 177/200\n",
      "10/10 [==============================] - 0s 3ms/step - loss: 0.0038 - sparse_categorical_accuracy: 1.0000\n",
      "Epoch 178/200\n",
      "10/10 [==============================] - 0s 3ms/step - loss: 0.0038 - sparse_categorical_accuracy: 1.0000\n",
      "Epoch 179/200\n",
      "10/10 [==============================] - 0s 3ms/step - loss: 0.0038 - sparse_categorical_accuracy: 1.0000\n",
      "Epoch 180/200\n",
      "10/10 [==============================] - 0s 3ms/step - loss: 0.0037 - sparse_categorical_accuracy: 1.0000\n",
      "Epoch 181/200\n",
      "10/10 [==============================] - 0s 3ms/step - loss: 0.0036 - sparse_categorical_accuracy: 1.0000\n",
      "Epoch 182/200\n",
      "10/10 [==============================] - 0s 3ms/step - loss: 0.0036 - sparse_categorical_accuracy: 1.0000\n",
      "Epoch 183/200\n",
      "10/10 [==============================] - 0s 3ms/step - loss: 0.0036 - sparse_categorical_accuracy: 1.0000\n",
      "Epoch 184/200\n",
      "10/10 [==============================] - 0s 3ms/step - loss: 0.0035 - sparse_categorical_accuracy: 1.0000\n",
      "Epoch 185/200\n",
      "10/10 [==============================] - 0s 3ms/step - loss: 0.0035 - sparse_categorical_accuracy: 1.0000\n",
      "Epoch 186/200\n",
      "10/10 [==============================] - 0s 3ms/step - loss: 0.0034 - sparse_categorical_accuracy: 1.0000\n",
      "Epoch 187/200\n",
      "10/10 [==============================] - 0s 3ms/step - loss: 0.0034 - sparse_categorical_accuracy: 1.0000\n",
      "Epoch 188/200\n",
      "10/10 [==============================] - 0s 3ms/step - loss: 0.0033 - sparse_categorical_accuracy: 1.0000\n",
      "Epoch 189/200\n",
      "10/10 [==============================] - 0s 3ms/step - loss: 0.0033 - sparse_categorical_accuracy: 1.0000\n",
      "Epoch 190/200\n",
      "10/10 [==============================] - 0s 3ms/step - loss: 0.0032 - sparse_categorical_accuracy: 1.0000\n",
      "Epoch 191/200\n",
      "10/10 [==============================] - 0s 3ms/step - loss: 0.0032 - sparse_categorical_accuracy: 1.0000\n",
      "Epoch 192/200\n",
      "10/10 [==============================] - 0s 3ms/step - loss: 0.0032 - sparse_categorical_accuracy: 1.0000\n",
      "Epoch 193/200\n",
      "10/10 [==============================] - 0s 3ms/step - loss: 0.0032 - sparse_categorical_accuracy: 1.0000\n",
      "Epoch 194/200\n",
      "10/10 [==============================] - 0s 3ms/step - loss: 0.0031 - sparse_categorical_accuracy: 1.0000\n",
      "Epoch 195/200\n",
      "10/10 [==============================] - 0s 2ms/step - loss: 0.0030 - sparse_categorical_accuracy: 1.0000\n",
      "Epoch 196/200\n",
      "10/10 [==============================] - 0s 3ms/step - loss: 0.0031 - sparse_categorical_accuracy: 1.0000\n",
      "Epoch 197/200\n",
      "10/10 [==============================] - 0s 3ms/step - loss: 0.0030 - sparse_categorical_accuracy: 1.0000\n",
      "Epoch 198/200\n",
      "10/10 [==============================] - 0s 3ms/step - loss: 0.0030 - sparse_categorical_accuracy: 1.0000\n",
      "Epoch 199/200\n",
      "10/10 [==============================] - 0s 3ms/step - loss: 0.0029 - sparse_categorical_accuracy: 1.0000\n",
      "Epoch 200/200\n",
      "10/10 [==============================] - 0s 2ms/step - loss: 0.0028 - sparse_categorical_accuracy: 1.0000\n"
     ]
    }
   ],
   "source": [
    "model = Sequential()\n",
    "model.add(Dense(50, input_dim=10, activation='relu'))\n",
    "model.add(Dense(10, activation='softmax'))\n",
    "model.compile(loss=keras.losses.SparseCategoricalCrossentropy(from_logits=True), metrics=keras.metrics.SparseCategoricalAccuracy(), optimizer=\"adam\")\n",
    "history = model.fit(X_train, y_train, epochs=200)\n"
   ]
  },
  {
   "cell_type": "code",
   "execution_count": 210,
   "metadata": {
    "colab": {
     "base_uri": "https://localhost:8080/"
    },
    "id": "_DeuD9xIMEwF",
    "outputId": "b4ffd8cb-2a4d-4488-bb34-08ac493df872"
   },
   "outputs": [
    {
     "data": {
      "text/plain": [
       "torch.Tensor"
      ]
     },
     "execution_count": 210,
     "metadata": {},
     "output_type": "execute_result"
    }
   ],
   "source": [
    "type(X_test)"
   ]
  },
  {
   "cell_type": "code",
   "execution_count": 213,
   "metadata": {
    "id": "2ocHzRF-L1R0"
   },
   "outputs": [],
   "source": [
    "preds = model.predict(X_test)\n",
    "y_classes = preds.argmax(axis=-1)"
   ]
  },
  {
   "cell_type": "code",
   "execution_count": 214,
   "metadata": {
    "colab": {
     "base_uri": "https://localhost:8080/"
    },
    "id": "Z5af5UHkwier",
    "outputId": "49577df8-30c1-4809-e62d-ea71925c5ae0"
   },
   "outputs": [
    {
     "data": {
      "text/plain": [
       "array([[32,  0],\n",
       "       [ 2, 65]])"
      ]
     },
     "execution_count": 214,
     "metadata": {},
     "output_type": "execute_result"
    }
   ],
   "source": [
    "sklearn.metrics.confusion_matrix(y_test, y_classes)"
   ]
  },
  {
   "cell_type": "code",
   "execution_count": 215,
   "metadata": {
    "colab": {
     "base_uri": "https://localhost:8080/"
    },
    "id": "yomf6IjyLI6L",
    "outputId": "11dde6f6-3aea-429a-cdb4-176814c2ba1f"
   },
   "outputs": [
    {
     "data": {
      "text/plain": [
       "0.9848484848484849"
      ]
     },
     "execution_count": 215,
     "metadata": {},
     "output_type": "execute_result"
    }
   ],
   "source": [
    "sklearn.metrics.f1_score(y_test, y_classes)"
   ]
  },
  {
   "cell_type": "code",
   "execution_count": 216,
   "metadata": {
    "colab": {
     "base_uri": "https://localhost:8080/"
    },
    "id": "_owFJPMlLT0V",
    "outputId": "aa40780e-8ad8-4df4-c5e0-474a3381fb93"
   },
   "outputs": [
    {
     "data": {
      "text/plain": [
       "0.9850746268656716"
      ]
     },
     "execution_count": 216,
     "metadata": {},
     "output_type": "execute_result"
    }
   ],
   "source": [
    "sklearn.metrics.roc_auc_score(y_test, y_classes)"
   ]
  },
  {
   "cell_type": "markdown",
   "metadata": {
    "id": "0LIGYWCjZ7FL"
   },
   "source": [
    "**3b)** Which loss worked better?"
   ]
  },
  {
   "cell_type": "code",
   "execution_count": null,
   "metadata": {
    "id": "z4tf9WFkZx4f"
   },
   "outputs": [],
   "source": [
    "bestloss = 'roc_auc_score' #@param {type:\"string\"}"
   ]
  },
  {
   "cell_type": "markdown",
   "metadata": {
    "id": "BuQIY-O7x5xD"
   },
   "source": [
    "**4)** Create at least 3 alternative neural networks that use a different activation function for the hidden layers (e.g., GELU, tanh, swish) using whichever package performed better on **2b**."
   ]
  },
  {
   "cell_type": "code",
   "execution_count": 220,
   "metadata": {
    "colab": {
     "base_uri": "https://localhost:8080/"
    },
    "id": "ILIIyeocwjGV",
    "outputId": "f8efa5b6-1b92-4764-8711-37cebdd1cd24"
   },
   "outputs": [
    {
     "name": "stdout",
     "output_type": "stream",
     "text": [
      "Epoch 1/200\n"
     ]
    },
    {
     "name": "stderr",
     "output_type": "stream",
     "text": [
      "/usr/local/lib/python3.7/dist-packages/tensorflow/python/util/dispatch.py:1082: UserWarning: \"`sparse_categorical_crossentropy` received `from_logits=True`, but the `output` argument was produced by a sigmoid or softmax activation and thus does not represent logits. Was this intended?\"\n",
      "  return dispatch_target(*args, **kwargs)\n"
     ]
    },
    {
     "name": "stdout",
     "output_type": "stream",
     "text": [
      "10/10 [==============================] - 0s 3ms/step - loss: 5.3190 - sparse_categorical_accuracy: 0.0000e+00\n",
      "Epoch 2/200\n",
      "10/10 [==============================] - 0s 3ms/step - loss: 2.6155 - sparse_categorical_accuracy: 0.2432\n",
      "Epoch 3/200\n",
      "10/10 [==============================] - 0s 4ms/step - loss: 1.3445 - sparse_categorical_accuracy: 0.5642\n",
      "Epoch 4/200\n",
      "10/10 [==============================] - 0s 3ms/step - loss: 0.9566 - sparse_categorical_accuracy: 0.6149\n",
      "Epoch 5/200\n",
      "10/10 [==============================] - 0s 3ms/step - loss: 0.7204 - sparse_categorical_accuracy: 0.6622\n",
      "Epoch 6/200\n",
      "10/10 [==============================] - 0s 3ms/step - loss: 0.5815 - sparse_categorical_accuracy: 0.7162\n",
      "Epoch 7/200\n",
      "10/10 [==============================] - 0s 3ms/step - loss: 0.4692 - sparse_categorical_accuracy: 0.7703\n",
      "Epoch 8/200\n",
      "10/10 [==============================] - 0s 3ms/step - loss: 0.3977 - sparse_categorical_accuracy: 0.8243\n",
      "Epoch 9/200\n",
      "10/10 [==============================] - 0s 3ms/step - loss: 0.3615 - sparse_categorical_accuracy: 0.8547\n",
      "Epoch 10/200\n",
      "10/10 [==============================] - 0s 3ms/step - loss: 0.3222 - sparse_categorical_accuracy: 0.8885\n",
      "Epoch 11/200\n",
      "10/10 [==============================] - 0s 3ms/step - loss: 0.3020 - sparse_categorical_accuracy: 0.8784\n",
      "Epoch 12/200\n",
      "10/10 [==============================] - 0s 3ms/step - loss: 0.2800 - sparse_categorical_accuracy: 0.9257\n",
      "Epoch 13/200\n",
      "10/10 [==============================] - 0s 3ms/step - loss: 0.2614 - sparse_categorical_accuracy: 0.9223\n",
      "Epoch 14/200\n",
      "10/10 [==============================] - 0s 3ms/step - loss: 0.2462 - sparse_categorical_accuracy: 0.9223\n",
      "Epoch 15/200\n",
      "10/10 [==============================] - 0s 3ms/step - loss: 0.2328 - sparse_categorical_accuracy: 0.9493\n",
      "Epoch 16/200\n",
      "10/10 [==============================] - 0s 3ms/step - loss: 0.2186 - sparse_categorical_accuracy: 0.9493\n",
      "Epoch 17/200\n",
      "10/10 [==============================] - 0s 3ms/step - loss: 0.2081 - sparse_categorical_accuracy: 0.9459\n",
      "Epoch 18/200\n",
      "10/10 [==============================] - 0s 3ms/step - loss: 0.2021 - sparse_categorical_accuracy: 0.9527\n",
      "Epoch 19/200\n",
      "10/10 [==============================] - 0s 2ms/step - loss: 0.1929 - sparse_categorical_accuracy: 0.9426\n",
      "Epoch 20/200\n",
      "10/10 [==============================] - 0s 2ms/step - loss: 0.1855 - sparse_categorical_accuracy: 0.9527\n",
      "Epoch 21/200\n",
      "10/10 [==============================] - 0s 2ms/step - loss: 0.1713 - sparse_categorical_accuracy: 0.9561\n",
      "Epoch 22/200\n",
      "10/10 [==============================] - 0s 3ms/step - loss: 0.1634 - sparse_categorical_accuracy: 0.9628\n",
      "Epoch 23/200\n",
      "10/10 [==============================] - 0s 3ms/step - loss: 0.1533 - sparse_categorical_accuracy: 0.9628\n",
      "Epoch 24/200\n",
      "10/10 [==============================] - 0s 2ms/step - loss: 0.1463 - sparse_categorical_accuracy: 0.9662\n",
      "Epoch 25/200\n",
      "10/10 [==============================] - 0s 2ms/step - loss: 0.1395 - sparse_categorical_accuracy: 0.9764\n",
      "Epoch 26/200\n",
      "10/10 [==============================] - 0s 2ms/step - loss: 0.1337 - sparse_categorical_accuracy: 0.9730\n",
      "Epoch 27/200\n",
      "10/10 [==============================] - 0s 2ms/step - loss: 0.1280 - sparse_categorical_accuracy: 0.9764\n",
      "Epoch 28/200\n",
      "10/10 [==============================] - 0s 2ms/step - loss: 0.1229 - sparse_categorical_accuracy: 0.9797\n",
      "Epoch 29/200\n",
      "10/10 [==============================] - 0s 2ms/step - loss: 0.1173 - sparse_categorical_accuracy: 0.9797\n",
      "Epoch 30/200\n",
      "10/10 [==============================] - 0s 2ms/step - loss: 0.1135 - sparse_categorical_accuracy: 0.9764\n",
      "Epoch 31/200\n",
      "10/10 [==============================] - 0s 2ms/step - loss: 0.1086 - sparse_categorical_accuracy: 0.9764\n",
      "Epoch 32/200\n",
      "10/10 [==============================] - 0s 2ms/step - loss: 0.1044 - sparse_categorical_accuracy: 0.9797\n",
      "Epoch 33/200\n",
      "10/10 [==============================] - 0s 3ms/step - loss: 0.1003 - sparse_categorical_accuracy: 0.9831\n",
      "Epoch 34/200\n",
      "10/10 [==============================] - 0s 3ms/step - loss: 0.0956 - sparse_categorical_accuracy: 0.9797\n",
      "Epoch 35/200\n",
      "10/10 [==============================] - 0s 3ms/step - loss: 0.0924 - sparse_categorical_accuracy: 0.9831\n",
      "Epoch 36/200\n",
      "10/10 [==============================] - 0s 3ms/step - loss: 0.0893 - sparse_categorical_accuracy: 0.9831\n",
      "Epoch 37/200\n",
      "10/10 [==============================] - 0s 3ms/step - loss: 0.0858 - sparse_categorical_accuracy: 0.9865\n",
      "Epoch 38/200\n",
      "10/10 [==============================] - 0s 3ms/step - loss: 0.0825 - sparse_categorical_accuracy: 0.9865\n",
      "Epoch 39/200\n",
      "10/10 [==============================] - 0s 2ms/step - loss: 0.0802 - sparse_categorical_accuracy: 0.9899\n",
      "Epoch 40/200\n",
      "10/10 [==============================] - 0s 2ms/step - loss: 0.0760 - sparse_categorical_accuracy: 0.9932\n",
      "Epoch 41/200\n",
      "10/10 [==============================] - 0s 2ms/step - loss: 0.0748 - sparse_categorical_accuracy: 0.9899\n",
      "Epoch 42/200\n",
      "10/10 [==============================] - 0s 3ms/step - loss: 0.0723 - sparse_categorical_accuracy: 0.9932\n",
      "Epoch 43/200\n",
      "10/10 [==============================] - 0s 3ms/step - loss: 0.0682 - sparse_categorical_accuracy: 0.9865\n",
      "Epoch 44/200\n",
      "10/10 [==============================] - 0s 2ms/step - loss: 0.0672 - sparse_categorical_accuracy: 0.9899\n",
      "Epoch 45/200\n",
      "10/10 [==============================] - 0s 3ms/step - loss: 0.0645 - sparse_categorical_accuracy: 0.9932\n",
      "Epoch 46/200\n",
      "10/10 [==============================] - 0s 2ms/step - loss: 0.0624 - sparse_categorical_accuracy: 0.9899\n",
      "Epoch 47/200\n",
      "10/10 [==============================] - 0s 2ms/step - loss: 0.0600 - sparse_categorical_accuracy: 0.9932\n",
      "Epoch 48/200\n",
      "10/10 [==============================] - 0s 2ms/step - loss: 0.0582 - sparse_categorical_accuracy: 0.9966\n",
      "Epoch 49/200\n",
      "10/10 [==============================] - 0s 3ms/step - loss: 0.0563 - sparse_categorical_accuracy: 0.9899\n",
      "Epoch 50/200\n",
      "10/10 [==============================] - 0s 3ms/step - loss: 0.0541 - sparse_categorical_accuracy: 0.9966\n",
      "Epoch 51/200\n",
      "10/10 [==============================] - 0s 3ms/step - loss: 0.0546 - sparse_categorical_accuracy: 0.9932\n",
      "Epoch 52/200\n",
      "10/10 [==============================] - 0s 3ms/step - loss: 0.0508 - sparse_categorical_accuracy: 0.9966\n",
      "Epoch 53/200\n",
      "10/10 [==============================] - 0s 4ms/step - loss: 0.0494 - sparse_categorical_accuracy: 0.9932\n",
      "Epoch 54/200\n",
      "10/10 [==============================] - 0s 3ms/step - loss: 0.0492 - sparse_categorical_accuracy: 0.9932\n",
      "Epoch 55/200\n",
      "10/10 [==============================] - 0s 3ms/step - loss: 0.0473 - sparse_categorical_accuracy: 0.9966\n",
      "Epoch 56/200\n",
      "10/10 [==============================] - 0s 3ms/step - loss: 0.0455 - sparse_categorical_accuracy: 0.9966\n",
      "Epoch 57/200\n",
      "10/10 [==============================] - 0s 3ms/step - loss: 0.0430 - sparse_categorical_accuracy: 0.9966\n",
      "Epoch 58/200\n",
      "10/10 [==============================] - 0s 3ms/step - loss: 0.0415 - sparse_categorical_accuracy: 0.9966\n",
      "Epoch 59/200\n",
      "10/10 [==============================] - 0s 3ms/step - loss: 0.0414 - sparse_categorical_accuracy: 1.0000\n",
      "Epoch 60/200\n",
      "10/10 [==============================] - 0s 3ms/step - loss: 0.0396 - sparse_categorical_accuracy: 0.9966\n",
      "Epoch 61/200\n",
      "10/10 [==============================] - 0s 3ms/step - loss: 0.0395 - sparse_categorical_accuracy: 0.9966\n",
      "Epoch 62/200\n",
      "10/10 [==============================] - 0s 3ms/step - loss: 0.0373 - sparse_categorical_accuracy: 1.0000\n",
      "Epoch 63/200\n",
      "10/10 [==============================] - 0s 2ms/step - loss: 0.0364 - sparse_categorical_accuracy: 1.0000\n",
      "Epoch 64/200\n",
      "10/10 [==============================] - 0s 3ms/step - loss: 0.0347 - sparse_categorical_accuracy: 1.0000\n",
      "Epoch 65/200\n",
      "10/10 [==============================] - 0s 2ms/step - loss: 0.0340 - sparse_categorical_accuracy: 0.9966\n",
      "Epoch 66/200\n",
      "10/10 [==============================] - 0s 3ms/step - loss: 0.0335 - sparse_categorical_accuracy: 0.9966\n",
      "Epoch 67/200\n",
      "10/10 [==============================] - 0s 3ms/step - loss: 0.0333 - sparse_categorical_accuracy: 0.9966\n",
      "Epoch 68/200\n",
      "10/10 [==============================] - 0s 3ms/step - loss: 0.0321 - sparse_categorical_accuracy: 1.0000\n",
      "Epoch 69/200\n",
      "10/10 [==============================] - 0s 3ms/step - loss: 0.0306 - sparse_categorical_accuracy: 0.9966\n",
      "Epoch 70/200\n",
      "10/10 [==============================] - 0s 3ms/step - loss: 0.0322 - sparse_categorical_accuracy: 0.9966\n",
      "Epoch 71/200\n",
      "10/10 [==============================] - 0s 3ms/step - loss: 0.0303 - sparse_categorical_accuracy: 0.9966\n",
      "Epoch 72/200\n",
      "10/10 [==============================] - 0s 2ms/step - loss: 0.0286 - sparse_categorical_accuracy: 0.9966\n",
      "Epoch 73/200\n",
      "10/10 [==============================] - 0s 3ms/step - loss: 0.0270 - sparse_categorical_accuracy: 1.0000\n",
      "Epoch 74/200\n",
      "10/10 [==============================] - 0s 3ms/step - loss: 0.0263 - sparse_categorical_accuracy: 1.0000\n",
      "Epoch 75/200\n",
      "10/10 [==============================] - 0s 2ms/step - loss: 0.0262 - sparse_categorical_accuracy: 1.0000\n",
      "Epoch 76/200\n",
      "10/10 [==============================] - 0s 3ms/step - loss: 0.0249 - sparse_categorical_accuracy: 1.0000\n",
      "Epoch 77/200\n",
      "10/10 [==============================] - 0s 3ms/step - loss: 0.0241 - sparse_categorical_accuracy: 1.0000\n",
      "Epoch 78/200\n",
      "10/10 [==============================] - 0s 3ms/step - loss: 0.0236 - sparse_categorical_accuracy: 1.0000\n",
      "Epoch 79/200\n",
      "10/10 [==============================] - 0s 3ms/step - loss: 0.0230 - sparse_categorical_accuracy: 1.0000\n",
      "Epoch 80/200\n",
      "10/10 [==============================] - 0s 3ms/step - loss: 0.0226 - sparse_categorical_accuracy: 1.0000\n",
      "Epoch 81/200\n",
      "10/10 [==============================] - 0s 3ms/step - loss: 0.0221 - sparse_categorical_accuracy: 1.0000\n",
      "Epoch 82/200\n",
      "10/10 [==============================] - 0s 3ms/step - loss: 0.0215 - sparse_categorical_accuracy: 1.0000\n",
      "Epoch 83/200\n",
      "10/10 [==============================] - 0s 2ms/step - loss: 0.0211 - sparse_categorical_accuracy: 1.0000\n",
      "Epoch 84/200\n",
      "10/10 [==============================] - 0s 2ms/step - loss: 0.0202 - sparse_categorical_accuracy: 1.0000\n",
      "Epoch 85/200\n",
      "10/10 [==============================] - 0s 2ms/step - loss: 0.0200 - sparse_categorical_accuracy: 1.0000\n",
      "Epoch 86/200\n",
      "10/10 [==============================] - 0s 2ms/step - loss: 0.0194 - sparse_categorical_accuracy: 1.0000\n",
      "Epoch 87/200\n",
      "10/10 [==============================] - 0s 3ms/step - loss: 0.0193 - sparse_categorical_accuracy: 1.0000\n",
      "Epoch 88/200\n",
      "10/10 [==============================] - 0s 3ms/step - loss: 0.0193 - sparse_categorical_accuracy: 1.0000\n",
      "Epoch 89/200\n",
      "10/10 [==============================] - 0s 2ms/step - loss: 0.0181 - sparse_categorical_accuracy: 1.0000\n",
      "Epoch 90/200\n",
      "10/10 [==============================] - 0s 2ms/step - loss: 0.0179 - sparse_categorical_accuracy: 1.0000\n",
      "Epoch 91/200\n",
      "10/10 [==============================] - 0s 4ms/step - loss: 0.0172 - sparse_categorical_accuracy: 1.0000\n",
      "Epoch 92/200\n",
      "10/10 [==============================] - 0s 3ms/step - loss: 0.0171 - sparse_categorical_accuracy: 1.0000\n",
      "Epoch 93/200\n",
      "10/10 [==============================] - 0s 3ms/step - loss: 0.0166 - sparse_categorical_accuracy: 1.0000\n",
      "Epoch 94/200\n",
      "10/10 [==============================] - 0s 3ms/step - loss: 0.0171 - sparse_categorical_accuracy: 1.0000\n",
      "Epoch 95/200\n",
      "10/10 [==============================] - 0s 3ms/step - loss: 0.0158 - sparse_categorical_accuracy: 1.0000\n",
      "Epoch 96/200\n",
      "10/10 [==============================] - 0s 3ms/step - loss: 0.0159 - sparse_categorical_accuracy: 1.0000\n",
      "Epoch 97/200\n",
      "10/10 [==============================] - 0s 2ms/step - loss: 0.0151 - sparse_categorical_accuracy: 1.0000\n",
      "Epoch 98/200\n",
      "10/10 [==============================] - 0s 3ms/step - loss: 0.0150 - sparse_categorical_accuracy: 1.0000\n",
      "Epoch 99/200\n",
      "10/10 [==============================] - 0s 2ms/step - loss: 0.0145 - sparse_categorical_accuracy: 1.0000\n",
      "Epoch 100/200\n",
      "10/10 [==============================] - 0s 3ms/step - loss: 0.0141 - sparse_categorical_accuracy: 1.0000\n",
      "Epoch 101/200\n",
      "10/10 [==============================] - 0s 3ms/step - loss: 0.0139 - sparse_categorical_accuracy: 1.0000\n",
      "Epoch 102/200\n",
      "10/10 [==============================] - 0s 3ms/step - loss: 0.0134 - sparse_categorical_accuracy: 1.0000\n",
      "Epoch 103/200\n",
      "10/10 [==============================] - 0s 3ms/step - loss: 0.0133 - sparse_categorical_accuracy: 1.0000\n",
      "Epoch 104/200\n",
      "10/10 [==============================] - 0s 3ms/step - loss: 0.0128 - sparse_categorical_accuracy: 1.0000\n",
      "Epoch 105/200\n",
      "10/10 [==============================] - 0s 3ms/step - loss: 0.0127 - sparse_categorical_accuracy: 1.0000\n",
      "Epoch 106/200\n",
      "10/10 [==============================] - 0s 3ms/step - loss: 0.0123 - sparse_categorical_accuracy: 1.0000\n",
      "Epoch 107/200\n",
      "10/10 [==============================] - 0s 3ms/step - loss: 0.0122 - sparse_categorical_accuracy: 1.0000\n",
      "Epoch 108/200\n",
      "10/10 [==============================] - 0s 3ms/step - loss: 0.0118 - sparse_categorical_accuracy: 1.0000\n",
      "Epoch 109/200\n",
      "10/10 [==============================] - 0s 3ms/step - loss: 0.0120 - sparse_categorical_accuracy: 1.0000\n",
      "Epoch 110/200\n",
      "10/10 [==============================] - 0s 4ms/step - loss: 0.0114 - sparse_categorical_accuracy: 1.0000\n",
      "Epoch 111/200\n",
      "10/10 [==============================] - 0s 4ms/step - loss: 0.0112 - sparse_categorical_accuracy: 1.0000\n",
      "Epoch 112/200\n",
      "10/10 [==============================] - 0s 3ms/step - loss: 0.0109 - sparse_categorical_accuracy: 1.0000\n",
      "Epoch 113/200\n",
      "10/10 [==============================] - 0s 3ms/step - loss: 0.0109 - sparse_categorical_accuracy: 1.0000\n",
      "Epoch 114/200\n",
      "10/10 [==============================] - 0s 3ms/step - loss: 0.0107 - sparse_categorical_accuracy: 1.0000\n",
      "Epoch 115/200\n",
      "10/10 [==============================] - 0s 3ms/step - loss: 0.0105 - sparse_categorical_accuracy: 1.0000\n",
      "Epoch 116/200\n",
      "10/10 [==============================] - 0s 3ms/step - loss: 0.0102 - sparse_categorical_accuracy: 1.0000\n",
      "Epoch 117/200\n",
      "10/10 [==============================] - 0s 3ms/step - loss: 0.0101 - sparse_categorical_accuracy: 1.0000\n",
      "Epoch 118/200\n",
      "10/10 [==============================] - 0s 3ms/step - loss: 0.0098 - sparse_categorical_accuracy: 1.0000\n",
      "Epoch 119/200\n",
      "10/10 [==============================] - 0s 3ms/step - loss: 0.0096 - sparse_categorical_accuracy: 1.0000\n",
      "Epoch 120/200\n",
      "10/10 [==============================] - 0s 3ms/step - loss: 0.0094 - sparse_categorical_accuracy: 1.0000\n",
      "Epoch 121/200\n",
      "10/10 [==============================] - 0s 3ms/step - loss: 0.0093 - sparse_categorical_accuracy: 1.0000\n",
      "Epoch 122/200\n",
      "10/10 [==============================] - 0s 3ms/step - loss: 0.0091 - sparse_categorical_accuracy: 1.0000\n",
      "Epoch 123/200\n",
      "10/10 [==============================] - 0s 3ms/step - loss: 0.0089 - sparse_categorical_accuracy: 1.0000\n",
      "Epoch 124/200\n",
      "10/10 [==============================] - 0s 3ms/step - loss: 0.0089 - sparse_categorical_accuracy: 1.0000\n",
      "Epoch 125/200\n",
      "10/10 [==============================] - 0s 3ms/step - loss: 0.0090 - sparse_categorical_accuracy: 1.0000\n",
      "Epoch 126/200\n",
      "10/10 [==============================] - 0s 3ms/step - loss: 0.0083 - sparse_categorical_accuracy: 1.0000\n",
      "Epoch 127/200\n",
      "10/10 [==============================] - 0s 3ms/step - loss: 0.0084 - sparse_categorical_accuracy: 1.0000\n",
      "Epoch 128/200\n",
      "10/10 [==============================] - 0s 3ms/step - loss: 0.0082 - sparse_categorical_accuracy: 1.0000\n",
      "Epoch 129/200\n",
      "10/10 [==============================] - 0s 3ms/step - loss: 0.0081 - sparse_categorical_accuracy: 1.0000\n",
      "Epoch 130/200\n",
      "10/10 [==============================] - 0s 3ms/step - loss: 0.0078 - sparse_categorical_accuracy: 1.0000\n",
      "Epoch 131/200\n",
      "10/10 [==============================] - 0s 3ms/step - loss: 0.0077 - sparse_categorical_accuracy: 1.0000\n",
      "Epoch 132/200\n",
      "10/10 [==============================] - 0s 3ms/step - loss: 0.0077 - sparse_categorical_accuracy: 1.0000\n",
      "Epoch 133/200\n",
      "10/10 [==============================] - 0s 3ms/step - loss: 0.0074 - sparse_categorical_accuracy: 1.0000\n",
      "Epoch 134/200\n",
      "10/10 [==============================] - 0s 3ms/step - loss: 0.0074 - sparse_categorical_accuracy: 1.0000\n",
      "Epoch 135/200\n",
      "10/10 [==============================] - 0s 3ms/step - loss: 0.0073 - sparse_categorical_accuracy: 1.0000\n",
      "Epoch 136/200\n",
      "10/10 [==============================] - 0s 3ms/step - loss: 0.0072 - sparse_categorical_accuracy: 1.0000\n",
      "Epoch 137/200\n",
      "10/10 [==============================] - 0s 3ms/step - loss: 0.0070 - sparse_categorical_accuracy: 1.0000\n",
      "Epoch 138/200\n",
      "10/10 [==============================] - 0s 3ms/step - loss: 0.0069 - sparse_categorical_accuracy: 1.0000\n",
      "Epoch 139/200\n",
      "10/10 [==============================] - 0s 4ms/step - loss: 0.0067 - sparse_categorical_accuracy: 1.0000\n",
      "Epoch 140/200\n",
      "10/10 [==============================] - 0s 3ms/step - loss: 0.0066 - sparse_categorical_accuracy: 1.0000\n",
      "Epoch 141/200\n",
      "10/10 [==============================] - 0s 3ms/step - loss: 0.0066 - sparse_categorical_accuracy: 1.0000\n",
      "Epoch 142/200\n",
      "10/10 [==============================] - 0s 3ms/step - loss: 0.0064 - sparse_categorical_accuracy: 1.0000\n",
      "Epoch 143/200\n",
      "10/10 [==============================] - 0s 3ms/step - loss: 0.0063 - sparse_categorical_accuracy: 1.0000\n",
      "Epoch 144/200\n",
      "10/10 [==============================] - 0s 3ms/step - loss: 0.0064 - sparse_categorical_accuracy: 1.0000\n",
      "Epoch 145/200\n",
      "10/10 [==============================] - 0s 3ms/step - loss: 0.0062 - sparse_categorical_accuracy: 1.0000\n",
      "Epoch 146/200\n",
      "10/10 [==============================] - 0s 3ms/step - loss: 0.0060 - sparse_categorical_accuracy: 1.0000\n",
      "Epoch 147/200\n",
      "10/10 [==============================] - 0s 3ms/step - loss: 0.0059 - sparse_categorical_accuracy: 1.0000\n",
      "Epoch 148/200\n",
      "10/10 [==============================] - 0s 3ms/step - loss: 0.0058 - sparse_categorical_accuracy: 1.0000\n",
      "Epoch 149/200\n",
      "10/10 [==============================] - 0s 3ms/step - loss: 0.0058 - sparse_categorical_accuracy: 1.0000\n",
      "Epoch 150/200\n",
      "10/10 [==============================] - 0s 3ms/step - loss: 0.0057 - sparse_categorical_accuracy: 1.0000\n",
      "Epoch 151/200\n",
      "10/10 [==============================] - 0s 3ms/step - loss: 0.0056 - sparse_categorical_accuracy: 1.0000\n",
      "Epoch 152/200\n",
      "10/10 [==============================] - 0s 3ms/step - loss: 0.0055 - sparse_categorical_accuracy: 1.0000\n",
      "Epoch 153/200\n",
      "10/10 [==============================] - 0s 3ms/step - loss: 0.0055 - sparse_categorical_accuracy: 1.0000\n",
      "Epoch 154/200\n",
      "10/10 [==============================] - 0s 2ms/step - loss: 0.0055 - sparse_categorical_accuracy: 1.0000\n",
      "Epoch 155/200\n",
      "10/10 [==============================] - 0s 3ms/step - loss: 0.0053 - sparse_categorical_accuracy: 1.0000\n",
      "Epoch 156/200\n",
      "10/10 [==============================] - 0s 3ms/step - loss: 0.0052 - sparse_categorical_accuracy: 1.0000\n",
      "Epoch 157/200\n",
      "10/10 [==============================] - 0s 3ms/step - loss: 0.0051 - sparse_categorical_accuracy: 1.0000\n",
      "Epoch 158/200\n",
      "10/10 [==============================] - 0s 3ms/step - loss: 0.0050 - sparse_categorical_accuracy: 1.0000\n",
      "Epoch 159/200\n",
      "10/10 [==============================] - 0s 3ms/step - loss: 0.0050 - sparse_categorical_accuracy: 1.0000\n",
      "Epoch 160/200\n",
      "10/10 [==============================] - 0s 3ms/step - loss: 0.0049 - sparse_categorical_accuracy: 1.0000\n",
      "Epoch 161/200\n",
      "10/10 [==============================] - 0s 3ms/step - loss: 0.0048 - sparse_categorical_accuracy: 1.0000\n",
      "Epoch 162/200\n",
      "10/10 [==============================] - 0s 3ms/step - loss: 0.0048 - sparse_categorical_accuracy: 1.0000\n",
      "Epoch 163/200\n",
      "10/10 [==============================] - 0s 3ms/step - loss: 0.0046 - sparse_categorical_accuracy: 1.0000\n",
      "Epoch 164/200\n",
      "10/10 [==============================] - 0s 3ms/step - loss: 0.0046 - sparse_categorical_accuracy: 1.0000\n",
      "Epoch 165/200\n",
      "10/10 [==============================] - 0s 3ms/step - loss: 0.0048 - sparse_categorical_accuracy: 1.0000\n",
      "Epoch 166/200\n",
      "10/10 [==============================] - 0s 3ms/step - loss: 0.0045 - sparse_categorical_accuracy: 1.0000\n",
      "Epoch 167/200\n",
      "10/10 [==============================] - 0s 3ms/step - loss: 0.0044 - sparse_categorical_accuracy: 1.0000\n",
      "Epoch 168/200\n",
      "10/10 [==============================] - 0s 3ms/step - loss: 0.0043 - sparse_categorical_accuracy: 1.0000\n",
      "Epoch 169/200\n",
      "10/10 [==============================] - 0s 3ms/step - loss: 0.0043 - sparse_categorical_accuracy: 1.0000\n",
      "Epoch 170/200\n",
      "10/10 [==============================] - 0s 3ms/step - loss: 0.0042 - sparse_categorical_accuracy: 1.0000\n",
      "Epoch 171/200\n",
      "10/10 [==============================] - 0s 3ms/step - loss: 0.0041 - sparse_categorical_accuracy: 1.0000\n",
      "Epoch 172/200\n",
      "10/10 [==============================] - 0s 3ms/step - loss: 0.0041 - sparse_categorical_accuracy: 1.0000\n",
      "Epoch 173/200\n",
      "10/10 [==============================] - 0s 3ms/step - loss: 0.0040 - sparse_categorical_accuracy: 1.0000\n",
      "Epoch 174/200\n",
      "10/10 [==============================] - 0s 3ms/step - loss: 0.0040 - sparse_categorical_accuracy: 1.0000\n",
      "Epoch 175/200\n",
      "10/10 [==============================] - 0s 3ms/step - loss: 0.0040 - sparse_categorical_accuracy: 1.0000\n",
      "Epoch 176/200\n",
      "10/10 [==============================] - 0s 3ms/step - loss: 0.0038 - sparse_categorical_accuracy: 1.0000\n",
      "Epoch 177/200\n",
      "10/10 [==============================] - 0s 3ms/step - loss: 0.0039 - sparse_categorical_accuracy: 1.0000\n",
      "Epoch 178/200\n",
      "10/10 [==============================] - 0s 3ms/step - loss: 0.0038 - sparse_categorical_accuracy: 1.0000\n",
      "Epoch 179/200\n",
      "10/10 [==============================] - 0s 3ms/step - loss: 0.0038 - sparse_categorical_accuracy: 1.0000\n",
      "Epoch 180/200\n",
      "10/10 [==============================] - 0s 3ms/step - loss: 0.0037 - sparse_categorical_accuracy: 1.0000\n",
      "Epoch 181/200\n",
      "10/10 [==============================] - 0s 3ms/step - loss: 0.0036 - sparse_categorical_accuracy: 1.0000\n",
      "Epoch 182/200\n",
      "10/10 [==============================] - 0s 3ms/step - loss: 0.0035 - sparse_categorical_accuracy: 1.0000\n",
      "Epoch 183/200\n",
      "10/10 [==============================] - 0s 3ms/step - loss: 0.0035 - sparse_categorical_accuracy: 1.0000\n",
      "Epoch 184/200\n",
      "10/10 [==============================] - 0s 3ms/step - loss: 0.0034 - sparse_categorical_accuracy: 1.0000\n",
      "Epoch 185/200\n",
      "10/10 [==============================] - 0s 3ms/step - loss: 0.0034 - sparse_categorical_accuracy: 1.0000\n",
      "Epoch 186/200\n",
      "10/10 [==============================] - 0s 3ms/step - loss: 0.0033 - sparse_categorical_accuracy: 1.0000\n",
      "Epoch 187/200\n",
      "10/10 [==============================] - 0s 3ms/step - loss: 0.0033 - sparse_categorical_accuracy: 1.0000\n",
      "Epoch 188/200\n",
      "10/10 [==============================] - 0s 3ms/step - loss: 0.0032 - sparse_categorical_accuracy: 1.0000\n",
      "Epoch 189/200\n",
      "10/10 [==============================] - 0s 3ms/step - loss: 0.0032 - sparse_categorical_accuracy: 1.0000\n",
      "Epoch 190/200\n",
      "10/10 [==============================] - 0s 3ms/step - loss: 0.0032 - sparse_categorical_accuracy: 1.0000\n",
      "Epoch 191/200\n",
      "10/10 [==============================] - 0s 3ms/step - loss: 0.0031 - sparse_categorical_accuracy: 1.0000\n",
      "Epoch 192/200\n",
      "10/10 [==============================] - 0s 3ms/step - loss: 0.0032 - sparse_categorical_accuracy: 1.0000\n",
      "Epoch 193/200\n",
      "10/10 [==============================] - 0s 3ms/step - loss: 0.0031 - sparse_categorical_accuracy: 1.0000\n",
      "Epoch 194/200\n",
      "10/10 [==============================] - 0s 4ms/step - loss: 0.0030 - sparse_categorical_accuracy: 1.0000\n",
      "Epoch 195/200\n",
      "10/10 [==============================] - 0s 3ms/step - loss: 0.0030 - sparse_categorical_accuracy: 1.0000\n",
      "Epoch 196/200\n",
      "10/10 [==============================] - 0s 3ms/step - loss: 0.0029 - sparse_categorical_accuracy: 1.0000\n",
      "Epoch 197/200\n",
      "10/10 [==============================] - 0s 3ms/step - loss: 0.0029 - sparse_categorical_accuracy: 1.0000\n",
      "Epoch 198/200\n",
      "10/10 [==============================] - 0s 3ms/step - loss: 0.0028 - sparse_categorical_accuracy: 1.0000\n",
      "Epoch 199/200\n",
      "10/10 [==============================] - 0s 3ms/step - loss: 0.0028 - sparse_categorical_accuracy: 1.0000\n",
      "Epoch 200/200\n",
      "10/10 [==============================] - 0s 3ms/step - loss: 0.0028 - sparse_categorical_accuracy: 1.0000\n"
     ]
    }
   ],
   "source": [
    "model = Sequential()\n",
    "model.add(Dense(50, input_dim=10, activation='gelu'))\n",
    "model.add(Dense(10, activation='softmax'))\n",
    "model.compile(loss=keras.losses.SparseCategoricalCrossentropy(from_logits=True), metrics=keras.metrics.SparseCategoricalAccuracy(), optimizer=\"adam\")\n",
    "history = model.fit(X_train, y_train, epochs=200)\n"
   ]
  },
  {
   "cell_type": "code",
   "execution_count": 221,
   "metadata": {
    "colab": {
     "base_uri": "https://localhost:8080/"
    },
    "id": "1_0Yp0mLMd7k",
    "outputId": "ec49e34f-c624-414f-af41-f24fbaddbe08"
   },
   "outputs": [
    {
     "data": {
      "text/plain": [
       "0.9924812030075187"
      ]
     },
     "execution_count": 221,
     "metadata": {},
     "output_type": "execute_result"
    }
   ],
   "source": [
    "preds = model.predict(X_test)\n",
    "y_classes = preds.argmax(axis=-1)\n",
    "sklearn.metrics.f1_score(y_test, y_classes)\n"
   ]
  },
  {
   "cell_type": "code",
   "execution_count": 222,
   "metadata": {
    "colab": {
     "base_uri": "https://localhost:8080/"
    },
    "id": "hte-kJ_-MVUI",
    "outputId": "2bb22b97-3f49-480e-ef3e-ce1ff4e1deac"
   },
   "outputs": [
    {
     "name": "stdout",
     "output_type": "stream",
     "text": [
      "Epoch 1/200\n"
     ]
    },
    {
     "name": "stderr",
     "output_type": "stream",
     "text": [
      "/usr/local/lib/python3.7/dist-packages/tensorflow/python/util/dispatch.py:1082: UserWarning: \"`sparse_categorical_crossentropy` received `from_logits=True`, but the `output` argument was produced by a sigmoid or softmax activation and thus does not represent logits. Was this intended?\"\n",
      "  return dispatch_target(*args, **kwargs)\n"
     ]
    },
    {
     "name": "stdout",
     "output_type": "stream",
     "text": [
      "10/10 [==============================] - 0s 2ms/step - loss: 1.6864 - sparse_categorical_accuracy: 0.2736\n",
      "Epoch 2/200\n",
      "10/10 [==============================] - 0s 3ms/step - loss: 1.1755 - sparse_categorical_accuracy: 0.3953\n",
      "Epoch 3/200\n",
      "10/10 [==============================] - 0s 3ms/step - loss: 0.8721 - sparse_categorical_accuracy: 0.6284\n",
      "Epoch 4/200\n",
      "10/10 [==============================] - 0s 2ms/step - loss: 0.7123 - sparse_categorical_accuracy: 0.7061\n",
      "Epoch 5/200\n",
      "10/10 [==============================] - 0s 2ms/step - loss: 0.6009 - sparse_categorical_accuracy: 0.7466\n",
      "Epoch 6/200\n",
      "10/10 [==============================] - 0s 2ms/step - loss: 0.5046 - sparse_categorical_accuracy: 0.8176\n",
      "Epoch 7/200\n",
      "10/10 [==============================] - 0s 3ms/step - loss: 0.4319 - sparse_categorical_accuracy: 0.8547\n",
      "Epoch 8/200\n",
      "10/10 [==============================] - 0s 2ms/step - loss: 0.3849 - sparse_categorical_accuracy: 0.8750\n",
      "Epoch 9/200\n",
      "10/10 [==============================] - 0s 2ms/step - loss: 0.3583 - sparse_categorical_accuracy: 0.8953\n",
      "Epoch 10/200\n",
      "10/10 [==============================] - 0s 2ms/step - loss: 0.3307 - sparse_categorical_accuracy: 0.9155\n",
      "Epoch 11/200\n",
      "10/10 [==============================] - 0s 3ms/step - loss: 0.3083 - sparse_categorical_accuracy: 0.9189\n",
      "Epoch 12/200\n",
      "10/10 [==============================] - 0s 2ms/step - loss: 0.2892 - sparse_categorical_accuracy: 0.9358\n",
      "Epoch 13/200\n",
      "10/10 [==============================] - 0s 2ms/step - loss: 0.2713 - sparse_categorical_accuracy: 0.9324\n",
      "Epoch 14/200\n",
      "10/10 [==============================] - 0s 2ms/step - loss: 0.2520 - sparse_categorical_accuracy: 0.9527\n",
      "Epoch 15/200\n",
      "10/10 [==============================] - 0s 2ms/step - loss: 0.2341 - sparse_categorical_accuracy: 0.9493\n",
      "Epoch 16/200\n",
      "10/10 [==============================] - 0s 2ms/step - loss: 0.2179 - sparse_categorical_accuracy: 0.9628\n",
      "Epoch 17/200\n",
      "10/10 [==============================] - 0s 2ms/step - loss: 0.2032 - sparse_categorical_accuracy: 0.9696\n",
      "Epoch 18/200\n",
      "10/10 [==============================] - 0s 3ms/step - loss: 0.1884 - sparse_categorical_accuracy: 0.9730\n",
      "Epoch 19/200\n",
      "10/10 [==============================] - 0s 2ms/step - loss: 0.1770 - sparse_categorical_accuracy: 0.9797\n",
      "Epoch 20/200\n",
      "10/10 [==============================] - 0s 2ms/step - loss: 0.1682 - sparse_categorical_accuracy: 0.9696\n",
      "Epoch 21/200\n",
      "10/10 [==============================] - 0s 2ms/step - loss: 0.1571 - sparse_categorical_accuracy: 0.9831\n",
      "Epoch 22/200\n",
      "10/10 [==============================] - 0s 3ms/step - loss: 0.1477 - sparse_categorical_accuracy: 0.9797\n",
      "Epoch 23/200\n",
      "10/10 [==============================] - 0s 2ms/step - loss: 0.1377 - sparse_categorical_accuracy: 0.9797\n",
      "Epoch 24/200\n",
      "10/10 [==============================] - 0s 2ms/step - loss: 0.1302 - sparse_categorical_accuracy: 0.9899\n",
      "Epoch 25/200\n",
      "10/10 [==============================] - 0s 2ms/step - loss: 0.1233 - sparse_categorical_accuracy: 0.9899\n",
      "Epoch 26/200\n",
      "10/10 [==============================] - 0s 3ms/step - loss: 0.1179 - sparse_categorical_accuracy: 0.9797\n",
      "Epoch 27/200\n",
      "10/10 [==============================] - 0s 2ms/step - loss: 0.1114 - sparse_categorical_accuracy: 0.9899\n",
      "Epoch 28/200\n",
      "10/10 [==============================] - 0s 2ms/step - loss: 0.1053 - sparse_categorical_accuracy: 0.9865\n",
      "Epoch 29/200\n",
      "10/10 [==============================] - 0s 2ms/step - loss: 0.1000 - sparse_categorical_accuracy: 0.9899\n",
      "Epoch 30/200\n",
      "10/10 [==============================] - 0s 2ms/step - loss: 0.0954 - sparse_categorical_accuracy: 0.9899\n",
      "Epoch 31/200\n",
      "10/10 [==============================] - 0s 2ms/step - loss: 0.0910 - sparse_categorical_accuracy: 0.9966\n",
      "Epoch 32/200\n",
      "10/10 [==============================] - 0s 2ms/step - loss: 0.0858 - sparse_categorical_accuracy: 0.9932\n",
      "Epoch 33/200\n",
      "10/10 [==============================] - 0s 3ms/step - loss: 0.0830 - sparse_categorical_accuracy: 0.9966\n",
      "Epoch 34/200\n",
      "10/10 [==============================] - 0s 2ms/step - loss: 0.0784 - sparse_categorical_accuracy: 0.9932\n",
      "Epoch 35/200\n",
      "10/10 [==============================] - 0s 3ms/step - loss: 0.0762 - sparse_categorical_accuracy: 0.9932\n",
      "Epoch 36/200\n",
      "10/10 [==============================] - 0s 3ms/step - loss: 0.0715 - sparse_categorical_accuracy: 0.9966\n",
      "Epoch 37/200\n",
      "10/10 [==============================] - 0s 3ms/step - loss: 0.0708 - sparse_categorical_accuracy: 0.9966\n",
      "Epoch 38/200\n",
      "10/10 [==============================] - 0s 3ms/step - loss: 0.0658 - sparse_categorical_accuracy: 1.0000\n",
      "Epoch 39/200\n",
      "10/10 [==============================] - 0s 3ms/step - loss: 0.0631 - sparse_categorical_accuracy: 0.9966\n",
      "Epoch 40/200\n",
      "10/10 [==============================] - 0s 3ms/step - loss: 0.0621 - sparse_categorical_accuracy: 0.9966\n",
      "Epoch 41/200\n",
      "10/10 [==============================] - 0s 3ms/step - loss: 0.0582 - sparse_categorical_accuracy: 1.0000\n",
      "Epoch 42/200\n",
      "10/10 [==============================] - 0s 3ms/step - loss: 0.0568 - sparse_categorical_accuracy: 0.9966\n",
      "Epoch 43/200\n",
      "10/10 [==============================] - 0s 3ms/step - loss: 0.0545 - sparse_categorical_accuracy: 0.9966\n",
      "Epoch 44/200\n",
      "10/10 [==============================] - 0s 3ms/step - loss: 0.0523 - sparse_categorical_accuracy: 0.9966\n",
      "Epoch 45/200\n",
      "10/10 [==============================] - 0s 3ms/step - loss: 0.0506 - sparse_categorical_accuracy: 0.9966\n",
      "Epoch 46/200\n",
      "10/10 [==============================] - 0s 3ms/step - loss: 0.0505 - sparse_categorical_accuracy: 1.0000\n",
      "Epoch 47/200\n",
      "10/10 [==============================] - 0s 2ms/step - loss: 0.0468 - sparse_categorical_accuracy: 1.0000\n",
      "Epoch 48/200\n",
      "10/10 [==============================] - 0s 2ms/step - loss: 0.0455 - sparse_categorical_accuracy: 1.0000\n",
      "Epoch 49/200\n",
      "10/10 [==============================] - 0s 2ms/step - loss: 0.0444 - sparse_categorical_accuracy: 1.0000\n",
      "Epoch 50/200\n",
      "10/10 [==============================] - 0s 2ms/step - loss: 0.0419 - sparse_categorical_accuracy: 0.9966\n",
      "Epoch 51/200\n",
      "10/10 [==============================] - 0s 3ms/step - loss: 0.0426 - sparse_categorical_accuracy: 0.9966\n",
      "Epoch 52/200\n",
      "10/10 [==============================] - 0s 3ms/step - loss: 0.0394 - sparse_categorical_accuracy: 1.0000\n",
      "Epoch 53/200\n",
      "10/10 [==============================] - 0s 2ms/step - loss: 0.0379 - sparse_categorical_accuracy: 1.0000\n",
      "Epoch 54/200\n",
      "10/10 [==============================] - 0s 2ms/step - loss: 0.0372 - sparse_categorical_accuracy: 1.0000\n",
      "Epoch 55/200\n",
      "10/10 [==============================] - 0s 2ms/step - loss: 0.0355 - sparse_categorical_accuracy: 1.0000\n",
      "Epoch 56/200\n",
      "10/10 [==============================] - 0s 2ms/step - loss: 0.0346 - sparse_categorical_accuracy: 1.0000\n",
      "Epoch 57/200\n",
      "10/10 [==============================] - 0s 3ms/step - loss: 0.0335 - sparse_categorical_accuracy: 1.0000\n",
      "Epoch 58/200\n",
      "10/10 [==============================] - 0s 2ms/step - loss: 0.0342 - sparse_categorical_accuracy: 1.0000\n",
      "Epoch 59/200\n",
      "10/10 [==============================] - 0s 2ms/step - loss: 0.0319 - sparse_categorical_accuracy: 1.0000\n",
      "Epoch 60/200\n",
      "10/10 [==============================] - 0s 2ms/step - loss: 0.0305 - sparse_categorical_accuracy: 1.0000\n",
      "Epoch 61/200\n",
      "10/10 [==============================] - 0s 2ms/step - loss: 0.0292 - sparse_categorical_accuracy: 1.0000\n",
      "Epoch 62/200\n",
      "10/10 [==============================] - 0s 2ms/step - loss: 0.0301 - sparse_categorical_accuracy: 1.0000\n",
      "Epoch 63/200\n",
      "10/10 [==============================] - 0s 3ms/step - loss: 0.0275 - sparse_categorical_accuracy: 1.0000\n",
      "Epoch 64/200\n",
      "10/10 [==============================] - 0s 2ms/step - loss: 0.0276 - sparse_categorical_accuracy: 1.0000\n",
      "Epoch 65/200\n",
      "10/10 [==============================] - 0s 3ms/step - loss: 0.0266 - sparse_categorical_accuracy: 1.0000\n",
      "Epoch 66/200\n",
      "10/10 [==============================] - 0s 3ms/step - loss: 0.0259 - sparse_categorical_accuracy: 1.0000\n",
      "Epoch 67/200\n",
      "10/10 [==============================] - 0s 3ms/step - loss: 0.0247 - sparse_categorical_accuracy: 1.0000\n",
      "Epoch 68/200\n",
      "10/10 [==============================] - 0s 3ms/step - loss: 0.0242 - sparse_categorical_accuracy: 1.0000\n",
      "Epoch 69/200\n",
      "10/10 [==============================] - 0s 3ms/step - loss: 0.0231 - sparse_categorical_accuracy: 1.0000\n",
      "Epoch 70/200\n",
      "10/10 [==============================] - 0s 3ms/step - loss: 0.0226 - sparse_categorical_accuracy: 1.0000\n",
      "Epoch 71/200\n",
      "10/10 [==============================] - 0s 3ms/step - loss: 0.0220 - sparse_categorical_accuracy: 1.0000\n",
      "Epoch 72/200\n",
      "10/10 [==============================] - 0s 3ms/step - loss: 0.0215 - sparse_categorical_accuracy: 1.0000\n",
      "Epoch 73/200\n",
      "10/10 [==============================] - 0s 3ms/step - loss: 0.0210 - sparse_categorical_accuracy: 1.0000\n",
      "Epoch 74/200\n",
      "10/10 [==============================] - 0s 3ms/step - loss: 0.0205 - sparse_categorical_accuracy: 1.0000\n",
      "Epoch 75/200\n",
      "10/10 [==============================] - 0s 3ms/step - loss: 0.0200 - sparse_categorical_accuracy: 1.0000\n",
      "Epoch 76/200\n",
      "10/10 [==============================] - 0s 3ms/step - loss: 0.0195 - sparse_categorical_accuracy: 1.0000\n",
      "Epoch 77/200\n",
      "10/10 [==============================] - 0s 2ms/step - loss: 0.0187 - sparse_categorical_accuracy: 1.0000\n",
      "Epoch 78/200\n",
      "10/10 [==============================] - 0s 2ms/step - loss: 0.0183 - sparse_categorical_accuracy: 1.0000\n",
      "Epoch 79/200\n",
      "10/10 [==============================] - 0s 3ms/step - loss: 0.0184 - sparse_categorical_accuracy: 1.0000\n",
      "Epoch 80/200\n",
      "10/10 [==============================] - 0s 3ms/step - loss: 0.0176 - sparse_categorical_accuracy: 1.0000\n",
      "Epoch 81/200\n",
      "10/10 [==============================] - 0s 3ms/step - loss: 0.0173 - sparse_categorical_accuracy: 1.0000\n",
      "Epoch 82/200\n",
      "10/10 [==============================] - 0s 3ms/step - loss: 0.0165 - sparse_categorical_accuracy: 1.0000\n",
      "Epoch 83/200\n",
      "10/10 [==============================] - 0s 3ms/step - loss: 0.0161 - sparse_categorical_accuracy: 1.0000\n",
      "Epoch 84/200\n",
      "10/10 [==============================] - 0s 3ms/step - loss: 0.0155 - sparse_categorical_accuracy: 1.0000\n",
      "Epoch 85/200\n",
      "10/10 [==============================] - 0s 3ms/step - loss: 0.0153 - sparse_categorical_accuracy: 1.0000\n",
      "Epoch 86/200\n",
      "10/10 [==============================] - 0s 3ms/step - loss: 0.0149 - sparse_categorical_accuracy: 1.0000\n",
      "Epoch 87/200\n",
      "10/10 [==============================] - 0s 3ms/step - loss: 0.0146 - sparse_categorical_accuracy: 1.0000\n",
      "Epoch 88/200\n",
      "10/10 [==============================] - 0s 3ms/step - loss: 0.0141 - sparse_categorical_accuracy: 1.0000\n",
      "Epoch 89/200\n",
      "10/10 [==============================] - 0s 3ms/step - loss: 0.0139 - sparse_categorical_accuracy: 1.0000\n",
      "Epoch 90/200\n",
      "10/10 [==============================] - 0s 3ms/step - loss: 0.0135 - sparse_categorical_accuracy: 1.0000\n",
      "Epoch 91/200\n",
      "10/10 [==============================] - 0s 2ms/step - loss: 0.0133 - sparse_categorical_accuracy: 1.0000\n",
      "Epoch 92/200\n",
      "10/10 [==============================] - 0s 3ms/step - loss: 0.0129 - sparse_categorical_accuracy: 1.0000\n",
      "Epoch 93/200\n",
      "10/10 [==============================] - 0s 3ms/step - loss: 0.0128 - sparse_categorical_accuracy: 1.0000\n",
      "Epoch 94/200\n",
      "10/10 [==============================] - 0s 2ms/step - loss: 0.0124 - sparse_categorical_accuracy: 1.0000\n",
      "Epoch 95/200\n",
      "10/10 [==============================] - 0s 3ms/step - loss: 0.0125 - sparse_categorical_accuracy: 1.0000\n",
      "Epoch 96/200\n",
      "10/10 [==============================] - 0s 2ms/step - loss: 0.0118 - sparse_categorical_accuracy: 1.0000\n",
      "Epoch 97/200\n",
      "10/10 [==============================] - 0s 2ms/step - loss: 0.0120 - sparse_categorical_accuracy: 1.0000\n",
      "Epoch 98/200\n",
      "10/10 [==============================] - 0s 2ms/step - loss: 0.0113 - sparse_categorical_accuracy: 1.0000\n",
      "Epoch 99/200\n",
      "10/10 [==============================] - 0s 2ms/step - loss: 0.0112 - sparse_categorical_accuracy: 1.0000\n",
      "Epoch 100/200\n",
      "10/10 [==============================] - 0s 2ms/step - loss: 0.0113 - sparse_categorical_accuracy: 1.0000\n",
      "Epoch 101/200\n",
      "10/10 [==============================] - 0s 3ms/step - loss: 0.0105 - sparse_categorical_accuracy: 1.0000\n",
      "Epoch 102/200\n",
      "10/10 [==============================] - 0s 2ms/step - loss: 0.0106 - sparse_categorical_accuracy: 1.0000\n",
      "Epoch 103/200\n",
      "10/10 [==============================] - 0s 3ms/step - loss: 0.0102 - sparse_categorical_accuracy: 1.0000\n",
      "Epoch 104/200\n",
      "10/10 [==============================] - 0s 2ms/step - loss: 0.0100 - sparse_categorical_accuracy: 1.0000\n",
      "Epoch 105/200\n",
      "10/10 [==============================] - 0s 4ms/step - loss: 0.0098 - sparse_categorical_accuracy: 1.0000\n",
      "Epoch 106/200\n",
      "10/10 [==============================] - 0s 2ms/step - loss: 0.0097 - sparse_categorical_accuracy: 1.0000\n",
      "Epoch 107/200\n",
      "10/10 [==============================] - 0s 2ms/step - loss: 0.0097 - sparse_categorical_accuracy: 1.0000\n",
      "Epoch 108/200\n",
      "10/10 [==============================] - 0s 2ms/step - loss: 0.0093 - sparse_categorical_accuracy: 1.0000\n",
      "Epoch 109/200\n",
      "10/10 [==============================] - 0s 2ms/step - loss: 0.0090 - sparse_categorical_accuracy: 1.0000\n",
      "Epoch 110/200\n",
      "10/10 [==============================] - 0s 3ms/step - loss: 0.0089 - sparse_categorical_accuracy: 1.0000\n",
      "Epoch 111/200\n",
      "10/10 [==============================] - 0s 3ms/step - loss: 0.0088 - sparse_categorical_accuracy: 1.0000\n",
      "Epoch 112/200\n",
      "10/10 [==============================] - 0s 3ms/step - loss: 0.0085 - sparse_categorical_accuracy: 1.0000\n",
      "Epoch 113/200\n",
      "10/10 [==============================] - 0s 2ms/step - loss: 0.0083 - sparse_categorical_accuracy: 1.0000\n",
      "Epoch 114/200\n",
      "10/10 [==============================] - 0s 2ms/step - loss: 0.0082 - sparse_categorical_accuracy: 1.0000\n",
      "Epoch 115/200\n",
      "10/10 [==============================] - 0s 2ms/step - loss: 0.0080 - sparse_categorical_accuracy: 1.0000\n",
      "Epoch 116/200\n",
      "10/10 [==============================] - 0s 2ms/step - loss: 0.0078 - sparse_categorical_accuracy: 1.0000\n",
      "Epoch 117/200\n",
      "10/10 [==============================] - 0s 2ms/step - loss: 0.0077 - sparse_categorical_accuracy: 1.0000\n",
      "Epoch 118/200\n",
      "10/10 [==============================] - 0s 3ms/step - loss: 0.0075 - sparse_categorical_accuracy: 1.0000\n",
      "Epoch 119/200\n",
      "10/10 [==============================] - 0s 2ms/step - loss: 0.0075 - sparse_categorical_accuracy: 1.0000\n",
      "Epoch 120/200\n",
      "10/10 [==============================] - 0s 2ms/step - loss: 0.0073 - sparse_categorical_accuracy: 1.0000\n",
      "Epoch 121/200\n",
      "10/10 [==============================] - 0s 3ms/step - loss: 0.0072 - sparse_categorical_accuracy: 1.0000\n",
      "Epoch 122/200\n",
      "10/10 [==============================] - 0s 3ms/step - loss: 0.0070 - sparse_categorical_accuracy: 1.0000\n",
      "Epoch 123/200\n",
      "10/10 [==============================] - 0s 3ms/step - loss: 0.0069 - sparse_categorical_accuracy: 1.0000\n",
      "Epoch 124/200\n",
      "10/10 [==============================] - 0s 3ms/step - loss: 0.0069 - sparse_categorical_accuracy: 1.0000\n",
      "Epoch 125/200\n",
      "10/10 [==============================] - 0s 3ms/step - loss: 0.0067 - sparse_categorical_accuracy: 1.0000\n",
      "Epoch 126/200\n",
      "10/10 [==============================] - 0s 3ms/step - loss: 0.0068 - sparse_categorical_accuracy: 1.0000\n",
      "Epoch 127/200\n",
      "10/10 [==============================] - 0s 3ms/step - loss: 0.0064 - sparse_categorical_accuracy: 1.0000\n",
      "Epoch 128/200\n",
      "10/10 [==============================] - 0s 3ms/step - loss: 0.0063 - sparse_categorical_accuracy: 1.0000\n",
      "Epoch 129/200\n",
      "10/10 [==============================] - 0s 3ms/step - loss: 0.0061 - sparse_categorical_accuracy: 1.0000\n",
      "Epoch 130/200\n",
      "10/10 [==============================] - 0s 3ms/step - loss: 0.0061 - sparse_categorical_accuracy: 1.0000\n",
      "Epoch 131/200\n",
      "10/10 [==============================] - 0s 3ms/step - loss: 0.0060 - sparse_categorical_accuracy: 1.0000\n",
      "Epoch 132/200\n",
      "10/10 [==============================] - 0s 3ms/step - loss: 0.0058 - sparse_categorical_accuracy: 1.0000\n",
      "Epoch 133/200\n",
      "10/10 [==============================] - 0s 3ms/step - loss: 0.0057 - sparse_categorical_accuracy: 1.0000\n",
      "Epoch 134/200\n",
      "10/10 [==============================] - 0s 3ms/step - loss: 0.0057 - sparse_categorical_accuracy: 1.0000\n",
      "Epoch 135/200\n",
      "10/10 [==============================] - 0s 2ms/step - loss: 0.0056 - sparse_categorical_accuracy: 1.0000\n",
      "Epoch 136/200\n",
      "10/10 [==============================] - 0s 3ms/step - loss: 0.0056 - sparse_categorical_accuracy: 1.0000\n",
      "Epoch 137/200\n",
      "10/10 [==============================] - 0s 3ms/step - loss: 0.0054 - sparse_categorical_accuracy: 1.0000\n",
      "Epoch 138/200\n",
      "10/10 [==============================] - 0s 3ms/step - loss: 0.0053 - sparse_categorical_accuracy: 1.0000\n",
      "Epoch 139/200\n",
      "10/10 [==============================] - 0s 3ms/step - loss: 0.0051 - sparse_categorical_accuracy: 1.0000\n",
      "Epoch 140/200\n",
      "10/10 [==============================] - 0s 3ms/step - loss: 0.0051 - sparse_categorical_accuracy: 1.0000\n",
      "Epoch 141/200\n",
      "10/10 [==============================] - 0s 3ms/step - loss: 0.0050 - sparse_categorical_accuracy: 1.0000\n",
      "Epoch 142/200\n",
      "10/10 [==============================] - 0s 3ms/step - loss: 0.0050 - sparse_categorical_accuracy: 1.0000\n",
      "Epoch 143/200\n",
      "10/10 [==============================] - 0s 3ms/step - loss: 0.0048 - sparse_categorical_accuracy: 1.0000\n",
      "Epoch 144/200\n",
      "10/10 [==============================] - 0s 2ms/step - loss: 0.0048 - sparse_categorical_accuracy: 1.0000\n",
      "Epoch 145/200\n",
      "10/10 [==============================] - 0s 3ms/step - loss: 0.0047 - sparse_categorical_accuracy: 1.0000\n",
      "Epoch 146/200\n",
      "10/10 [==============================] - 0s 3ms/step - loss: 0.0046 - sparse_categorical_accuracy: 1.0000\n",
      "Epoch 147/200\n",
      "10/10 [==============================] - 0s 2ms/step - loss: 0.0045 - sparse_categorical_accuracy: 1.0000\n",
      "Epoch 148/200\n",
      "10/10 [==============================] - 0s 2ms/step - loss: 0.0044 - sparse_categorical_accuracy: 1.0000\n",
      "Epoch 149/200\n",
      "10/10 [==============================] - 0s 3ms/step - loss: 0.0046 - sparse_categorical_accuracy: 1.0000\n",
      "Epoch 150/200\n",
      "10/10 [==============================] - 0s 3ms/step - loss: 0.0043 - sparse_categorical_accuracy: 1.0000\n",
      "Epoch 151/200\n",
      "10/10 [==============================] - 0s 3ms/step - loss: 0.0042 - sparse_categorical_accuracy: 1.0000\n",
      "Epoch 152/200\n",
      "10/10 [==============================] - 0s 3ms/step - loss: 0.0042 - sparse_categorical_accuracy: 1.0000\n",
      "Epoch 153/200\n",
      "10/10 [==============================] - 0s 3ms/step - loss: 0.0041 - sparse_categorical_accuracy: 1.0000\n",
      "Epoch 154/200\n",
      "10/10 [==============================] - 0s 3ms/step - loss: 0.0041 - sparse_categorical_accuracy: 1.0000\n",
      "Epoch 155/200\n",
      "10/10 [==============================] - 0s 2ms/step - loss: 0.0040 - sparse_categorical_accuracy: 1.0000\n",
      "Epoch 156/200\n",
      "10/10 [==============================] - 0s 3ms/step - loss: 0.0039 - sparse_categorical_accuracy: 1.0000\n",
      "Epoch 157/200\n",
      "10/10 [==============================] - 0s 2ms/step - loss: 0.0039 - sparse_categorical_accuracy: 1.0000\n",
      "Epoch 158/200\n",
      "10/10 [==============================] - 0s 2ms/step - loss: 0.0038 - sparse_categorical_accuracy: 1.0000\n",
      "Epoch 159/200\n",
      "10/10 [==============================] - 0s 3ms/step - loss: 0.0037 - sparse_categorical_accuracy: 1.0000\n",
      "Epoch 160/200\n",
      "10/10 [==============================] - 0s 2ms/step - loss: 0.0037 - sparse_categorical_accuracy: 1.0000\n",
      "Epoch 161/200\n",
      "10/10 [==============================] - 0s 3ms/step - loss: 0.0037 - sparse_categorical_accuracy: 1.0000\n",
      "Epoch 162/200\n",
      "10/10 [==============================] - 0s 2ms/step - loss: 0.0036 - sparse_categorical_accuracy: 1.0000\n",
      "Epoch 163/200\n",
      "10/10 [==============================] - 0s 3ms/step - loss: 0.0036 - sparse_categorical_accuracy: 1.0000\n",
      "Epoch 164/200\n",
      "10/10 [==============================] - 0s 3ms/step - loss: 0.0035 - sparse_categorical_accuracy: 1.0000\n",
      "Epoch 165/200\n",
      "10/10 [==============================] - 0s 2ms/step - loss: 0.0034 - sparse_categorical_accuracy: 1.0000\n",
      "Epoch 166/200\n",
      "10/10 [==============================] - 0s 2ms/step - loss: 0.0034 - sparse_categorical_accuracy: 1.0000\n",
      "Epoch 167/200\n",
      "10/10 [==============================] - 0s 3ms/step - loss: 0.0033 - sparse_categorical_accuracy: 1.0000\n",
      "Epoch 168/200\n",
      "10/10 [==============================] - 0s 2ms/step - loss: 0.0034 - sparse_categorical_accuracy: 1.0000\n",
      "Epoch 169/200\n",
      "10/10 [==============================] - 0s 4ms/step - loss: 0.0033 - sparse_categorical_accuracy: 1.0000\n",
      "Epoch 170/200\n",
      "10/10 [==============================] - 0s 3ms/step - loss: 0.0033 - sparse_categorical_accuracy: 1.0000\n",
      "Epoch 171/200\n",
      "10/10 [==============================] - 0s 2ms/step - loss: 0.0032 - sparse_categorical_accuracy: 1.0000\n",
      "Epoch 172/200\n",
      "10/10 [==============================] - 0s 3ms/step - loss: 0.0031 - sparse_categorical_accuracy: 1.0000\n",
      "Epoch 173/200\n",
      "10/10 [==============================] - 0s 3ms/step - loss: 0.0031 - sparse_categorical_accuracy: 1.0000\n",
      "Epoch 174/200\n",
      "10/10 [==============================] - 0s 3ms/step - loss: 0.0031 - sparse_categorical_accuracy: 1.0000\n",
      "Epoch 175/200\n",
      "10/10 [==============================] - 0s 2ms/step - loss: 0.0030 - sparse_categorical_accuracy: 1.0000\n",
      "Epoch 176/200\n",
      "10/10 [==============================] - 0s 3ms/step - loss: 0.0030 - sparse_categorical_accuracy: 1.0000\n",
      "Epoch 177/200\n",
      "10/10 [==============================] - 0s 2ms/step - loss: 0.0029 - sparse_categorical_accuracy: 1.0000\n",
      "Epoch 178/200\n",
      "10/10 [==============================] - 0s 3ms/step - loss: 0.0030 - sparse_categorical_accuracy: 1.0000\n",
      "Epoch 179/200\n",
      "10/10 [==============================] - 0s 3ms/step - loss: 0.0029 - sparse_categorical_accuracy: 1.0000\n",
      "Epoch 180/200\n",
      "10/10 [==============================] - 0s 2ms/step - loss: 0.0028 - sparse_categorical_accuracy: 1.0000\n",
      "Epoch 181/200\n",
      "10/10 [==============================] - 0s 3ms/step - loss: 0.0028 - sparse_categorical_accuracy: 1.0000\n",
      "Epoch 182/200\n",
      "10/10 [==============================] - 0s 3ms/step - loss: 0.0027 - sparse_categorical_accuracy: 1.0000\n",
      "Epoch 183/200\n",
      "10/10 [==============================] - 0s 3ms/step - loss: 0.0027 - sparse_categorical_accuracy: 1.0000\n",
      "Epoch 184/200\n",
      "10/10 [==============================] - 0s 3ms/step - loss: 0.0026 - sparse_categorical_accuracy: 1.0000\n",
      "Epoch 185/200\n",
      "10/10 [==============================] - 0s 3ms/step - loss: 0.0026 - sparse_categorical_accuracy: 1.0000\n",
      "Epoch 186/200\n",
      "10/10 [==============================] - 0s 3ms/step - loss: 0.0025 - sparse_categorical_accuracy: 1.0000\n",
      "Epoch 187/200\n",
      "10/10 [==============================] - 0s 3ms/step - loss: 0.0025 - sparse_categorical_accuracy: 1.0000\n",
      "Epoch 188/200\n",
      "10/10 [==============================] - 0s 3ms/step - loss: 0.0025 - sparse_categorical_accuracy: 1.0000\n",
      "Epoch 189/200\n",
      "10/10 [==============================] - 0s 4ms/step - loss: 0.0025 - sparse_categorical_accuracy: 1.0000\n",
      "Epoch 190/200\n",
      "10/10 [==============================] - 0s 3ms/step - loss: 0.0024 - sparse_categorical_accuracy: 1.0000\n",
      "Epoch 191/200\n",
      "10/10 [==============================] - 0s 3ms/step - loss: 0.0024 - sparse_categorical_accuracy: 1.0000\n",
      "Epoch 192/200\n",
      "10/10 [==============================] - 0s 3ms/step - loss: 0.0023 - sparse_categorical_accuracy: 1.0000\n",
      "Epoch 193/200\n",
      "10/10 [==============================] - 0s 3ms/step - loss: 0.0023 - sparse_categorical_accuracy: 1.0000\n",
      "Epoch 194/200\n",
      "10/10 [==============================] - 0s 3ms/step - loss: 0.0023 - sparse_categorical_accuracy: 1.0000\n",
      "Epoch 195/200\n",
      "10/10 [==============================] - 0s 3ms/step - loss: 0.0022 - sparse_categorical_accuracy: 1.0000\n",
      "Epoch 196/200\n",
      "10/10 [==============================] - 0s 3ms/step - loss: 0.0022 - sparse_categorical_accuracy: 1.0000\n",
      "Epoch 197/200\n",
      "10/10 [==============================] - 0s 3ms/step - loss: 0.0022 - sparse_categorical_accuracy: 1.0000\n",
      "Epoch 198/200\n",
      "10/10 [==============================] - 0s 3ms/step - loss: 0.0022 - sparse_categorical_accuracy: 1.0000\n",
      "Epoch 199/200\n",
      "10/10 [==============================] - 0s 3ms/step - loss: 0.0021 - sparse_categorical_accuracy: 1.0000\n",
      "Epoch 200/200\n",
      "10/10 [==============================] - 0s 3ms/step - loss: 0.0021 - sparse_categorical_accuracy: 1.0000\n"
     ]
    }
   ],
   "source": [
    "model = Sequential()\n",
    "model.add(Dense(50, input_dim=10, activation='tanh'))\n",
    "model.add(Dense(10, activation='softmax'))\n",
    "model.compile(loss=keras.losses.SparseCategoricalCrossentropy(from_logits=True), metrics=keras.metrics.SparseCategoricalAccuracy(), optimizer=\"adam\")\n",
    "history = model.fit(X_train, y_train, epochs=200)\n"
   ]
  },
  {
   "cell_type": "code",
   "execution_count": 223,
   "metadata": {
    "colab": {
     "base_uri": "https://localhost:8080/"
    },
    "id": "RsOz2M1AMhsv",
    "outputId": "79295fbe-35ea-44e3-d064-e126e57b9ce3"
   },
   "outputs": [
    {
     "data": {
      "text/plain": [
       "0.9848484848484849"
      ]
     },
     "execution_count": 223,
     "metadata": {},
     "output_type": "execute_result"
    }
   ],
   "source": [
    "preds = model.predict(X_test)\n",
    "y_classes = preds.argmax(axis=-1)\n",
    "sklearn.metrics.f1_score(y_test, y_classes)\n"
   ]
  },
  {
   "cell_type": "code",
   "execution_count": 224,
   "metadata": {
    "colab": {
     "base_uri": "https://localhost:8080/"
    },
    "id": "V23jFsIOMVpa",
    "outputId": "7fc77b6b-0de8-4fdb-f516-3f40e70eb362"
   },
   "outputs": [
    {
     "name": "stdout",
     "output_type": "stream",
     "text": [
      "Epoch 1/200\n"
     ]
    },
    {
     "name": "stderr",
     "output_type": "stream",
     "text": [
      "/usr/local/lib/python3.7/dist-packages/tensorflow/python/util/dispatch.py:1082: UserWarning: \"`sparse_categorical_crossentropy` received `from_logits=True`, but the `output` argument was produced by a sigmoid or softmax activation and thus does not represent logits. Was this intended?\"\n",
      "  return dispatch_target(*args, **kwargs)\n"
     ]
    },
    {
     "name": "stdout",
     "output_type": "stream",
     "text": [
      "10/10 [==============================] - 0s 2ms/step - loss: 2.8733 - sparse_categorical_accuracy: 0.5338\n",
      "Epoch 2/200\n",
      "10/10 [==============================] - 0s 2ms/step - loss: 1.8030 - sparse_categorical_accuracy: 0.6149\n",
      "Epoch 3/200\n",
      "10/10 [==============================] - 0s 4ms/step - loss: 1.0037 - sparse_categorical_accuracy: 0.6351\n",
      "Epoch 4/200\n",
      "10/10 [==============================] - 0s 2ms/step - loss: 0.6706 - sparse_categorical_accuracy: 0.7264\n",
      "Epoch 5/200\n",
      "10/10 [==============================] - 0s 3ms/step - loss: 0.5031 - sparse_categorical_accuracy: 0.7939\n",
      "Epoch 6/200\n",
      "10/10 [==============================] - 0s 2ms/step - loss: 0.4152 - sparse_categorical_accuracy: 0.8345\n",
      "Epoch 7/200\n",
      "10/10 [==============================] - 0s 2ms/step - loss: 0.3531 - sparse_categorical_accuracy: 0.8851\n",
      "Epoch 8/200\n",
      "10/10 [==============================] - 0s 2ms/step - loss: 0.3028 - sparse_categorical_accuracy: 0.9189\n",
      "Epoch 9/200\n",
      "10/10 [==============================] - 0s 2ms/step - loss: 0.2678 - sparse_categorical_accuracy: 0.9426\n",
      "Epoch 10/200\n",
      "10/10 [==============================] - 0s 2ms/step - loss: 0.2327 - sparse_categorical_accuracy: 0.9493\n",
      "Epoch 11/200\n",
      "10/10 [==============================] - 0s 2ms/step - loss: 0.2065 - sparse_categorical_accuracy: 0.9527\n",
      "Epoch 12/200\n",
      "10/10 [==============================] - 0s 2ms/step - loss: 0.1837 - sparse_categorical_accuracy: 0.9764\n",
      "Epoch 13/200\n",
      "10/10 [==============================] - 0s 2ms/step - loss: 0.1665 - sparse_categorical_accuracy: 0.9797\n",
      "Epoch 14/200\n",
      "10/10 [==============================] - 0s 2ms/step - loss: 0.1479 - sparse_categorical_accuracy: 0.9932\n",
      "Epoch 15/200\n",
      "10/10 [==============================] - 0s 2ms/step - loss: 0.1370 - sparse_categorical_accuracy: 0.9932\n",
      "Epoch 16/200\n",
      "10/10 [==============================] - 0s 2ms/step - loss: 0.1232 - sparse_categorical_accuracy: 0.9932\n",
      "Epoch 17/200\n",
      "10/10 [==============================] - 0s 3ms/step - loss: 0.1132 - sparse_categorical_accuracy: 0.9932\n",
      "Epoch 18/200\n",
      "10/10 [==============================] - 0s 2ms/step - loss: 0.1067 - sparse_categorical_accuracy: 0.9899\n",
      "Epoch 19/200\n",
      "10/10 [==============================] - 0s 2ms/step - loss: 0.0991 - sparse_categorical_accuracy: 0.9966\n",
      "Epoch 20/200\n",
      "10/10 [==============================] - 0s 3ms/step - loss: 0.0928 - sparse_categorical_accuracy: 0.9966\n",
      "Epoch 21/200\n",
      "10/10 [==============================] - 0s 2ms/step - loss: 0.0860 - sparse_categorical_accuracy: 1.0000\n",
      "Epoch 22/200\n",
      "10/10 [==============================] - 0s 2ms/step - loss: 0.0826 - sparse_categorical_accuracy: 0.9966\n",
      "Epoch 23/200\n",
      "10/10 [==============================] - 0s 2ms/step - loss: 0.0787 - sparse_categorical_accuracy: 0.9966\n",
      "Epoch 24/200\n",
      "10/10 [==============================] - 0s 3ms/step - loss: 0.0732 - sparse_categorical_accuracy: 0.9966\n",
      "Epoch 25/200\n",
      "10/10 [==============================] - 0s 2ms/step - loss: 0.0699 - sparse_categorical_accuracy: 1.0000\n",
      "Epoch 26/200\n",
      "10/10 [==============================] - 0s 2ms/step - loss: 0.0678 - sparse_categorical_accuracy: 0.9966\n",
      "Epoch 27/200\n",
      "10/10 [==============================] - 0s 2ms/step - loss: 0.0637 - sparse_categorical_accuracy: 1.0000\n",
      "Epoch 28/200\n",
      "10/10 [==============================] - 0s 3ms/step - loss: 0.0602 - sparse_categorical_accuracy: 1.0000\n",
      "Epoch 29/200\n",
      "10/10 [==============================] - 0s 3ms/step - loss: 0.0573 - sparse_categorical_accuracy: 1.0000\n",
      "Epoch 30/200\n",
      "10/10 [==============================] - 0s 2ms/step - loss: 0.0553 - sparse_categorical_accuracy: 0.9966\n",
      "Epoch 31/200\n",
      "10/10 [==============================] - 0s 2ms/step - loss: 0.0539 - sparse_categorical_accuracy: 1.0000\n",
      "Epoch 32/200\n",
      "10/10 [==============================] - 0s 2ms/step - loss: 0.0503 - sparse_categorical_accuracy: 1.0000\n",
      "Epoch 33/200\n",
      "10/10 [==============================] - 0s 2ms/step - loss: 0.0483 - sparse_categorical_accuracy: 1.0000\n",
      "Epoch 34/200\n",
      "10/10 [==============================] - 0s 3ms/step - loss: 0.0461 - sparse_categorical_accuracy: 1.0000\n",
      "Epoch 35/200\n",
      "10/10 [==============================] - 0s 4ms/step - loss: 0.0445 - sparse_categorical_accuracy: 1.0000\n",
      "Epoch 36/200\n",
      "10/10 [==============================] - 0s 3ms/step - loss: 0.0427 - sparse_categorical_accuracy: 1.0000\n",
      "Epoch 37/200\n",
      "10/10 [==============================] - 0s 3ms/step - loss: 0.0412 - sparse_categorical_accuracy: 1.0000\n",
      "Epoch 38/200\n",
      "10/10 [==============================] - 0s 2ms/step - loss: 0.0398 - sparse_categorical_accuracy: 1.0000\n",
      "Epoch 39/200\n",
      "10/10 [==============================] - 0s 2ms/step - loss: 0.0383 - sparse_categorical_accuracy: 1.0000\n",
      "Epoch 40/200\n",
      "10/10 [==============================] - 0s 3ms/step - loss: 0.0372 - sparse_categorical_accuracy: 1.0000\n",
      "Epoch 41/200\n",
      "10/10 [==============================] - 0s 2ms/step - loss: 0.0351 - sparse_categorical_accuracy: 1.0000\n",
      "Epoch 42/200\n",
      "10/10 [==============================] - 0s 3ms/step - loss: 0.0344 - sparse_categorical_accuracy: 1.0000\n",
      "Epoch 43/200\n",
      "10/10 [==============================] - 0s 2ms/step - loss: 0.0327 - sparse_categorical_accuracy: 1.0000\n",
      "Epoch 44/200\n",
      "10/10 [==============================] - 0s 2ms/step - loss: 0.0314 - sparse_categorical_accuracy: 1.0000\n",
      "Epoch 45/200\n",
      "10/10 [==============================] - 0s 2ms/step - loss: 0.0302 - sparse_categorical_accuracy: 1.0000\n",
      "Epoch 46/200\n",
      "10/10 [==============================] - 0s 2ms/step - loss: 0.0303 - sparse_categorical_accuracy: 1.0000\n",
      "Epoch 47/200\n",
      "10/10 [==============================] - 0s 2ms/step - loss: 0.0297 - sparse_categorical_accuracy: 1.0000\n",
      "Epoch 48/200\n",
      "10/10 [==============================] - 0s 2ms/step - loss: 0.0285 - sparse_categorical_accuracy: 1.0000\n",
      "Epoch 49/200\n",
      "10/10 [==============================] - 0s 3ms/step - loss: 0.0276 - sparse_categorical_accuracy: 1.0000\n",
      "Epoch 50/200\n",
      "10/10 [==============================] - 0s 3ms/step - loss: 0.0258 - sparse_categorical_accuracy: 1.0000\n",
      "Epoch 51/200\n",
      "10/10 [==============================] - 0s 2ms/step - loss: 0.0246 - sparse_categorical_accuracy: 1.0000\n",
      "Epoch 52/200\n",
      "10/10 [==============================] - 0s 3ms/step - loss: 0.0240 - sparse_categorical_accuracy: 1.0000\n",
      "Epoch 53/200\n",
      "10/10 [==============================] - 0s 2ms/step - loss: 0.0232 - sparse_categorical_accuracy: 1.0000\n",
      "Epoch 54/200\n",
      "10/10 [==============================] - 0s 2ms/step - loss: 0.0229 - sparse_categorical_accuracy: 1.0000\n",
      "Epoch 55/200\n",
      "10/10 [==============================] - 0s 3ms/step - loss: 0.0221 - sparse_categorical_accuracy: 1.0000\n",
      "Epoch 56/200\n",
      "10/10 [==============================] - 0s 3ms/step - loss: 0.0212 - sparse_categorical_accuracy: 1.0000\n",
      "Epoch 57/200\n",
      "10/10 [==============================] - 0s 2ms/step - loss: 0.0205 - sparse_categorical_accuracy: 1.0000\n",
      "Epoch 58/200\n",
      "10/10 [==============================] - 0s 2ms/step - loss: 0.0204 - sparse_categorical_accuracy: 1.0000\n",
      "Epoch 59/200\n",
      "10/10 [==============================] - 0s 2ms/step - loss: 0.0200 - sparse_categorical_accuracy: 1.0000\n",
      "Epoch 60/200\n",
      "10/10 [==============================] - 0s 2ms/step - loss: 0.0189 - sparse_categorical_accuracy: 1.0000\n",
      "Epoch 61/200\n",
      "10/10 [==============================] - 0s 3ms/step - loss: 0.0189 - sparse_categorical_accuracy: 1.0000\n",
      "Epoch 62/200\n",
      "10/10 [==============================] - 0s 2ms/step - loss: 0.0178 - sparse_categorical_accuracy: 1.0000\n",
      "Epoch 63/200\n",
      "10/10 [==============================] - 0s 2ms/step - loss: 0.0174 - sparse_categorical_accuracy: 1.0000\n",
      "Epoch 64/200\n",
      "10/10 [==============================] - 0s 3ms/step - loss: 0.0178 - sparse_categorical_accuracy: 1.0000\n",
      "Epoch 65/200\n",
      "10/10 [==============================] - 0s 4ms/step - loss: 0.0162 - sparse_categorical_accuracy: 1.0000\n",
      "Epoch 66/200\n",
      "10/10 [==============================] - 0s 3ms/step - loss: 0.0170 - sparse_categorical_accuracy: 1.0000\n",
      "Epoch 67/200\n",
      "10/10 [==============================] - 0s 3ms/step - loss: 0.0163 - sparse_categorical_accuracy: 1.0000\n",
      "Epoch 68/200\n",
      "10/10 [==============================] - 0s 3ms/step - loss: 0.0151 - sparse_categorical_accuracy: 1.0000\n",
      "Epoch 69/200\n",
      "10/10 [==============================] - 0s 3ms/step - loss: 0.0150 - sparse_categorical_accuracy: 1.0000\n",
      "Epoch 70/200\n",
      "10/10 [==============================] - 0s 3ms/step - loss: 0.0148 - sparse_categorical_accuracy: 1.0000\n",
      "Epoch 71/200\n",
      "10/10 [==============================] - 0s 3ms/step - loss: 0.0140 - sparse_categorical_accuracy: 1.0000\n",
      "Epoch 72/200\n",
      "10/10 [==============================] - 0s 3ms/step - loss: 0.0136 - sparse_categorical_accuracy: 1.0000\n",
      "Epoch 73/200\n",
      "10/10 [==============================] - 0s 2ms/step - loss: 0.0131 - sparse_categorical_accuracy: 1.0000\n",
      "Epoch 74/200\n",
      "10/10 [==============================] - 0s 3ms/step - loss: 0.0129 - sparse_categorical_accuracy: 1.0000\n",
      "Epoch 75/200\n",
      "10/10 [==============================] - 0s 2ms/step - loss: 0.0127 - sparse_categorical_accuracy: 1.0000\n",
      "Epoch 76/200\n",
      "10/10 [==============================] - 0s 3ms/step - loss: 0.0124 - sparse_categorical_accuracy: 1.0000\n",
      "Epoch 77/200\n",
      "10/10 [==============================] - 0s 3ms/step - loss: 0.0119 - sparse_categorical_accuracy: 1.0000\n",
      "Epoch 78/200\n",
      "10/10 [==============================] - 0s 3ms/step - loss: 0.0117 - sparse_categorical_accuracy: 1.0000\n",
      "Epoch 79/200\n",
      "10/10 [==============================] - 0s 3ms/step - loss: 0.0114 - sparse_categorical_accuracy: 1.0000\n",
      "Epoch 80/200\n",
      "10/10 [==============================] - 0s 3ms/step - loss: 0.0113 - sparse_categorical_accuracy: 1.0000\n",
      "Epoch 81/200\n",
      "10/10 [==============================] - 0s 2ms/step - loss: 0.0109 - sparse_categorical_accuracy: 1.0000\n",
      "Epoch 82/200\n",
      "10/10 [==============================] - 0s 3ms/step - loss: 0.0107 - sparse_categorical_accuracy: 1.0000\n",
      "Epoch 83/200\n",
      "10/10 [==============================] - 0s 3ms/step - loss: 0.0103 - sparse_categorical_accuracy: 1.0000\n",
      "Epoch 84/200\n",
      "10/10 [==============================] - 0s 2ms/step - loss: 0.0101 - sparse_categorical_accuracy: 1.0000\n",
      "Epoch 85/200\n",
      "10/10 [==============================] - 0s 3ms/step - loss: 0.0099 - sparse_categorical_accuracy: 1.0000\n",
      "Epoch 86/200\n",
      "10/10 [==============================] - 0s 2ms/step - loss: 0.0097 - sparse_categorical_accuracy: 1.0000\n",
      "Epoch 87/200\n",
      "10/10 [==============================] - 0s 3ms/step - loss: 0.0096 - sparse_categorical_accuracy: 1.0000\n",
      "Epoch 88/200\n",
      "10/10 [==============================] - 0s 3ms/step - loss: 0.0093 - sparse_categorical_accuracy: 1.0000\n",
      "Epoch 89/200\n",
      "10/10 [==============================] - 0s 3ms/step - loss: 0.0090 - sparse_categorical_accuracy: 1.0000\n",
      "Epoch 90/200\n",
      "10/10 [==============================] - 0s 3ms/step - loss: 0.0091 - sparse_categorical_accuracy: 1.0000\n",
      "Epoch 91/200\n",
      "10/10 [==============================] - 0s 2ms/step - loss: 0.0087 - sparse_categorical_accuracy: 1.0000\n",
      "Epoch 92/200\n",
      "10/10 [==============================] - 0s 2ms/step - loss: 0.0086 - sparse_categorical_accuracy: 1.0000\n",
      "Epoch 93/200\n",
      "10/10 [==============================] - 0s 3ms/step - loss: 0.0084 - sparse_categorical_accuracy: 1.0000\n",
      "Epoch 94/200\n",
      "10/10 [==============================] - 0s 4ms/step - loss: 0.0082 - sparse_categorical_accuracy: 1.0000\n",
      "Epoch 95/200\n",
      "10/10 [==============================] - 0s 2ms/step - loss: 0.0080 - sparse_categorical_accuracy: 1.0000\n",
      "Epoch 96/200\n",
      "10/10 [==============================] - 0s 3ms/step - loss: 0.0080 - sparse_categorical_accuracy: 1.0000\n",
      "Epoch 97/200\n",
      "10/10 [==============================] - 0s 3ms/step - loss: 0.0077 - sparse_categorical_accuracy: 1.0000\n",
      "Epoch 98/200\n",
      "10/10 [==============================] - 0s 2ms/step - loss: 0.0075 - sparse_categorical_accuracy: 1.0000\n",
      "Epoch 99/200\n",
      "10/10 [==============================] - 0s 3ms/step - loss: 0.0076 - sparse_categorical_accuracy: 1.0000\n",
      "Epoch 100/200\n",
      "10/10 [==============================] - 0s 3ms/step - loss: 0.0073 - sparse_categorical_accuracy: 1.0000\n",
      "Epoch 101/200\n",
      "10/10 [==============================] - 0s 3ms/step - loss: 0.0073 - sparse_categorical_accuracy: 1.0000\n",
      "Epoch 102/200\n",
      "10/10 [==============================] - 0s 3ms/step - loss: 0.0070 - sparse_categorical_accuracy: 1.0000\n",
      "Epoch 103/200\n",
      "10/10 [==============================] - 0s 3ms/step - loss: 0.0075 - sparse_categorical_accuracy: 1.0000\n",
      "Epoch 104/200\n",
      "10/10 [==============================] - 0s 3ms/step - loss: 0.0066 - sparse_categorical_accuracy: 1.0000\n",
      "Epoch 105/200\n",
      "10/10 [==============================] - 0s 3ms/step - loss: 0.0065 - sparse_categorical_accuracy: 1.0000\n",
      "Epoch 106/200\n",
      "10/10 [==============================] - 0s 2ms/step - loss: 0.0064 - sparse_categorical_accuracy: 1.0000\n",
      "Epoch 107/200\n",
      "10/10 [==============================] - 0s 3ms/step - loss: 0.0062 - sparse_categorical_accuracy: 1.0000\n",
      "Epoch 108/200\n",
      "10/10 [==============================] - 0s 3ms/step - loss: 0.0062 - sparse_categorical_accuracy: 1.0000\n",
      "Epoch 109/200\n",
      "10/10 [==============================] - 0s 3ms/step - loss: 0.0060 - sparse_categorical_accuracy: 1.0000\n",
      "Epoch 110/200\n",
      "10/10 [==============================] - 0s 2ms/step - loss: 0.0059 - sparse_categorical_accuracy: 1.0000\n",
      "Epoch 111/200\n",
      "10/10 [==============================] - 0s 3ms/step - loss: 0.0058 - sparse_categorical_accuracy: 1.0000\n",
      "Epoch 112/200\n",
      "10/10 [==============================] - 0s 3ms/step - loss: 0.0057 - sparse_categorical_accuracy: 1.0000\n",
      "Epoch 113/200\n",
      "10/10 [==============================] - 0s 3ms/step - loss: 0.0055 - sparse_categorical_accuracy: 1.0000\n",
      "Epoch 114/200\n",
      "10/10 [==============================] - 0s 3ms/step - loss: 0.0055 - sparse_categorical_accuracy: 1.0000\n",
      "Epoch 115/200\n",
      "10/10 [==============================] - 0s 3ms/step - loss: 0.0053 - sparse_categorical_accuracy: 1.0000\n",
      "Epoch 116/200\n",
      "10/10 [==============================] - 0s 3ms/step - loss: 0.0054 - sparse_categorical_accuracy: 1.0000\n",
      "Epoch 117/200\n",
      "10/10 [==============================] - 0s 2ms/step - loss: 0.0052 - sparse_categorical_accuracy: 1.0000\n",
      "Epoch 118/200\n",
      "10/10 [==============================] - 0s 3ms/step - loss: 0.0051 - sparse_categorical_accuracy: 1.0000\n",
      "Epoch 119/200\n",
      "10/10 [==============================] - 0s 3ms/step - loss: 0.0051 - sparse_categorical_accuracy: 1.0000\n",
      "Epoch 120/200\n",
      "10/10 [==============================] - 0s 2ms/step - loss: 0.0048 - sparse_categorical_accuracy: 1.0000\n",
      "Epoch 121/200\n",
      "10/10 [==============================] - 0s 3ms/step - loss: 0.0050 - sparse_categorical_accuracy: 1.0000\n",
      "Epoch 122/200\n",
      "10/10 [==============================] - 0s 3ms/step - loss: 0.0047 - sparse_categorical_accuracy: 1.0000\n",
      "Epoch 123/200\n",
      "10/10 [==============================] - 0s 3ms/step - loss: 0.0048 - sparse_categorical_accuracy: 1.0000\n",
      "Epoch 124/200\n",
      "10/10 [==============================] - 0s 3ms/step - loss: 0.0045 - sparse_categorical_accuracy: 1.0000\n",
      "Epoch 125/200\n",
      "10/10 [==============================] - 0s 3ms/step - loss: 0.0045 - sparse_categorical_accuracy: 1.0000\n",
      "Epoch 126/200\n",
      "10/10 [==============================] - 0s 3ms/step - loss: 0.0044 - sparse_categorical_accuracy: 1.0000\n",
      "Epoch 127/200\n",
      "10/10 [==============================] - 0s 3ms/step - loss: 0.0044 - sparse_categorical_accuracy: 1.0000\n",
      "Epoch 128/200\n",
      "10/10 [==============================] - 0s 3ms/step - loss: 0.0043 - sparse_categorical_accuracy: 1.0000\n",
      "Epoch 129/200\n",
      "10/10 [==============================] - 0s 3ms/step - loss: 0.0042 - sparse_categorical_accuracy: 1.0000\n",
      "Epoch 130/200\n",
      "10/10 [==============================] - 0s 3ms/step - loss: 0.0042 - sparse_categorical_accuracy: 1.0000\n",
      "Epoch 131/200\n",
      "10/10 [==============================] - 0s 2ms/step - loss: 0.0041 - sparse_categorical_accuracy: 1.0000\n",
      "Epoch 132/200\n",
      "10/10 [==============================] - 0s 3ms/step - loss: 0.0041 - sparse_categorical_accuracy: 1.0000\n",
      "Epoch 133/200\n",
      "10/10 [==============================] - 0s 2ms/step - loss: 0.0040 - sparse_categorical_accuracy: 1.0000\n",
      "Epoch 134/200\n",
      "10/10 [==============================] - 0s 3ms/step - loss: 0.0039 - sparse_categorical_accuracy: 1.0000\n",
      "Epoch 135/200\n",
      "10/10 [==============================] - 0s 3ms/step - loss: 0.0038 - sparse_categorical_accuracy: 1.0000\n",
      "Epoch 136/200\n",
      "10/10 [==============================] - 0s 3ms/step - loss: 0.0038 - sparse_categorical_accuracy: 1.0000\n",
      "Epoch 137/200\n",
      "10/10 [==============================] - 0s 2ms/step - loss: 0.0036 - sparse_categorical_accuracy: 1.0000\n",
      "Epoch 138/200\n",
      "10/10 [==============================] - 0s 2ms/step - loss: 0.0037 - sparse_categorical_accuracy: 1.0000\n",
      "Epoch 139/200\n",
      "10/10 [==============================] - 0s 3ms/step - loss: 0.0036 - sparse_categorical_accuracy: 1.0000\n",
      "Epoch 140/200\n",
      "10/10 [==============================] - 0s 3ms/step - loss: 0.0036 - sparse_categorical_accuracy: 1.0000\n",
      "Epoch 141/200\n",
      "10/10 [==============================] - 0s 2ms/step - loss: 0.0035 - sparse_categorical_accuracy: 1.0000\n",
      "Epoch 142/200\n",
      "10/10 [==============================] - 0s 2ms/step - loss: 0.0034 - sparse_categorical_accuracy: 1.0000\n",
      "Epoch 143/200\n",
      "10/10 [==============================] - 0s 3ms/step - loss: 0.0033 - sparse_categorical_accuracy: 1.0000\n",
      "Epoch 144/200\n",
      "10/10 [==============================] - 0s 3ms/step - loss: 0.0033 - sparse_categorical_accuracy: 1.0000\n",
      "Epoch 145/200\n",
      "10/10 [==============================] - 0s 3ms/step - loss: 0.0032 - sparse_categorical_accuracy: 1.0000\n",
      "Epoch 146/200\n",
      "10/10 [==============================] - 0s 3ms/step - loss: 0.0032 - sparse_categorical_accuracy: 1.0000\n",
      "Epoch 147/200\n",
      "10/10 [==============================] - 0s 3ms/step - loss: 0.0032 - sparse_categorical_accuracy: 1.0000\n",
      "Epoch 148/200\n",
      "10/10 [==============================] - 0s 3ms/step - loss: 0.0031 - sparse_categorical_accuracy: 1.0000\n",
      "Epoch 149/200\n",
      "10/10 [==============================] - 0s 3ms/step - loss: 0.0031 - sparse_categorical_accuracy: 1.0000\n",
      "Epoch 150/200\n",
      "10/10 [==============================] - 0s 3ms/step - loss: 0.0031 - sparse_categorical_accuracy: 1.0000\n",
      "Epoch 151/200\n",
      "10/10 [==============================] - 0s 3ms/step - loss: 0.0030 - sparse_categorical_accuracy: 1.0000\n",
      "Epoch 152/200\n",
      "10/10 [==============================] - 0s 4ms/step - loss: 0.0030 - sparse_categorical_accuracy: 1.0000\n",
      "Epoch 153/200\n",
      "10/10 [==============================] - 0s 3ms/step - loss: 0.0029 - sparse_categorical_accuracy: 1.0000\n",
      "Epoch 154/200\n",
      "10/10 [==============================] - 0s 3ms/step - loss: 0.0029 - sparse_categorical_accuracy: 1.0000\n",
      "Epoch 155/200\n",
      "10/10 [==============================] - 0s 3ms/step - loss: 0.0028 - sparse_categorical_accuracy: 1.0000\n",
      "Epoch 156/200\n",
      "10/10 [==============================] - 0s 3ms/step - loss: 0.0028 - sparse_categorical_accuracy: 1.0000\n",
      "Epoch 157/200\n",
      "10/10 [==============================] - 0s 3ms/step - loss: 0.0027 - sparse_categorical_accuracy: 1.0000\n",
      "Epoch 158/200\n",
      "10/10 [==============================] - 0s 3ms/step - loss: 0.0027 - sparse_categorical_accuracy: 1.0000\n",
      "Epoch 159/200\n",
      "10/10 [==============================] - 0s 3ms/step - loss: 0.0026 - sparse_categorical_accuracy: 1.0000\n",
      "Epoch 160/200\n",
      "10/10 [==============================] - 0s 3ms/step - loss: 0.0026 - sparse_categorical_accuracy: 1.0000\n",
      "Epoch 161/200\n",
      "10/10 [==============================] - 0s 3ms/step - loss: 0.0026 - sparse_categorical_accuracy: 1.0000\n",
      "Epoch 162/200\n",
      "10/10 [==============================] - 0s 4ms/step - loss: 0.0026 - sparse_categorical_accuracy: 1.0000\n",
      "Epoch 163/200\n",
      "10/10 [==============================] - 0s 3ms/step - loss: 0.0025 - sparse_categorical_accuracy: 1.0000\n",
      "Epoch 164/200\n",
      "10/10 [==============================] - 0s 3ms/step - loss: 0.0025 - sparse_categorical_accuracy: 1.0000\n",
      "Epoch 165/200\n",
      "10/10 [==============================] - 0s 3ms/step - loss: 0.0025 - sparse_categorical_accuracy: 1.0000\n",
      "Epoch 166/200\n",
      "10/10 [==============================] - 0s 3ms/step - loss: 0.0025 - sparse_categorical_accuracy: 1.0000\n",
      "Epoch 167/200\n",
      "10/10 [==============================] - 0s 3ms/step - loss: 0.0024 - sparse_categorical_accuracy: 1.0000\n",
      "Epoch 168/200\n",
      "10/10 [==============================] - 0s 3ms/step - loss: 0.0024 - sparse_categorical_accuracy: 1.0000\n",
      "Epoch 169/200\n",
      "10/10 [==============================] - 0s 3ms/step - loss: 0.0023 - sparse_categorical_accuracy: 1.0000\n",
      "Epoch 170/200\n",
      "10/10 [==============================] - 0s 2ms/step - loss: 0.0023 - sparse_categorical_accuracy: 1.0000\n",
      "Epoch 171/200\n",
      "10/10 [==============================] - 0s 3ms/step - loss: 0.0022 - sparse_categorical_accuracy: 1.0000\n",
      "Epoch 172/200\n",
      "10/10 [==============================] - 0s 2ms/step - loss: 0.0022 - sparse_categorical_accuracy: 1.0000\n",
      "Epoch 173/200\n",
      "10/10 [==============================] - 0s 3ms/step - loss: 0.0022 - sparse_categorical_accuracy: 1.0000\n",
      "Epoch 174/200\n",
      "10/10 [==============================] - 0s 2ms/step - loss: 0.0022 - sparse_categorical_accuracy: 1.0000\n",
      "Epoch 175/200\n",
      "10/10 [==============================] - 0s 3ms/step - loss: 0.0021 - sparse_categorical_accuracy: 1.0000\n",
      "Epoch 176/200\n",
      "10/10 [==============================] - 0s 2ms/step - loss: 0.0021 - sparse_categorical_accuracy: 1.0000\n",
      "Epoch 177/200\n",
      "10/10 [==============================] - 0s 3ms/step - loss: 0.0021 - sparse_categorical_accuracy: 1.0000\n",
      "Epoch 178/200\n",
      "10/10 [==============================] - 0s 3ms/step - loss: 0.0021 - sparse_categorical_accuracy: 1.0000\n",
      "Epoch 179/200\n",
      "10/10 [==============================] - 0s 3ms/step - loss: 0.0021 - sparse_categorical_accuracy: 1.0000\n",
      "Epoch 180/200\n",
      "10/10 [==============================] - 0s 3ms/step - loss: 0.0020 - sparse_categorical_accuracy: 1.0000\n",
      "Epoch 181/200\n",
      "10/10 [==============================] - 0s 3ms/step - loss: 0.0020 - sparse_categorical_accuracy: 1.0000\n",
      "Epoch 182/200\n",
      "10/10 [==============================] - 0s 2ms/step - loss: 0.0019 - sparse_categorical_accuracy: 1.0000\n",
      "Epoch 183/200\n",
      "10/10 [==============================] - 0s 3ms/step - loss: 0.0020 - sparse_categorical_accuracy: 1.0000\n",
      "Epoch 184/200\n",
      "10/10 [==============================] - 0s 3ms/step - loss: 0.0019 - sparse_categorical_accuracy: 1.0000\n",
      "Epoch 185/200\n",
      "10/10 [==============================] - 0s 3ms/step - loss: 0.0019 - sparse_categorical_accuracy: 1.0000\n",
      "Epoch 186/200\n",
      "10/10 [==============================] - 0s 2ms/step - loss: 0.0018 - sparse_categorical_accuracy: 1.0000\n",
      "Epoch 187/200\n",
      "10/10 [==============================] - 0s 3ms/step - loss: 0.0018 - sparse_categorical_accuracy: 1.0000\n",
      "Epoch 188/200\n",
      "10/10 [==============================] - 0s 3ms/step - loss: 0.0018 - sparse_categorical_accuracy: 1.0000\n",
      "Epoch 189/200\n",
      "10/10 [==============================] - 0s 3ms/step - loss: 0.0018 - sparse_categorical_accuracy: 1.0000\n",
      "Epoch 190/200\n",
      "10/10 [==============================] - 0s 3ms/step - loss: 0.0018 - sparse_categorical_accuracy: 1.0000\n",
      "Epoch 191/200\n",
      "10/10 [==============================] - 0s 3ms/step - loss: 0.0017 - sparse_categorical_accuracy: 1.0000\n",
      "Epoch 192/200\n",
      "10/10 [==============================] - 0s 3ms/step - loss: 0.0017 - sparse_categorical_accuracy: 1.0000\n",
      "Epoch 193/200\n",
      "10/10 [==============================] - 0s 3ms/step - loss: 0.0017 - sparse_categorical_accuracy: 1.0000\n",
      "Epoch 194/200\n",
      "10/10 [==============================] - 0s 3ms/step - loss: 0.0017 - sparse_categorical_accuracy: 1.0000\n",
      "Epoch 195/200\n",
      "10/10 [==============================] - 0s 3ms/step - loss: 0.0017 - sparse_categorical_accuracy: 1.0000\n",
      "Epoch 196/200\n",
      "10/10 [==============================] - 0s 3ms/step - loss: 0.0016 - sparse_categorical_accuracy: 1.0000\n",
      "Epoch 197/200\n",
      "10/10 [==============================] - 0s 3ms/step - loss: 0.0016 - sparse_categorical_accuracy: 1.0000\n",
      "Epoch 198/200\n",
      "10/10 [==============================] - 0s 3ms/step - loss: 0.0016 - sparse_categorical_accuracy: 1.0000\n",
      "Epoch 199/200\n",
      "10/10 [==============================] - 0s 3ms/step - loss: 0.0016 - sparse_categorical_accuracy: 1.0000\n",
      "Epoch 200/200\n",
      "10/10 [==============================] - 0s 3ms/step - loss: 0.0016 - sparse_categorical_accuracy: 1.0000\n"
     ]
    }
   ],
   "source": [
    "model = Sequential()\n",
    "model.add(Dense(50, input_dim=10, activation='swish'))\n",
    "model.add(Dense(10, activation='softmax'))\n",
    "model.compile(loss=keras.losses.SparseCategoricalCrossentropy(from_logits=True), metrics=keras.metrics.SparseCategoricalAccuracy(), optimizer=\"adam\")\n",
    "history = model.fit(X_train, y_train, epochs=200)\n"
   ]
  },
  {
   "cell_type": "code",
   "execution_count": 225,
   "metadata": {
    "colab": {
     "base_uri": "https://localhost:8080/"
    },
    "id": "u7eSWbw7MmIH",
    "outputId": "953eeebd-1d21-4130-9094-012653b6bbcd"
   },
   "outputs": [
    {
     "data": {
      "text/plain": [
       "0.9924812030075187"
      ]
     },
     "execution_count": 225,
     "metadata": {},
     "output_type": "execute_result"
    }
   ],
   "source": [
    "preds = model.predict(X_test)\n",
    "y_classes = preds.argmax(axis=-1)\n",
    "sklearn.metrics.f1_score(y_test, y_classes)\n"
   ]
  },
  {
   "cell_type": "markdown",
   "metadata": {
    "id": "ES-Nupg3yw3X"
   },
   "source": [
    "**4b)** Which activation worked best and what is your hypothesis as to why?"
   ]
  },
  {
   "cell_type": "code",
   "execution_count": null,
   "metadata": {
    "id": "v5Lwu0_Oy8ZB"
   },
   "outputs": [],
   "source": [
    "bestactivation = 'tanh and swish worked as well. probably because they are mostly similar' #@param {type:\"string\"}"
   ]
  },
  {
   "cell_type": "markdown",
   "metadata": {
    "id": "-C-yTusJxCpd"
   },
   "source": [
    "**5)** Create at least 3 *deeper* network models (between 4 and 20 layers), with more layers of whatever units performed best on **4b** (still using whatever package performed best on **2b**).  "
   ]
  },
  {
   "cell_type": "code",
   "execution_count": null,
   "metadata": {
    "id": "qjN-4MNRwjwh"
   },
   "outputs": [],
   "source": []
  },
  {
   "cell_type": "markdown",
   "metadata": {
    "id": "kzHd5AM6xtt5"
   },
   "source": [
    "**5b)** Which depth performed best?"
   ]
  },
  {
   "cell_type": "code",
   "execution_count": 226,
   "metadata": {
    "id": "KT7-vNc2xhk7"
   },
   "outputs": [],
   "source": [
    "bestdepth = 0 #@param {type:\"number\"}"
   ]
  },
  {
   "cell_type": "markdown",
   "metadata": {
    "id": "Keny82CcwbKO"
   },
   "source": [
    "**6)** Perform a regression task on your data using a final linear unit, OR a multi-classification task using the softmax unit. You can use Keras OR PyTorch."
   ]
  },
  {
   "cell_type": "code",
   "execution_count": null,
   "metadata": {
    "id": "vqZArp77wkes"
   },
   "outputs": [],
   "source": []
  },
  {
   "cell_type": "markdown",
   "metadata": {
    "id": "XnSeaHxzz1lB"
   },
   "source": [
    "#@markdown **6b)** Briefly explain what you are predicting, why, and your interpretation of your results.\n",
    "complexpredict = 'value' #@param {type:\"string\"}"
   ]
  },
  {
   "cell_type": "markdown",
   "metadata": {
    "id": "3uRgVXLiPBY-"
   },
   "source": [
    "**7)** Use the Captum library on your model (6 above) and use it to discover the relative importance of input features for the ultimate prediction, and the combination of those features in higher-order features (e.g., neurons) within the model."
   ]
  },
  {
   "cell_type": "code",
   "execution_count": null,
   "metadata": {
    "id": "Vx85n41SPBY-"
   },
   "outputs": [],
   "source": [
    "#@markdown **7b)** Briefly explain your interpretation of what matters and why based on your Attribution results.\n",
    "complexpredict = 'value' #@param {type:\"string\"}"
   ]
  },
  {
   "cell_type": "markdown",
   "metadata": {
    "id": "7AGHPklPwwtw"
   },
   "source": [
    "## ***Hint***\n",
    "Here is a reasonably sized dataset that we load for you using pandas. You can use it for this homework, or follow the steps to load your own for use in the machine learning tasks above.\n",
    "\n",
    "Note that if using PyTorch you will be converting the values to Tensors.\n",
    "\n",
    "You can get the dataset by the link:\n",
    "\n",
    "https://drive.google.com/file/d/1XQrT4mAeOb79tmkNFFiPFIU4-N9JH7px/view?usp=sharing\n",
    "\n",
    "The dataset comes from Kaggle:\n",
    "\n",
    "https://www.kaggle.com/fedesoriano/company-bankruptcy-prediction"
   ]
  },
  {
   "cell_type": "code",
   "execution_count": null,
   "metadata": {
    "id": "PzxYiEVKuZx5"
   },
   "outputs": [],
   "source": [
    "import pandas as pd"
   ]
  },
  {
   "cell_type": "code",
   "execution_count": null,
   "metadata": {
    "id": "FzVXdGyWubfT"
   },
   "outputs": [],
   "source": [
    "bankruptcy_df = pd.read_csv(path_to_file)"
   ]
  },
  {
   "cell_type": "code",
   "execution_count": null,
   "metadata": {
    "id": "Unxhw9lbaelx"
   },
   "outputs": [],
   "source": [
    "#@markdown How many hours did it take you to complete this homework?\n",
    "hours = 1 #@param {type:\"number\"}"
   ]
  },
  {
   "cell_type": "code",
   "execution_count": null,
   "metadata": {
    "id": "2lxPrzNzakAA"
   },
   "outputs": [],
   "source": [
    "#@markdown How hard was this homework?\n",
    "too_easy_too_hard = 2.4 #@param {type:\"slider\", min:0, max:10, step:0.1}"
   ]
  }
 ],
 "metadata": {
  "accelerator": "GPU",
  "colab": {
   "collapsed_sections": [],
   "name": "tutorial_2_intro_neural_nets.ipynb",
   "provenance": []
  },
  "kernelspec": {
   "display_name": "Python 3 (ipykernel)",
   "language": "python",
   "name": "python3"
  },
  "language_info": {
   "codemirror_mode": {
    "name": "ipython",
    "version": 3
   },
   "file_extension": ".py",
   "mimetype": "text/x-python",
   "name": "python",
   "nbconvert_exporter": "python",
   "pygments_lexer": "ipython3",
   "version": "3.8.8"
  }
 },
 "nbformat": 4,
 "nbformat_minor": 1
}
